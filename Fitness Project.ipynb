{
 "cells": [
  {
   "cell_type": "markdown",
   "id": "09dd4881",
   "metadata": {},
   "source": [
    "# Brief Introduction and Orientation\n",
    "\n",
    "- One of the major roles or tasks of being a data analyst or a data scientist is the indepth evaluation of data beyond what a layman can see in that same data, and deriving possible insights from the data in order to solve present or future problems, to increase revenue and to maximize profits (indirectly to prevent to stop losses).\n",
    "- There is no data analysis without data, so the first step is to acquire the data, read or open the data, and then examine or analyze the data."
   ]
  },
  {
   "cell_type": "code",
   "execution_count": null,
   "id": "2a31d241",
   "metadata": {},
   "outputs": [],
   "source": []
  },
  {
   "cell_type": "markdown",
   "id": "96f8de34",
   "metadata": {},
   "source": [
    "# The first step is to import pandas and other analytical tools like numpy."
   ]
  },
  {
   "cell_type": "code",
   "execution_count": 3,
   "id": "669f26f8",
   "metadata": {},
   "outputs": [],
   "source": [
    "import numpy as np\n",
    "import pandas as pd\n",
    "\n",
    "pd.set_option(\"display.max_columns\", None)"
   ]
  },
  {
   "cell_type": "code",
   "execution_count": null,
   "id": "91304315",
   "metadata": {},
   "outputs": [],
   "source": []
  },
  {
   "cell_type": "code",
   "execution_count": 4,
   "id": "430d3932",
   "metadata": {},
   "outputs": [],
   "source": [
    "\"\"\" The file pathway is called and the csv file is read using pandas\"\"\"\n",
    "\n",
    "url = r\"C:\\Users\\User\\Desktop\\Alied Tech\\Data Science AI Tech\\Project\\Data Cleaning and processing\\CardioGoodFitness-1.csv\"\n",
    "\n",
    "fitness = pd.read_csv(url)"
   ]
  },
  {
   "cell_type": "code",
   "execution_count": null,
   "id": "f6c4fc02",
   "metadata": {},
   "outputs": [],
   "source": []
  },
  {
   "cell_type": "markdown",
   "id": "d3ec6b89",
   "metadata": {},
   "source": [
    "# Exploring The Data"
   ]
  },
  {
   "cell_type": "code",
   "execution_count": 6,
   "id": "679ac6dd",
   "metadata": {},
   "outputs": [
    {
     "data": {
      "text/html": [
       "<div>\n",
       "<style scoped>\n",
       "    .dataframe tbody tr th:only-of-type {\n",
       "        vertical-align: middle;\n",
       "    }\n",
       "\n",
       "    .dataframe tbody tr th {\n",
       "        vertical-align: top;\n",
       "    }\n",
       "\n",
       "    .dataframe thead th {\n",
       "        text-align: right;\n",
       "    }\n",
       "</style>\n",
       "<table border=\"1\" class=\"dataframe\">\n",
       "  <thead>\n",
       "    <tr style=\"text-align: right;\">\n",
       "      <th></th>\n",
       "      <th>Product</th>\n",
       "      <th>Age</th>\n",
       "      <th>Gender</th>\n",
       "      <th>Education</th>\n",
       "      <th>MaritalStatus</th>\n",
       "      <th>Usage</th>\n",
       "      <th>Fitness</th>\n",
       "      <th>Income</th>\n",
       "      <th>Miles</th>\n",
       "    </tr>\n",
       "  </thead>\n",
       "  <tbody>\n",
       "    <tr>\n",
       "      <th>0</th>\n",
       "      <td>TM195</td>\n",
       "      <td>18</td>\n",
       "      <td>Male</td>\n",
       "      <td>14</td>\n",
       "      <td>Single</td>\n",
       "      <td>3</td>\n",
       "      <td>4</td>\n",
       "      <td>29562</td>\n",
       "      <td>112</td>\n",
       "    </tr>\n",
       "    <tr>\n",
       "      <th>1</th>\n",
       "      <td>TM195</td>\n",
       "      <td>19</td>\n",
       "      <td>Male</td>\n",
       "      <td>15</td>\n",
       "      <td>Single</td>\n",
       "      <td>2</td>\n",
       "      <td>3</td>\n",
       "      <td>31836</td>\n",
       "      <td>75</td>\n",
       "    </tr>\n",
       "    <tr>\n",
       "      <th>2</th>\n",
       "      <td>TM195</td>\n",
       "      <td>19</td>\n",
       "      <td>Female</td>\n",
       "      <td>14</td>\n",
       "      <td>Partnered</td>\n",
       "      <td>4</td>\n",
       "      <td>3</td>\n",
       "      <td>30699</td>\n",
       "      <td>66</td>\n",
       "    </tr>\n",
       "    <tr>\n",
       "      <th>3</th>\n",
       "      <td>TM195</td>\n",
       "      <td>19</td>\n",
       "      <td>Male</td>\n",
       "      <td>12</td>\n",
       "      <td>Single</td>\n",
       "      <td>3</td>\n",
       "      <td>3</td>\n",
       "      <td>32973</td>\n",
       "      <td>85</td>\n",
       "    </tr>\n",
       "    <tr>\n",
       "      <th>4</th>\n",
       "      <td>TM195</td>\n",
       "      <td>20</td>\n",
       "      <td>Male</td>\n",
       "      <td>13</td>\n",
       "      <td>Partnered</td>\n",
       "      <td>4</td>\n",
       "      <td>2</td>\n",
       "      <td>35247</td>\n",
       "      <td>47</td>\n",
       "    </tr>\n",
       "  </tbody>\n",
       "</table>\n",
       "</div>"
      ],
      "text/plain": [
       "  Product  Age  Gender  Education MaritalStatus  Usage  Fitness  Income  Miles\n",
       "0   TM195   18    Male         14        Single      3        4   29562    112\n",
       "1   TM195   19    Male         15        Single      2        3   31836     75\n",
       "2   TM195   19  Female         14     Partnered      4        3   30699     66\n",
       "3   TM195   19    Male         12        Single      3        3   32973     85\n",
       "4   TM195   20    Male         13     Partnered      4        2   35247     47"
      ]
     },
     "execution_count": 6,
     "metadata": {},
     "output_type": "execute_result"
    }
   ],
   "source": [
    "#the first 5 rows are read, to have an overview of how the data looks like.\n",
    "\n",
    "fitness.head()"
   ]
  },
  {
   "cell_type": "code",
   "execution_count": null,
   "id": "3dbf44b1",
   "metadata": {},
   "outputs": [],
   "source": []
  },
  {
   "cell_type": "code",
   "execution_count": 53,
   "id": "36a95b08",
   "metadata": {},
   "outputs": [
    {
     "data": {
      "text/plain": [
       "(180, 9)"
      ]
     },
     "execution_count": 53,
     "metadata": {},
     "output_type": "execute_result"
    }
   ],
   "source": [
    "#Getting the dimension (dataframe) of the data.\n",
    "\n",
    "fitness.shape"
   ]
  },
  {
   "cell_type": "markdown",
   "id": "6dcba7cd",
   "metadata": {},
   "source": [
    "- the data has 180 rows and 9 columns."
   ]
  },
  {
   "cell_type": "code",
   "execution_count": 8,
   "id": "baef5ce7",
   "metadata": {},
   "outputs": [
    {
     "data": {
      "text/html": [
       "<div>\n",
       "<style scoped>\n",
       "    .dataframe tbody tr th:only-of-type {\n",
       "        vertical-align: middle;\n",
       "    }\n",
       "\n",
       "    .dataframe tbody tr th {\n",
       "        vertical-align: top;\n",
       "    }\n",
       "\n",
       "    .dataframe thead th {\n",
       "        text-align: right;\n",
       "    }\n",
       "</style>\n",
       "<table border=\"1\" class=\"dataframe\">\n",
       "  <thead>\n",
       "    <tr style=\"text-align: right;\">\n",
       "      <th></th>\n",
       "      <th>Product</th>\n",
       "      <th>Age</th>\n",
       "      <th>Gender</th>\n",
       "      <th>Education</th>\n",
       "      <th>MaritalStatus</th>\n",
       "      <th>Usage</th>\n",
       "      <th>Fitness</th>\n",
       "      <th>Income</th>\n",
       "      <th>Miles</th>\n",
       "    </tr>\n",
       "  </thead>\n",
       "  <tbody>\n",
       "    <tr>\n",
       "      <th>83</th>\n",
       "      <td>TM498</td>\n",
       "      <td>20</td>\n",
       "      <td>Male</td>\n",
       "      <td>14</td>\n",
       "      <td>Single</td>\n",
       "      <td>3</td>\n",
       "      <td>3</td>\n",
       "      <td>38658</td>\n",
       "      <td>95</td>\n",
       "    </tr>\n",
       "    <tr>\n",
       "      <th>12</th>\n",
       "      <td>TM195</td>\n",
       "      <td>22</td>\n",
       "      <td>Female</td>\n",
       "      <td>16</td>\n",
       "      <td>Single</td>\n",
       "      <td>4</td>\n",
       "      <td>3</td>\n",
       "      <td>36384</td>\n",
       "      <td>75</td>\n",
       "    </tr>\n",
       "    <tr>\n",
       "      <th>89</th>\n",
       "      <td>TM498</td>\n",
       "      <td>23</td>\n",
       "      <td>Female</td>\n",
       "      <td>16</td>\n",
       "      <td>Single</td>\n",
       "      <td>3</td>\n",
       "      <td>3</td>\n",
       "      <td>45480</td>\n",
       "      <td>95</td>\n",
       "    </tr>\n",
       "    <tr>\n",
       "      <th>108</th>\n",
       "      <td>TM498</td>\n",
       "      <td>26</td>\n",
       "      <td>Female</td>\n",
       "      <td>16</td>\n",
       "      <td>Partnered</td>\n",
       "      <td>4</td>\n",
       "      <td>3</td>\n",
       "      <td>45480</td>\n",
       "      <td>85</td>\n",
       "    </tr>\n",
       "    <tr>\n",
       "      <th>134</th>\n",
       "      <td>TM498</td>\n",
       "      <td>38</td>\n",
       "      <td>Male</td>\n",
       "      <td>16</td>\n",
       "      <td>Partnered</td>\n",
       "      <td>3</td>\n",
       "      <td>3</td>\n",
       "      <td>59124</td>\n",
       "      <td>106</td>\n",
       "    </tr>\n",
       "  </tbody>\n",
       "</table>\n",
       "</div>"
      ],
      "text/plain": [
       "    Product  Age  Gender  Education MaritalStatus  Usage  Fitness  Income  \\\n",
       "83    TM498   20    Male         14        Single      3        3   38658   \n",
       "12    TM195   22  Female         16        Single      4        3   36384   \n",
       "89    TM498   23  Female         16        Single      3        3   45480   \n",
       "108   TM498   26  Female         16     Partnered      4        3   45480   \n",
       "134   TM498   38    Male         16     Partnered      3        3   59124   \n",
       "\n",
       "     Miles  \n",
       "83      95  \n",
       "12      75  \n",
       "89      95  \n",
       "108     85  \n",
       "134    106  "
      ]
     },
     "execution_count": 8,
     "metadata": {},
     "output_type": "execute_result"
    }
   ],
   "source": [
    "# Getting random rows from the data\n",
    "\n",
    "fitness.sample(5)\n"
   ]
  },
  {
   "cell_type": "markdown",
   "id": "e2d3d0ca",
   "metadata": {},
   "source": [
    "- Married was indicated as \"Partnered\" and it didn't specify if there are divorced, separated, widows or widowers. "
   ]
  },
  {
   "cell_type": "code",
   "execution_count": 147,
   "id": "8f4211e1",
   "metadata": {},
   "outputs": [
    {
     "name": "stdout",
     "output_type": "stream",
     "text": [
      "<class 'pandas.core.frame.DataFrame'>\n",
      "RangeIndex: 180 entries, 0 to 179\n",
      "Data columns (total 9 columns):\n",
      " #   Column         Non-Null Count  Dtype \n",
      "---  ------         --------------  ----- \n",
      " 0   Product        180 non-null    object\n",
      " 1   Age            180 non-null    int64 \n",
      " 2   Gender         180 non-null    object\n",
      " 3   Education      180 non-null    int64 \n",
      " 4   MaritalStatus  180 non-null    object\n",
      " 5   Usage          180 non-null    int64 \n",
      " 6   Fitness        180 non-null    int64 \n",
      " 7   Income         180 non-null    int64 \n",
      " 8   Miles          180 non-null    int64 \n",
      "dtypes: int64(6), object(3)\n",
      "memory usage: 12.8+ KB\n"
     ]
    }
   ],
   "source": [
    "\"\"\"Getting comprehensive info about the data\"\"\"\n",
    "\n",
    "\n",
    "fitness.info()"
   ]
  },
  {
   "cell_type": "markdown",
   "id": "58548592",
   "metadata": {},
   "source": [
    "- The columns have 3 \"object\" and 6 \"integer\" data types. The data types match what is expected from the respective column headers."
   ]
  },
  {
   "cell_type": "code",
   "execution_count": null,
   "id": "bf6a8084",
   "metadata": {},
   "outputs": [],
   "source": []
  },
  {
   "cell_type": "code",
   "execution_count": 9,
   "id": "546640a0",
   "metadata": {},
   "outputs": [
    {
     "data": {
      "text/plain": [
       "0"
      ]
     },
     "execution_count": 9,
     "metadata": {},
     "output_type": "execute_result"
    }
   ],
   "source": [
    "#Checking for duplicates\n",
    "\n",
    "fitness.duplicated().sum()"
   ]
  },
  {
   "cell_type": "markdown",
   "id": "7e080ce7",
   "metadata": {},
   "source": [
    "- the data have no duplicates."
   ]
  },
  {
   "cell_type": "code",
   "execution_count": null,
   "id": "fffcc131",
   "metadata": {},
   "outputs": [],
   "source": []
  },
  {
   "cell_type": "code",
   "execution_count": 15,
   "id": "26b7171e",
   "metadata": {},
   "outputs": [
    {
     "data": {
      "text/html": [
       "<div>\n",
       "<style scoped>\n",
       "    .dataframe tbody tr th:only-of-type {\n",
       "        vertical-align: middle;\n",
       "    }\n",
       "\n",
       "    .dataframe tbody tr th {\n",
       "        vertical-align: top;\n",
       "    }\n",
       "\n",
       "    .dataframe thead th {\n",
       "        text-align: right;\n",
       "    }\n",
       "</style>\n",
       "<table border=\"1\" class=\"dataframe\">\n",
       "  <thead>\n",
       "    <tr style=\"text-align: right;\">\n",
       "      <th></th>\n",
       "      <th>Age</th>\n",
       "      <th>Education</th>\n",
       "      <th>Usage</th>\n",
       "      <th>Fitness</th>\n",
       "      <th>Income</th>\n",
       "      <th>Miles</th>\n",
       "    </tr>\n",
       "  </thead>\n",
       "  <tbody>\n",
       "    <tr>\n",
       "      <th>Age</th>\n",
       "      <td>1.000000</td>\n",
       "      <td>0.280496</td>\n",
       "      <td>0.015064</td>\n",
       "      <td>0.061105</td>\n",
       "      <td>0.513414</td>\n",
       "      <td>0.036618</td>\n",
       "    </tr>\n",
       "    <tr>\n",
       "      <th>Education</th>\n",
       "      <td>0.280496</td>\n",
       "      <td>1.000000</td>\n",
       "      <td>0.395155</td>\n",
       "      <td>0.410581</td>\n",
       "      <td>0.625827</td>\n",
       "      <td>0.307284</td>\n",
       "    </tr>\n",
       "    <tr>\n",
       "      <th>Usage</th>\n",
       "      <td>0.015064</td>\n",
       "      <td>0.395155</td>\n",
       "      <td>1.000000</td>\n",
       "      <td>0.668606</td>\n",
       "      <td>0.519537</td>\n",
       "      <td>0.759130</td>\n",
       "    </tr>\n",
       "    <tr>\n",
       "      <th>Fitness</th>\n",
       "      <td>0.061105</td>\n",
       "      <td>0.410581</td>\n",
       "      <td>0.668606</td>\n",
       "      <td>1.000000</td>\n",
       "      <td>0.535005</td>\n",
       "      <td>0.785702</td>\n",
       "    </tr>\n",
       "    <tr>\n",
       "      <th>Income</th>\n",
       "      <td>0.513414</td>\n",
       "      <td>0.625827</td>\n",
       "      <td>0.519537</td>\n",
       "      <td>0.535005</td>\n",
       "      <td>1.000000</td>\n",
       "      <td>0.543473</td>\n",
       "    </tr>\n",
       "    <tr>\n",
       "      <th>Miles</th>\n",
       "      <td>0.036618</td>\n",
       "      <td>0.307284</td>\n",
       "      <td>0.759130</td>\n",
       "      <td>0.785702</td>\n",
       "      <td>0.543473</td>\n",
       "      <td>1.000000</td>\n",
       "    </tr>\n",
       "  </tbody>\n",
       "</table>\n",
       "</div>"
      ],
      "text/plain": [
       "                Age  Education     Usage   Fitness    Income     Miles\n",
       "Age        1.000000   0.280496  0.015064  0.061105  0.513414  0.036618\n",
       "Education  0.280496   1.000000  0.395155  0.410581  0.625827  0.307284\n",
       "Usage      0.015064   0.395155  1.000000  0.668606  0.519537  0.759130\n",
       "Fitness    0.061105   0.410581  0.668606  1.000000  0.535005  0.785702\n",
       "Income     0.513414   0.625827  0.519537  0.535005  1.000000  0.543473\n",
       "Miles      0.036618   0.307284  0.759130  0.785702  0.543473  1.000000"
      ]
     },
     "execution_count": 15,
     "metadata": {},
     "output_type": "execute_result"
    }
   ],
   "source": [
    "\"\"\"Checking how the variables correlate with one another.\"\"\"\n",
    "\n",
    "fitness.corr()"
   ]
  },
  {
   "cell_type": "markdown",
   "id": "851b36c7",
   "metadata": {},
   "source": [
    "- The data do not have negative correlation.\n",
    "- Some of the variables have high correlation with others. For example, miles and fitness, miles and usage.\n",
    "- In addition, the  correlation between some attributes are negligible or does not correlate (for example, \"Age\" and \"Fitness\")."
   ]
  },
  {
   "cell_type": "code",
   "execution_count": null,
   "id": "879ac9eb",
   "metadata": {},
   "outputs": [],
   "source": []
  },
  {
   "cell_type": "code",
   "execution_count": 13,
   "id": "a6f3280d",
   "metadata": {},
   "outputs": [
    {
     "data": {
      "text/plain": [
       "Product          0\n",
       "Age              0\n",
       "Gender           0\n",
       "Education        0\n",
       "MaritalStatus    0\n",
       "Usage            0\n",
       "Fitness          0\n",
       "Income           0\n",
       "Miles            0\n",
       "dtype: int64"
      ]
     },
     "execution_count": 13,
     "metadata": {},
     "output_type": "execute_result"
    }
   ],
   "source": [
    "\"\"\"More importantly is to check for missing values\"\"\"\n",
    "\n",
    "# both codes or methods below (isna and isnull) have similar functions and can sometimes be used interchangeably.\n",
    "\n",
    "fitness.isnull().sum()\n",
    "\n",
    "fitness.isna().sum()"
   ]
  },
  {
   "cell_type": "markdown",
   "id": "f9b8069e",
   "metadata": {},
   "source": [
    "- It indicated that there are no missing data. More confirmation would be done using the \"describe\" method."
   ]
  },
  {
   "cell_type": "code",
   "execution_count": null,
   "id": "f8e50487",
   "metadata": {},
   "outputs": [],
   "source": []
  },
  {
   "cell_type": "code",
   "execution_count": 11,
   "id": "51f589be",
   "metadata": {},
   "outputs": [
    {
     "data": {
      "text/html": [
       "<div>\n",
       "<style scoped>\n",
       "    .dataframe tbody tr th:only-of-type {\n",
       "        vertical-align: middle;\n",
       "    }\n",
       "\n",
       "    .dataframe tbody tr th {\n",
       "        vertical-align: top;\n",
       "    }\n",
       "\n",
       "    .dataframe thead th {\n",
       "        text-align: right;\n",
       "    }\n",
       "</style>\n",
       "<table border=\"1\" class=\"dataframe\">\n",
       "  <thead>\n",
       "    <tr style=\"text-align: right;\">\n",
       "      <th></th>\n",
       "      <th>Age</th>\n",
       "      <th>Education</th>\n",
       "      <th>Usage</th>\n",
       "      <th>Fitness</th>\n",
       "      <th>Income</th>\n",
       "      <th>Miles</th>\n",
       "    </tr>\n",
       "  </thead>\n",
       "  <tbody>\n",
       "    <tr>\n",
       "      <th>count</th>\n",
       "      <td>180.000000</td>\n",
       "      <td>180.000000</td>\n",
       "      <td>180.000000</td>\n",
       "      <td>180.000000</td>\n",
       "      <td>180.000000</td>\n",
       "      <td>180.000000</td>\n",
       "    </tr>\n",
       "    <tr>\n",
       "      <th>mean</th>\n",
       "      <td>28.788889</td>\n",
       "      <td>15.572222</td>\n",
       "      <td>3.455556</td>\n",
       "      <td>3.311111</td>\n",
       "      <td>53719.577778</td>\n",
       "      <td>103.194444</td>\n",
       "    </tr>\n",
       "    <tr>\n",
       "      <th>std</th>\n",
       "      <td>6.943498</td>\n",
       "      <td>1.617055</td>\n",
       "      <td>1.084797</td>\n",
       "      <td>0.958869</td>\n",
       "      <td>16506.684226</td>\n",
       "      <td>51.863605</td>\n",
       "    </tr>\n",
       "    <tr>\n",
       "      <th>min</th>\n",
       "      <td>18.000000</td>\n",
       "      <td>12.000000</td>\n",
       "      <td>2.000000</td>\n",
       "      <td>1.000000</td>\n",
       "      <td>29562.000000</td>\n",
       "      <td>21.000000</td>\n",
       "    </tr>\n",
       "    <tr>\n",
       "      <th>25%</th>\n",
       "      <td>24.000000</td>\n",
       "      <td>14.000000</td>\n",
       "      <td>3.000000</td>\n",
       "      <td>3.000000</td>\n",
       "      <td>44058.750000</td>\n",
       "      <td>66.000000</td>\n",
       "    </tr>\n",
       "    <tr>\n",
       "      <th>50%</th>\n",
       "      <td>26.000000</td>\n",
       "      <td>16.000000</td>\n",
       "      <td>3.000000</td>\n",
       "      <td>3.000000</td>\n",
       "      <td>50596.500000</td>\n",
       "      <td>94.000000</td>\n",
       "    </tr>\n",
       "    <tr>\n",
       "      <th>75%</th>\n",
       "      <td>33.000000</td>\n",
       "      <td>16.000000</td>\n",
       "      <td>4.000000</td>\n",
       "      <td>4.000000</td>\n",
       "      <td>58668.000000</td>\n",
       "      <td>114.750000</td>\n",
       "    </tr>\n",
       "    <tr>\n",
       "      <th>max</th>\n",
       "      <td>50.000000</td>\n",
       "      <td>21.000000</td>\n",
       "      <td>7.000000</td>\n",
       "      <td>5.000000</td>\n",
       "      <td>104581.000000</td>\n",
       "      <td>360.000000</td>\n",
       "    </tr>\n",
       "  </tbody>\n",
       "</table>\n",
       "</div>"
      ],
      "text/plain": [
       "              Age   Education       Usage     Fitness         Income  \\\n",
       "count  180.000000  180.000000  180.000000  180.000000     180.000000   \n",
       "mean    28.788889   15.572222    3.455556    3.311111   53719.577778   \n",
       "std      6.943498    1.617055    1.084797    0.958869   16506.684226   \n",
       "min     18.000000   12.000000    2.000000    1.000000   29562.000000   \n",
       "25%     24.000000   14.000000    3.000000    3.000000   44058.750000   \n",
       "50%     26.000000   16.000000    3.000000    3.000000   50596.500000   \n",
       "75%     33.000000   16.000000    4.000000    4.000000   58668.000000   \n",
       "max     50.000000   21.000000    7.000000    5.000000  104581.000000   \n",
       "\n",
       "            Miles  \n",
       "count  180.000000  \n",
       "mean   103.194444  \n",
       "std     51.863605  \n",
       "min     21.000000  \n",
       "25%     66.000000  \n",
       "50%     94.000000  \n",
       "75%    114.750000  \n",
       "max    360.000000  "
      ]
     },
     "execution_count": 11,
     "metadata": {},
     "output_type": "execute_result"
    }
   ],
   "source": [
    "# Getting statistical knowledge of the data (precisely the numerical variables).\n",
    "\n",
    "fitness.describe()"
   ]
  },
  {
   "cell_type": "markdown",
   "id": "88d9996b",
   "metadata": {},
   "source": [
    "- The oldest customer is 50 years. The youngest is 18 years, while the average age is 28.78 years.\n",
    "\n",
    "- Minimum years in education is 12, while the maximum is 21."
   ]
  },
  {
   "cell_type": "code",
   "execution_count": 12,
   "id": "d81c068f",
   "metadata": {},
   "outputs": [
    {
     "data": {
      "text/html": [
       "<div>\n",
       "<style scoped>\n",
       "    .dataframe tbody tr th:only-of-type {\n",
       "        vertical-align: middle;\n",
       "    }\n",
       "\n",
       "    .dataframe tbody tr th {\n",
       "        vertical-align: top;\n",
       "    }\n",
       "\n",
       "    .dataframe thead th {\n",
       "        text-align: right;\n",
       "    }\n",
       "</style>\n",
       "<table border=\"1\" class=\"dataframe\">\n",
       "  <thead>\n",
       "    <tr style=\"text-align: right;\">\n",
       "      <th></th>\n",
       "      <th>count</th>\n",
       "      <th>unique</th>\n",
       "      <th>top</th>\n",
       "      <th>freq</th>\n",
       "      <th>mean</th>\n",
       "      <th>std</th>\n",
       "      <th>min</th>\n",
       "      <th>25%</th>\n",
       "      <th>50%</th>\n",
       "      <th>75%</th>\n",
       "      <th>max</th>\n",
       "    </tr>\n",
       "  </thead>\n",
       "  <tbody>\n",
       "    <tr>\n",
       "      <th>Product</th>\n",
       "      <td>180</td>\n",
       "      <td>3</td>\n",
       "      <td>TM195</td>\n",
       "      <td>80</td>\n",
       "      <td>NaN</td>\n",
       "      <td>NaN</td>\n",
       "      <td>NaN</td>\n",
       "      <td>NaN</td>\n",
       "      <td>NaN</td>\n",
       "      <td>NaN</td>\n",
       "      <td>NaN</td>\n",
       "    </tr>\n",
       "    <tr>\n",
       "      <th>Age</th>\n",
       "      <td>180.0</td>\n",
       "      <td>NaN</td>\n",
       "      <td>NaN</td>\n",
       "      <td>NaN</td>\n",
       "      <td>28.788889</td>\n",
       "      <td>6.943498</td>\n",
       "      <td>18.0</td>\n",
       "      <td>24.0</td>\n",
       "      <td>26.0</td>\n",
       "      <td>33.0</td>\n",
       "      <td>50.0</td>\n",
       "    </tr>\n",
       "    <tr>\n",
       "      <th>Gender</th>\n",
       "      <td>180</td>\n",
       "      <td>2</td>\n",
       "      <td>Male</td>\n",
       "      <td>104</td>\n",
       "      <td>NaN</td>\n",
       "      <td>NaN</td>\n",
       "      <td>NaN</td>\n",
       "      <td>NaN</td>\n",
       "      <td>NaN</td>\n",
       "      <td>NaN</td>\n",
       "      <td>NaN</td>\n",
       "    </tr>\n",
       "    <tr>\n",
       "      <th>Education</th>\n",
       "      <td>180.0</td>\n",
       "      <td>NaN</td>\n",
       "      <td>NaN</td>\n",
       "      <td>NaN</td>\n",
       "      <td>15.572222</td>\n",
       "      <td>1.617055</td>\n",
       "      <td>12.0</td>\n",
       "      <td>14.0</td>\n",
       "      <td>16.0</td>\n",
       "      <td>16.0</td>\n",
       "      <td>21.0</td>\n",
       "    </tr>\n",
       "    <tr>\n",
       "      <th>MaritalStatus</th>\n",
       "      <td>180</td>\n",
       "      <td>2</td>\n",
       "      <td>Partnered</td>\n",
       "      <td>107</td>\n",
       "      <td>NaN</td>\n",
       "      <td>NaN</td>\n",
       "      <td>NaN</td>\n",
       "      <td>NaN</td>\n",
       "      <td>NaN</td>\n",
       "      <td>NaN</td>\n",
       "      <td>NaN</td>\n",
       "    </tr>\n",
       "    <tr>\n",
       "      <th>Usage</th>\n",
       "      <td>180.0</td>\n",
       "      <td>NaN</td>\n",
       "      <td>NaN</td>\n",
       "      <td>NaN</td>\n",
       "      <td>3.455556</td>\n",
       "      <td>1.084797</td>\n",
       "      <td>2.0</td>\n",
       "      <td>3.0</td>\n",
       "      <td>3.0</td>\n",
       "      <td>4.0</td>\n",
       "      <td>7.0</td>\n",
       "    </tr>\n",
       "    <tr>\n",
       "      <th>Fitness</th>\n",
       "      <td>180.0</td>\n",
       "      <td>NaN</td>\n",
       "      <td>NaN</td>\n",
       "      <td>NaN</td>\n",
       "      <td>3.311111</td>\n",
       "      <td>0.958869</td>\n",
       "      <td>1.0</td>\n",
       "      <td>3.0</td>\n",
       "      <td>3.0</td>\n",
       "      <td>4.0</td>\n",
       "      <td>5.0</td>\n",
       "    </tr>\n",
       "    <tr>\n",
       "      <th>Income</th>\n",
       "      <td>180.0</td>\n",
       "      <td>NaN</td>\n",
       "      <td>NaN</td>\n",
       "      <td>NaN</td>\n",
       "      <td>53719.577778</td>\n",
       "      <td>16506.684226</td>\n",
       "      <td>29562.0</td>\n",
       "      <td>44058.75</td>\n",
       "      <td>50596.5</td>\n",
       "      <td>58668.0</td>\n",
       "      <td>104581.0</td>\n",
       "    </tr>\n",
       "    <tr>\n",
       "      <th>Miles</th>\n",
       "      <td>180.0</td>\n",
       "      <td>NaN</td>\n",
       "      <td>NaN</td>\n",
       "      <td>NaN</td>\n",
       "      <td>103.194444</td>\n",
       "      <td>51.863605</td>\n",
       "      <td>21.0</td>\n",
       "      <td>66.0</td>\n",
       "      <td>94.0</td>\n",
       "      <td>114.75</td>\n",
       "      <td>360.0</td>\n",
       "    </tr>\n",
       "  </tbody>\n",
       "</table>\n",
       "</div>"
      ],
      "text/plain": [
       "               count unique        top freq          mean           std  \\\n",
       "Product          180      3      TM195   80           NaN           NaN   \n",
       "Age            180.0    NaN        NaN  NaN     28.788889      6.943498   \n",
       "Gender           180      2       Male  104           NaN           NaN   \n",
       "Education      180.0    NaN        NaN  NaN     15.572222      1.617055   \n",
       "MaritalStatus    180      2  Partnered  107           NaN           NaN   \n",
       "Usage          180.0    NaN        NaN  NaN      3.455556      1.084797   \n",
       "Fitness        180.0    NaN        NaN  NaN      3.311111      0.958869   \n",
       "Income         180.0    NaN        NaN  NaN  53719.577778  16506.684226   \n",
       "Miles          180.0    NaN        NaN  NaN    103.194444     51.863605   \n",
       "\n",
       "                   min       25%      50%      75%       max  \n",
       "Product            NaN       NaN      NaN      NaN       NaN  \n",
       "Age               18.0      24.0     26.0     33.0      50.0  \n",
       "Gender             NaN       NaN      NaN      NaN       NaN  \n",
       "Education         12.0      14.0     16.0     16.0      21.0  \n",
       "MaritalStatus      NaN       NaN      NaN      NaN       NaN  \n",
       "Usage              2.0       3.0      3.0      4.0       7.0  \n",
       "Fitness            1.0       3.0      3.0      4.0       5.0  \n",
       "Income         29562.0  44058.75  50596.5  58668.0  104581.0  \n",
       "Miles             21.0      66.0     94.0   114.75     360.0  "
      ]
     },
     "execution_count": 12,
     "metadata": {},
     "output_type": "execute_result"
    }
   ],
   "source": [
    "\"\"\"Further exploring the entire data (numerical and non-numerical) for null values in any row or column\"\"\"\n",
    "\n",
    "fitness.describe(include= \"all\").T"
   ]
  },
  {
   "cell_type": "markdown",
   "id": "399bfb44",
   "metadata": {},
   "source": [
    "\n",
    "- Most of the customers are married (partnered).\n",
    "\n",
    "- There are 3 unique products of which TM195 is the most common.\n",
    "\n",
    "- The maximum self rated fitness of the customers is 5 (very fit), while the lowest is 1 (not fit or very unfit)."
   ]
  },
  {
   "cell_type": "code",
   "execution_count": null,
   "id": "29832283",
   "metadata": {},
   "outputs": [],
   "source": []
  },
  {
   "cell_type": "markdown",
   "id": "afe48ee2",
   "metadata": {},
   "source": [
    "Checking the unique values or objects in each column."
   ]
  },
  {
   "cell_type": "code",
   "execution_count": 26,
   "id": "877f6dca",
   "metadata": {},
   "outputs": [
    {
     "data": {
      "text/plain": [
       "array(['TM195', 'TM498', 'TM798'], dtype=object)"
      ]
     },
     "execution_count": 26,
     "metadata": {},
     "output_type": "execute_result"
    }
   ],
   "source": [
    "\"\"\"checking for nan in 'Product' column, using the unique method\"\"\"\n",
    "\n",
    "fitness.Product.unique()"
   ]
  },
  {
   "cell_type": "code",
   "execution_count": 18,
   "id": "0fa94cc1",
   "metadata": {},
   "outputs": [
    {
     "data": {
      "text/plain": [
       "array([18, 19, 20, 21, 22, 23, 24, 25, 26, 27, 28, 29, 30, 31, 32, 33, 34,\n",
       "       35, 36, 37, 38, 39, 40, 41, 43, 44, 46, 47, 50, 45, 48, 42],\n",
       "      dtype=int64)"
      ]
     },
     "execution_count": 18,
     "metadata": {},
     "output_type": "execute_result"
    }
   ],
   "source": [
    "\"\"\"checking for nan in 'Age' column, using the unique method\"\"\"\n",
    "\n",
    "fitness.Age.unique()"
   ]
  },
  {
   "cell_type": "code",
   "execution_count": 27,
   "id": "00a40046",
   "metadata": {},
   "outputs": [
    {
     "data": {
      "text/plain": [
       "array(['Male', 'Female'], dtype=object)"
      ]
     },
     "execution_count": 27,
     "metadata": {},
     "output_type": "execute_result"
    }
   ],
   "source": [
    "\"\"\"checking for nan in 'Gender' column, using the unique method\"\"\"\n",
    "\n",
    "fitness.Gender.unique()"
   ]
  },
  {
   "cell_type": "code",
   "execution_count": 28,
   "id": "7f0f528d",
   "metadata": {},
   "outputs": [
    {
     "data": {
      "text/plain": [
       "array([14, 15, 12, 13, 16, 18, 20, 21], dtype=int64)"
      ]
     },
     "execution_count": 28,
     "metadata": {},
     "output_type": "execute_result"
    }
   ],
   "source": [
    "\"\"\"checking for nan in 'Education' column, using the unique method\"\"\"\n",
    "\n",
    "fitness.Education.unique()"
   ]
  },
  {
   "cell_type": "code",
   "execution_count": 29,
   "id": "d2622f88",
   "metadata": {},
   "outputs": [
    {
     "data": {
      "text/plain": [
       "array(['Single', 'Partnered'], dtype=object)"
      ]
     },
     "execution_count": 29,
     "metadata": {},
     "output_type": "execute_result"
    }
   ],
   "source": [
    "\"\"\"checking for nan in 'MaritalStatus' column, using the unique method\"\"\"\n",
    "\n",
    "fitness.MaritalStatus.unique()"
   ]
  },
  {
   "cell_type": "code",
   "execution_count": 30,
   "id": "38903642",
   "metadata": {},
   "outputs": [
    {
     "data": {
      "text/plain": [
       "array([3, 2, 4, 5, 6, 7], dtype=int64)"
      ]
     },
     "execution_count": 30,
     "metadata": {},
     "output_type": "execute_result"
    }
   ],
   "source": [
    "\"\"\"checking for nan in 'Usage' column, using the unique method\"\"\"\n",
    "\n",
    "fitness.Usage.unique()"
   ]
  },
  {
   "cell_type": "code",
   "execution_count": 31,
   "id": "fed3f1f3",
   "metadata": {},
   "outputs": [
    {
     "data": {
      "text/plain": [
       "array([4, 3, 2, 1, 5], dtype=int64)"
      ]
     },
     "execution_count": 31,
     "metadata": {},
     "output_type": "execute_result"
    }
   ],
   "source": [
    "\"\"\"checking for nan in 'Fitness' column, using the unique method\"\"\"\n",
    "\n",
    "fitness.Fitness.unique()"
   ]
  },
  {
   "cell_type": "code",
   "execution_count": 32,
   "id": "800ed177",
   "metadata": {},
   "outputs": [
    {
     "data": {
      "text/plain": [
       "array([ 29562,  31836,  30699,  32973,  35247,  37521,  36384,  38658,\n",
       "        40932,  34110,  39795,  42069,  44343,  45480,  46617,  48891,\n",
       "        53439,  43206,  52302,  51165,  50028,  54576,  68220,  55713,\n",
       "        60261,  67083,  56850,  59124,  61398,  57987,  64809,  47754,\n",
       "        65220,  62535,  48658,  54781,  48556,  58516,  53536,  61006,\n",
       "        57271,  52291,  49801,  62251,  64741,  70966,  75946,  74701,\n",
       "        69721,  83416,  88396,  90886,  92131,  77191,  52290,  85906,\n",
       "       103336,  99601,  89641,  95866, 104581,  95508], dtype=int64)"
      ]
     },
     "execution_count": 32,
     "metadata": {},
     "output_type": "execute_result"
    }
   ],
   "source": [
    "\"\"\"checking for nan in 'Income' column, using the unique method\"\"\"\n",
    "fitness.Income.unique()"
   ]
  },
  {
   "cell_type": "code",
   "execution_count": 33,
   "id": "1984f025",
   "metadata": {},
   "outputs": [
    {
     "data": {
      "text/plain": [
       "array([112,  75,  66,  85,  47, 141, 103,  94, 113,  38, 188,  56, 132,\n",
       "       169,  64,  53, 106,  95, 212,  42, 127,  74, 170,  21, 120, 200,\n",
       "       140, 100,  80, 160, 180, 240, 150, 300, 280, 260, 360], dtype=int64)"
      ]
     },
     "execution_count": 33,
     "metadata": {},
     "output_type": "execute_result"
    }
   ],
   "source": [
    "\"\"\"checking for nan in 'Miles' column, using the unique method\"\"\"\n",
    "fitness.Miles.unique()"
   ]
  },
  {
   "cell_type": "markdown",
   "id": "90a43167",
   "metadata": {},
   "source": [
    "- Through the \"description\" command probing, no nan was discovered from the entire column."
   ]
  },
  {
   "cell_type": "code",
   "execution_count": null,
   "id": "1c364e23",
   "metadata": {},
   "outputs": [],
   "source": []
  },
  {
   "cell_type": "markdown",
   "id": "ae38d05a",
   "metadata": {},
   "source": [
    "# Data Visualization."
   ]
  },
  {
   "cell_type": "code",
   "execution_count": 37,
   "id": "642c2a2b",
   "metadata": {},
   "outputs": [],
   "source": [
    "\"\"\"importing seaborn and matplotlib, which are the visualizing tools to be used in plotting the clean data\"\"\"\n",
    "\n",
    "import matplotlib.pyplot as plt\n",
    "\n",
    "import seaborn as sb"
   ]
  },
  {
   "cell_type": "code",
   "execution_count": 34,
   "id": "2056a45d",
   "metadata": {},
   "outputs": [
    {
     "data": {
      "text/html": [
       "<div>\n",
       "<style scoped>\n",
       "    .dataframe tbody tr th:only-of-type {\n",
       "        vertical-align: middle;\n",
       "    }\n",
       "\n",
       "    .dataframe tbody tr th {\n",
       "        vertical-align: top;\n",
       "    }\n",
       "\n",
       "    .dataframe thead th {\n",
       "        text-align: right;\n",
       "    }\n",
       "</style>\n",
       "<table border=\"1\" class=\"dataframe\">\n",
       "  <thead>\n",
       "    <tr style=\"text-align: right;\">\n",
       "      <th></th>\n",
       "      <th>Product</th>\n",
       "      <th>Age</th>\n",
       "      <th>Gender</th>\n",
       "      <th>Education</th>\n",
       "      <th>MaritalStatus</th>\n",
       "      <th>Usage</th>\n",
       "      <th>Fitness</th>\n",
       "      <th>Income</th>\n",
       "      <th>Miles</th>\n",
       "    </tr>\n",
       "  </thead>\n",
       "  <tbody>\n",
       "    <tr>\n",
       "      <th>0</th>\n",
       "      <td>TM195</td>\n",
       "      <td>18</td>\n",
       "      <td>Male</td>\n",
       "      <td>14</td>\n",
       "      <td>Single</td>\n",
       "      <td>3</td>\n",
       "      <td>4</td>\n",
       "      <td>29562</td>\n",
       "      <td>112</td>\n",
       "    </tr>\n",
       "    <tr>\n",
       "      <th>1</th>\n",
       "      <td>TM195</td>\n",
       "      <td>19</td>\n",
       "      <td>Male</td>\n",
       "      <td>15</td>\n",
       "      <td>Single</td>\n",
       "      <td>2</td>\n",
       "      <td>3</td>\n",
       "      <td>31836</td>\n",
       "      <td>75</td>\n",
       "    </tr>\n",
       "    <tr>\n",
       "      <th>2</th>\n",
       "      <td>TM195</td>\n",
       "      <td>19</td>\n",
       "      <td>Female</td>\n",
       "      <td>14</td>\n",
       "      <td>Partnered</td>\n",
       "      <td>4</td>\n",
       "      <td>3</td>\n",
       "      <td>30699</td>\n",
       "      <td>66</td>\n",
       "    </tr>\n",
       "    <tr>\n",
       "      <th>3</th>\n",
       "      <td>TM195</td>\n",
       "      <td>19</td>\n",
       "      <td>Male</td>\n",
       "      <td>12</td>\n",
       "      <td>Single</td>\n",
       "      <td>3</td>\n",
       "      <td>3</td>\n",
       "      <td>32973</td>\n",
       "      <td>85</td>\n",
       "    </tr>\n",
       "    <tr>\n",
       "      <th>4</th>\n",
       "      <td>TM195</td>\n",
       "      <td>20</td>\n",
       "      <td>Male</td>\n",
       "      <td>13</td>\n",
       "      <td>Partnered</td>\n",
       "      <td>4</td>\n",
       "      <td>2</td>\n",
       "      <td>35247</td>\n",
       "      <td>47</td>\n",
       "    </tr>\n",
       "  </tbody>\n",
       "</table>\n",
       "</div>"
      ],
      "text/plain": [
       "  Product  Age  Gender  Education MaritalStatus  Usage  Fitness  Income  Miles\n",
       "0   TM195   18    Male         14        Single      3        4   29562    112\n",
       "1   TM195   19    Male         15        Single      2        3   31836     75\n",
       "2   TM195   19  Female         14     Partnered      4        3   30699     66\n",
       "3   TM195   19    Male         12        Single      3        3   32973     85\n",
       "4   TM195   20    Male         13     Partnered      4        2   35247     47"
      ]
     },
     "execution_count": 34,
     "metadata": {},
     "output_type": "execute_result"
    }
   ],
   "source": [
    "\"\"\"loading the data set again and exploying the first 5 rows\"\"\"\n",
    "\n",
    "fitness.head()"
   ]
  },
  {
   "cell_type": "markdown",
   "id": "efdc9cfa",
   "metadata": {},
   "source": [
    "- Since the data is clean, visualization is next.\n",
    "\n",
    "- The necessary and visualization tools have been imported already."
   ]
  },
  {
   "cell_type": "code",
   "execution_count": null,
   "id": "f17d0ce6",
   "metadata": {},
   "outputs": [],
   "source": []
  },
  {
   "cell_type": "markdown",
   "id": "a544593d",
   "metadata": {},
   "source": [
    "# Univariate Analysis\n",
    "\n",
    "- The target output in this data is the product. \n",
    "\n",
    "- Checking how the variables affect/contribute to the usage of the products and vice versa through using visualization approach  will be done in the remaining stages of this analysis."
   ]
  },
  {
   "cell_type": "code",
   "execution_count": 38,
   "id": "b2c5915e",
   "metadata": {},
   "outputs": [
    {
     "data": {
      "image/png": "[encoded data removed]",
      "text/plain": [
       "<Figure size 640x480 with 1 Axes>"
      ]
     },
     "metadata": {},
     "output_type": "display_data"
    }
   ],
   "source": [
    "\"\"\"Histogram plot for the 'Age' variable\"\"\"\n",
    "\n",
    "sb.histplot(data= fitness, x = \"Age\", kde= True);"
   ]
  },
  {
   "cell_type": "markdown",
   "id": "306c0fe4",
   "metadata": {},
   "source": [
    "- This is a plot of Age (x-axis) against count (y-axis)\n",
    "- The highest number of customers are 25 years, with the lowest around ~ 43 and 50 years.\n",
    "- The distribution plot is tailed towards the right (right-skewed), which means the most of the customers are above 25 years (though the highest customer count is for age 25).\n",
    "- The right-skewness implies that the mean is higher than the median (although not so much difference in this case), and in most cases would also flags the presence of outliers in the data."
   ]
  },
  {
   "cell_type": "code",
   "execution_count": 151,
   "id": "cad15df0",
   "metadata": {},
   "outputs": [
    {
     "data": {
      "text/plain": [
       "count    180.000000\n",
       "mean      28.788889\n",
       "std        6.943498\n",
       "min       18.000000\n",
       "25%       24.000000\n",
       "50%       26.000000\n",
       "75%       33.000000\n",
       "max       50.000000\n",
       "Name: Age, dtype: float64"
      ]
     },
     "execution_count": 151,
     "metadata": {},
     "output_type": "execute_result"
    }
   ],
   "source": [
    "\"\"\"checking for the description of the Age variable\"\"\"\n",
    "\n",
    "fitness.Age.describe()"
   ]
  },
  {
   "cell_type": "code",
   "execution_count": 152,
   "id": "d274853e",
   "metadata": {},
   "outputs": [
    {
     "data": {
      "image/png": "[encoded data removed]",
      "text/plain": [
       "<Figure size 640x480 with 1 Axes>"
      ]
     },
     "metadata": {},
     "output_type": "display_data"
    }
   ],
   "source": [
    "\"\"\"Using boxplot to further visualize the data\"\"\"\n",
    "\n",
    "sb.boxplot(data= fitness, x=\"Age\");"
   ]
  },
  {
   "cell_type": "markdown",
   "id": "2240e645",
   "metadata": {},
   "source": [
    "- The boxplot shows that 25% of the customers are 24 years old (precisely between 18 and 24 years), meaning 75% of the customers are above 24 years old.\n",
    "- The supposed outlier is around ages 46 - 50 years.\n",
    "- The lowest age of customer is 18 years.\n",
    "- The median age of the customers is 26years, which also means that 50% of the customers are 26 years old and below, while 75% of the customers are 33 years and below. This invariably means that only 25% of the customers are above 33 years of age."
   ]
  },
  {
   "cell_type": "code",
   "execution_count": null,
   "id": "5eb4d0a2",
   "metadata": {},
   "outputs": [],
   "source": []
  },
  {
   "cell_type": "code",
   "execution_count": 154,
   "id": "7c0c3898",
   "metadata": {},
   "outputs": [
    {
     "data": {
      "image/png": "[encoded data removed]",
      "text/plain": [
       "<Figure size 640x480 with 1 Axes>"
      ]
     },
     "metadata": {},
     "output_type": "display_data"
    }
   ],
   "source": [
    "\"\"\"Visualizing the 'Income' variable\"\"\"\n",
    "\n",
    "\n",
    "sb.histplot(data= fitness, x = \"Income\", kde= True);"
   ]
  },
  {
   "cell_type": "code",
   "execution_count": null,
   "id": "b0dcc7bb",
   "metadata": {},
   "outputs": [],
   "source": []
  },
  {
   "cell_type": "code",
   "execution_count": 155,
   "id": "16e52e37",
   "metadata": {},
   "outputs": [
    {
     "data": {
      "image/png": "[encoded data removed]",
      "text/plain": [
       "<Figure size 640x480 with 1 Axes>"
      ]
     },
     "metadata": {},
     "output_type": "display_data"
    }
   ],
   "source": [
    "\"\"\"Further visualization of the 'Income' variable using boxplot\"\"\"\n",
    "\n",
    "\n",
    "sb.boxplot(data= fitness, x=\"Income\");"
   ]
  },
  {
   "cell_type": "markdown",
   "id": "2b4cefc1",
   "metadata": {},
   "source": [
    "- The highest income of customers is 104,581, with the lowest is 29,562.\n",
    "- The distribution plot is a little tailed towards the right (right-skewed).\n",
    "- The boxplot shows that the income of 25% of the customers is below 44,058. This means that 75% of the customers earns above 44.058.\n",
    "- The median income of the customers is 50,596, which also means that 50% of the customers earns 50,596 and below.\n",
    "- While 75% of the customers receives an income of 58,668. This also means that only 25% of the customers earns above 58668."
   ]
  },
  {
   "cell_type": "code",
   "execution_count": 156,
   "id": "08d2831a",
   "metadata": {},
   "outputs": [
    {
     "data": {
      "text/plain": [
       "count       180.000000\n",
       "mean      53719.577778\n",
       "std       16506.684226\n",
       "min       29562.000000\n",
       "25%       44058.750000\n",
       "50%       50596.500000\n",
       "75%       58668.000000\n",
       "max      104581.000000\n",
       "Name: Income, dtype: float64"
      ]
     },
     "execution_count": 156,
     "metadata": {},
     "output_type": "execute_result"
    }
   ],
   "source": [
    "\"\"\"Checking the description of the 'Income' variable\"\"\"\n",
    "\n",
    "fitness.Income.describe()"
   ]
  },
  {
   "cell_type": "code",
   "execution_count": null,
   "id": "6a72bc69",
   "metadata": {},
   "outputs": [],
   "source": []
  },
  {
   "cell_type": "markdown",
   "id": "a55bd3b9",
   "metadata": {},
   "source": [
    "# Categorical Plot\n",
    "\n",
    "- Visualizing the categorical variables."
   ]
  },
  {
   "cell_type": "code",
   "execution_count": 157,
   "id": "cd76146b",
   "metadata": {},
   "outputs": [
    {
     "data": {
      "image/png": "[encoded data removed]",
      "text/plain": [
       "<Figure size 640x480 with 1 Axes>"
      ]
     },
     "metadata": {},
     "output_type": "display_data"
    }
   ],
   "source": [
    "\"\"\"Visualizing the 'Gender' variable using countplot\"\"\"\n",
    "\n",
    "sb.countplot(data= fitness, x = \"Gender\");"
   ]
  },
  {
   "cell_type": "markdown",
   "id": "1243c049",
   "metadata": {},
   "source": [
    "- Majority of the customers are male. Precisely 104 out of the 180 customers are male.\n",
    "- 76 out of the 180 customers are female."
   ]
  },
  {
   "cell_type": "code",
   "execution_count": 158,
   "id": "2ffd52e6",
   "metadata": {},
   "outputs": [
    {
     "data": {
      "text/plain": [
       "count      180\n",
       "unique       2\n",
       "top       Male\n",
       "freq       104\n",
       "Name: Gender, dtype: object"
      ]
     },
     "execution_count": 158,
     "metadata": {},
     "output_type": "execute_result"
    }
   ],
   "source": [
    "\"\"\"Checking the description of the 'Gender' variable\"\"\"\n",
    "\n",
    "fitness.Gender.describe()"
   ]
  },
  {
   "cell_type": "code",
   "execution_count": null,
   "id": "59a343aa",
   "metadata": {},
   "outputs": [],
   "source": []
  },
  {
   "cell_type": "code",
   "execution_count": 159,
   "id": "0cbbced6",
   "metadata": {},
   "outputs": [
    {
     "data": {
      "image/png": "[encoded data removed]",
      "text/plain": [
       "<Figure size 640x480 with 1 Axes>"
      ]
     },
     "metadata": {},
     "output_type": "display_data"
    }
   ],
   "source": [
    "\"\"\"Visualizing the 'MaritalStatus' variable using countplot\"\"\"\n",
    "\n",
    "sb.countplot(data= fitness, x = \"MaritalStatus\");"
   ]
  },
  {
   "cell_type": "markdown",
   "id": "9a7deb5c",
   "metadata": {},
   "source": [
    "- Majority of the customers are Partnered (married). \n",
    "- Precisely 107 of the total 180 customers are partnered.\n",
    "- While, 73 out of the 180 customers are single."
   ]
  },
  {
   "cell_type": "code",
   "execution_count": 162,
   "id": "2bc338e6",
   "metadata": {},
   "outputs": [
    {
     "data": {
      "text/plain": [
       "count           180\n",
       "unique            2\n",
       "top       Partnered\n",
       "freq            107\n",
       "Name: MaritalStatus, dtype: object"
      ]
     },
     "execution_count": 162,
     "metadata": {},
     "output_type": "execute_result"
    }
   ],
   "source": [
    "\"\"\"Checking the description of the 'MaritalStatus' variable\"\"\"\n",
    "\n",
    "fitness.MaritalStatus.describe()"
   ]
  },
  {
   "cell_type": "code",
   "execution_count": null,
   "id": "c7028d49",
   "metadata": {},
   "outputs": [],
   "source": []
  },
  {
   "cell_type": "code",
   "execution_count": 163,
   "id": "2f8a1ca6",
   "metadata": {},
   "outputs": [
    {
     "data": {
      "image/png": "[encoded data removed]",
      "text/plain": [
       "<Figure size 640x480 with 1 Axes>"
      ]
     },
     "metadata": {},
     "output_type": "display_data"
    }
   ],
   "source": [
    "\"\"\"Visualizing the 'Product' variable using countplot\"\"\"\n",
    "\n",
    "sb.countplot(data= fitness, x = \"Product\");"
   ]
  },
  {
   "cell_type": "markdown",
   "id": "ee8d8dd7",
   "metadata": {},
   "source": [
    "- Majority of the customers (80 out of the 180 customers) use the TM195 treadmill product. \n",
    "- This is followed by TM498 product which 60 out of the 180 customers use.\n",
    "- The least used product is the TM798 product, which has a statistical from 40 out of the 180 customers."
   ]
  },
  {
   "cell_type": "code",
   "execution_count": 164,
   "id": "fa317ec6",
   "metadata": {},
   "outputs": [
    {
     "data": {
      "text/plain": [
       "count       180\n",
       "unique        3\n",
       "top       TM195\n",
       "freq         80\n",
       "Name: Product, dtype: object"
      ]
     },
     "execution_count": 164,
     "metadata": {},
     "output_type": "execute_result"
    }
   ],
   "source": [
    "\"\"\"Describing the 'Product' variable\"\"\"\n",
    "\n",
    "fitness.Product.describe()"
   ]
  },
  {
   "cell_type": "code",
   "execution_count": null,
   "id": "4a807004",
   "metadata": {},
   "outputs": [],
   "source": []
  },
  {
   "cell_type": "code",
   "execution_count": 165,
   "id": "97def7d0",
   "metadata": {},
   "outputs": [
    {
     "data": {
      "image/png": "[encoded data removed]",
      "text/plain": [
       "<Figure size 640x480 with 1 Axes>"
      ]
     },
     "metadata": {},
     "output_type": "display_data"
    }
   ],
   "source": [
    "\"\"\"Visualizing the 'Education' variable using countplot\"\"\"\n",
    "\n",
    "sb.countplot(data= fitness, x = \"Education\");"
   ]
  },
  {
   "cell_type": "markdown",
   "id": "03f9787c",
   "metadata": {},
   "source": [
    "- Majority (75%) of the customers have 16 years of education.\n",
    "\n",
    "- The maximum years of education of the customers is 21 years, while the minimum is 12 years."
   ]
  },
  {
   "cell_type": "code",
   "execution_count": 166,
   "id": "9511ba00",
   "metadata": {},
   "outputs": [
    {
     "data": {
      "text/plain": [
       "count    180.000000\n",
       "mean      15.572222\n",
       "std        1.617055\n",
       "min       12.000000\n",
       "25%       14.000000\n",
       "50%       16.000000\n",
       "75%       16.000000\n",
       "max       21.000000\n",
       "Name: Education, dtype: float64"
      ]
     },
     "execution_count": 166,
     "metadata": {},
     "output_type": "execute_result"
    }
   ],
   "source": [
    "\"\"\"Describing the 'Education' variable\"\"\"\n",
    "\n",
    "fitness.Education.describe()"
   ]
  },
  {
   "cell_type": "code",
   "execution_count": null,
   "id": "535664be",
   "metadata": {},
   "outputs": [],
   "source": []
  },
  {
   "cell_type": "code",
   "execution_count": 168,
   "id": "1ef49611",
   "metadata": {},
   "outputs": [
    {
     "data": {
      "image/png": "[encoded data removed]",
      "text/plain": [
       "<Figure size 640x480 with 1 Axes>"
      ]
     },
     "metadata": {},
     "output_type": "display_data"
    }
   ],
   "source": [
    "\"\"\"Visualizing the 'Usage' variable using countplot\"\"\"\n",
    "\n",
    "sb.countplot(data= fitness, x = \"Usage\");"
   ]
  },
  {
   "cell_type": "markdown",
   "id": "1da21a31",
   "metadata": {},
   "source": [
    "- Most of the customers like to use the treadmill thress time per week.\n",
    "\n",
    "- The highest number of times a customer wants to use the treadmill weekly is 7 times, while the lowest is twice a week.\n",
    "\n",
    "- On average, the customers want to use the treadmill ~ 3 times in one week."
   ]
  },
  {
   "cell_type": "code",
   "execution_count": 169,
   "id": "2a714786",
   "metadata": {},
   "outputs": [
    {
     "data": {
      "text/plain": [
       "count    180.000000\n",
       "mean       3.455556\n",
       "std        1.084797\n",
       "min        2.000000\n",
       "25%        3.000000\n",
       "50%        3.000000\n",
       "75%        4.000000\n",
       "max        7.000000\n",
       "Name: Usage, dtype: float64"
      ]
     },
     "execution_count": 169,
     "metadata": {},
     "output_type": "execute_result"
    }
   ],
   "source": [
    "\"\"\"Checking the description of the 'Usage' variable\"\"\"\n",
    "\n",
    "fitness.Usage.describe()"
   ]
  },
  {
   "cell_type": "code",
   "execution_count": null,
   "id": "b6ffe49f",
   "metadata": {},
   "outputs": [],
   "source": []
  },
  {
   "cell_type": "code",
   "execution_count": 170,
   "id": "95c1a13f",
   "metadata": {},
   "outputs": [
    {
     "data": {
      "image/png": "[encoded data removed]",
      "text/plain": [
       "<Figure size 640x480 with 1 Axes>"
      ]
     },
     "metadata": {},
     "output_type": "display_data"
    }
   ],
   "source": [
    "\"\"\"Visualizing the 'Fitness' variable using countplot\"\"\"\n",
    "\n",
    "sb.countplot(data= fitness, x = \"Fitness\");"
   ]
  },
  {
   "cell_type": "markdown",
   "id": "cc55228e",
   "metadata": {},
   "source": [
    "- The larger number of customers have self rated fitness score as 3. This level of grading also correspond to the average fitness rating of all the customers.\n",
    "\n",
    "- The highest fitness level the customers have is 5 (very fit), while the lowest fitness rating of the customers is 1."
   ]
  },
  {
   "cell_type": "code",
   "execution_count": 171,
   "id": "c5edc24f",
   "metadata": {},
   "outputs": [
    {
     "data": {
      "text/plain": [
       "count    180.000000\n",
       "mean       3.311111\n",
       "std        0.958869\n",
       "min        1.000000\n",
       "25%        3.000000\n",
       "50%        3.000000\n",
       "75%        4.000000\n",
       "max        5.000000\n",
       "Name: Fitness, dtype: float64"
      ]
     },
     "execution_count": 171,
     "metadata": {},
     "output_type": "execute_result"
    }
   ],
   "source": [
    "\"\"\"Describing the 'Fitness' variable\"\"\"\n",
    "\n",
    "fitness.Fitness.describe()"
   ]
  },
  {
   "cell_type": "code",
   "execution_count": null,
   "id": "47a8cf8a",
   "metadata": {},
   "outputs": [],
   "source": []
  },
  {
   "cell_type": "code",
   "execution_count": 172,
   "id": "21f3808d",
   "metadata": {},
   "outputs": [
    {
     "data": {
      "image/png": "[encoded data removed]",
      "text/plain": [
       "<Figure size 640x480 with 1 Axes>"
      ]
     },
     "metadata": {},
     "output_type": "display_data"
    }
   ],
   "source": [
    "\"\"\"Visualizing the 'Miles' variable using countplot, and rotating the label of the x-axis by 90°\"\"\"\n",
    "\n",
    "sb.countplot(data= fitness, x = \"Miles\")\n",
    "plt.xticks(rotation = 90);"
   ]
  },
  {
   "cell_type": "markdown",
   "id": "b233156a",
   "metadata": {},
   "source": [
    "- The maximum and minimum distances covered by customers are 360 and 21 miles respectively.\n",
    "\n",
    "- The data is right-skewed because the mean (103) is much larger than the median (94 miles).\n",
    "\n",
    "- Majority of the customers are able to cover a distance of 85 miles."
   ]
  },
  {
   "cell_type": "code",
   "execution_count": 173,
   "id": "3f85428e",
   "metadata": {},
   "outputs": [
    {
     "data": {
      "text/plain": [
       "count    180.000000\n",
       "mean     103.194444\n",
       "std       51.863605\n",
       "min       21.000000\n",
       "25%       66.000000\n",
       "50%       94.000000\n",
       "75%      114.750000\n",
       "max      360.000000\n",
       "Name: Miles, dtype: float64"
      ]
     },
     "execution_count": 173,
     "metadata": {},
     "output_type": "execute_result"
    }
   ],
   "source": [
    "\"\"\"Describing the 'Miles' variable\"\"\"\n",
    "\n",
    "fitness.Miles.describe()"
   ]
  },
  {
   "cell_type": "code",
   "execution_count": null,
   "id": "8eb2959d",
   "metadata": {},
   "outputs": [],
   "source": []
  },
  {
   "cell_type": "markdown",
   "id": "0fb92ac5",
   "metadata": {},
   "source": [
    "# Bivariate Analysis\n",
    "\n",
    "- The goal of this is to check how the variables interact (correlate) with one another."
   ]
  },
  {
   "cell_type": "code",
   "execution_count": 101,
   "id": "daabcb90",
   "metadata": {},
   "outputs": [
    {
     "data": {
      "text/html": [
       "<div>\n",
       "<style scoped>\n",
       "    .dataframe tbody tr th:only-of-type {\n",
       "        vertical-align: middle;\n",
       "    }\n",
       "\n",
       "    .dataframe tbody tr th {\n",
       "        vertical-align: top;\n",
       "    }\n",
       "\n",
       "    .dataframe thead th {\n",
       "        text-align: right;\n",
       "    }\n",
       "</style>\n",
       "<table border=\"1\" class=\"dataframe\">\n",
       "  <thead>\n",
       "    <tr style=\"text-align: right;\">\n",
       "      <th></th>\n",
       "      <th>Age</th>\n",
       "      <th>Education</th>\n",
       "      <th>Usage</th>\n",
       "      <th>Fitness</th>\n",
       "      <th>Income</th>\n",
       "      <th>Miles</th>\n",
       "    </tr>\n",
       "  </thead>\n",
       "  <tbody>\n",
       "    <tr>\n",
       "      <th>Age</th>\n",
       "      <td>1.000000</td>\n",
       "      <td>0.280496</td>\n",
       "      <td>0.015064</td>\n",
       "      <td>0.061105</td>\n",
       "      <td>0.513414</td>\n",
       "      <td>0.036618</td>\n",
       "    </tr>\n",
       "    <tr>\n",
       "      <th>Education</th>\n",
       "      <td>0.280496</td>\n",
       "      <td>1.000000</td>\n",
       "      <td>0.395155</td>\n",
       "      <td>0.410581</td>\n",
       "      <td>0.625827</td>\n",
       "      <td>0.307284</td>\n",
       "    </tr>\n",
       "    <tr>\n",
       "      <th>Usage</th>\n",
       "      <td>0.015064</td>\n",
       "      <td>0.395155</td>\n",
       "      <td>1.000000</td>\n",
       "      <td>0.668606</td>\n",
       "      <td>0.519537</td>\n",
       "      <td>0.759130</td>\n",
       "    </tr>\n",
       "    <tr>\n",
       "      <th>Fitness</th>\n",
       "      <td>0.061105</td>\n",
       "      <td>0.410581</td>\n",
       "      <td>0.668606</td>\n",
       "      <td>1.000000</td>\n",
       "      <td>0.535005</td>\n",
       "      <td>0.785702</td>\n",
       "    </tr>\n",
       "    <tr>\n",
       "      <th>Income</th>\n",
       "      <td>0.513414</td>\n",
       "      <td>0.625827</td>\n",
       "      <td>0.519537</td>\n",
       "      <td>0.535005</td>\n",
       "      <td>1.000000</td>\n",
       "      <td>0.543473</td>\n",
       "    </tr>\n",
       "    <tr>\n",
       "      <th>Miles</th>\n",
       "      <td>0.036618</td>\n",
       "      <td>0.307284</td>\n",
       "      <td>0.759130</td>\n",
       "      <td>0.785702</td>\n",
       "      <td>0.543473</td>\n",
       "      <td>1.000000</td>\n",
       "    </tr>\n",
       "  </tbody>\n",
       "</table>\n",
       "</div>"
      ],
      "text/plain": [
       "                Age  Education     Usage   Fitness    Income     Miles\n",
       "Age        1.000000   0.280496  0.015064  0.061105  0.513414  0.036618\n",
       "Education  0.280496   1.000000  0.395155  0.410581  0.625827  0.307284\n",
       "Usage      0.015064   0.395155  1.000000  0.668606  0.519537  0.759130\n",
       "Fitness    0.061105   0.410581  0.668606  1.000000  0.535005  0.785702\n",
       "Income     0.513414   0.625827  0.519537  0.535005  1.000000  0.543473\n",
       "Miles      0.036618   0.307284  0.759130  0.785702  0.543473  1.000000"
      ]
     },
     "execution_count": 101,
     "metadata": {},
     "output_type": "execute_result"
    }
   ],
   "source": [
    "\"\"\"First getting the table that shows the correlation between all variables\"\"\"\n",
    "\n",
    "num_correl = fitness.corr()\n",
    "\n",
    "num_correl"
   ]
  },
  {
   "cell_type": "markdown",
   "id": "5128941a",
   "metadata": {},
   "source": [
    "- By default, the correlation syntax gives the output of only the numeric variables (not the categorical variable).\n"
   ]
  },
  {
   "cell_type": "code",
   "execution_count": null,
   "id": "6c6f9628",
   "metadata": {},
   "outputs": [],
   "source": []
  },
  {
   "cell_type": "code",
   "execution_count": 115,
   "id": "8a2b35cd",
   "metadata": {},
   "outputs": [
    {
     "data": {
      "image/png": "[encoded data removed]",
      "text/plain": [
       "<Figure size 1000x500 with 2 Axes>"
      ]
     },
     "metadata": {},
     "output_type": "display_data"
    }
   ],
   "source": [
    "\"\"\"Using seaborn\"\"\"\n",
    "\n",
    "plt.figure(figsize= (10, 5))\n",
    "\n",
    "sb.heatmap(data= num_correl, vmin = -1, vmax = 1, cmap= \"Spectral\", annot= True);"
   ]
  },
  {
   "cell_type": "markdown",
   "id": "20b42d0e",
   "metadata": {},
   "source": [
    "- The purple colours are those with the highest positive correlation (values = 1), while red are highest negative correlation (values = -1).\n",
    "\n",
    "- The yellow colours have no correlation because the value equals zero.\n",
    "\n",
    "- In this data set, the variables had no negative correlation\n",
    "\n",
    "- The \"Usage\" and \"Fitness\" both have very high correlation with the \"Miles.\"\n",
    "\n",
    "- The \"Fitness\" also has high correlation with the \"Usage.\"\n",
    "\n",
    "- \"Age\" has ~ zero correlation with most of the other variables (for example, \"Usage\", \"Fitness\" and \"Miles\").\n",
    "\n",
    "- \"Income\" has an average positive correlation with all the other variables."
   ]
  },
  {
   "cell_type": "code",
   "execution_count": null,
   "id": "80e7bede",
   "metadata": {},
   "outputs": [],
   "source": []
  },
  {
   "cell_type": "markdown",
   "id": "e8108bd1",
   "metadata": {},
   "source": [
    "# Catergorical Plots\n",
    "\n",
    "- The goal of this is to check how two variables interact (correlate) with each other."
   ]
  },
  {
   "cell_type": "code",
   "execution_count": 42,
   "id": "eed926a6",
   "metadata": {},
   "outputs": [
    {
     "data": {
      "image/png": "[encoded data removed]",
      "text/plain": [
       "<Figure size 500x500 with 1 Axes>"
      ]
     },
     "metadata": {},
     "output_type": "display_data"
    }
   ],
   "source": [
    "\"\"\"Visualizing the correlation between 'Fitness' and 'Miles' variables using scatterplot\"\"\"\n",
    "\n",
    "sb.catplot(data= fitness, x= \"Fitness\", y= \"Miles\", kind= \"bar\");"
   ]
  },
  {
   "cell_type": "markdown",
   "id": "f73ed1d1",
   "metadata": {},
   "source": [
    "- The correlation between \"Mile\" and \"Fitness\" is very high positively. This translate to the fact that the more someone is fit, the more miles or distance his/her can cover."
   ]
  },
  {
   "cell_type": "code",
   "execution_count": null,
   "id": "4db40843",
   "metadata": {},
   "outputs": [],
   "source": []
  },
  {
   "cell_type": "code",
   "execution_count": 43,
   "id": "5e4cd16f",
   "metadata": {},
   "outputs": [
    {
     "data": {
      "image/png": "[encoded data removed]",
      "text/plain": [
       "<Figure size 500x500 with 1 Axes>"
      ]
     },
     "metadata": {},
     "output_type": "display_data"
    }
   ],
   "source": [
    "\"\"\"Visualizing the correlation between 'Fitness' and 'Age' variables using scatterplot\"\"\"\n",
    "\n",
    "sb.catplot(data= fitness, x= \"Fitness\", y= \"Age\", kind= \"bar\");"
   ]
  },
  {
   "cell_type": "markdown",
   "id": "bff2e66d",
   "metadata": {},
   "source": [
    "- The correlation between \"Age\" and \"Fitness\" is not definite or progressive. Which means, someone's fitness does not necessarily relates to his/her age."
   ]
  },
  {
   "cell_type": "code",
   "execution_count": null,
   "id": "6449e1ac",
   "metadata": {},
   "outputs": [],
   "source": []
  },
  {
   "cell_type": "code",
   "execution_count": 44,
   "id": "891801cb",
   "metadata": {},
   "outputs": [
    {
     "data": {
      "image/png": "[encoded data removed]",
      "text/plain": [
       "<Figure size 500x500 with 1 Axes>"
      ]
     },
     "metadata": {},
     "output_type": "display_data"
    }
   ],
   "source": [
    "\"\"\"Visualizing the correlation between 'Fitness' and 'Usage' variables using scatterplot\"\"\"\n",
    "\n",
    "sb.catplot(data= fitness, x= \"Fitness\", y= \"Usage\", kind= \"bar\");"
   ]
  },
  {
   "cell_type": "markdown",
   "id": "9663319a",
   "metadata": {},
   "source": [
    "- The correlation between \"Fitness\" and \"Usage\" is positively very high. That is, the more a cutomer uses the treadmill on average per week, the more fit he/she will get."
   ]
  },
  {
   "cell_type": "code",
   "execution_count": null,
   "id": "02dafbcb",
   "metadata": {},
   "outputs": [],
   "source": []
  },
  {
   "cell_type": "code",
   "execution_count": 45,
   "id": "b6124401",
   "metadata": {},
   "outputs": [
    {
     "data": {
      "image/png": "[encoded data removed]",
      "text/plain": [
       "<Figure size 500x500 with 1 Axes>"
      ]
     },
     "metadata": {},
     "output_type": "display_data"
    }
   ],
   "source": [
    "\"\"\"Visualizing the correlation between 'Usage' and 'Miles' variables using scatterplot\"\"\"\n",
    "\n",
    "sb.catplot(data= fitness, x= \"Usage\", y= \"Miles\", kind= \"bar\");"
   ]
  },
  {
   "cell_type": "markdown",
   "id": "bcf91dac",
   "metadata": {},
   "source": [
    "- \"Miles\" and \"Usage\" have high positive correlation between each other. So, the more a cutomer uses the treadmill on average per week, the more \"Miles\" he/she can cover."
   ]
  },
  {
   "cell_type": "code",
   "execution_count": null,
   "id": "3c2524a6",
   "metadata": {},
   "outputs": [],
   "source": []
  },
  {
   "cell_type": "markdown",
   "id": "c69596cb",
   "metadata": {},
   "source": [
    "# Categorical Plots Relating other Variables to the \"Product\"\n",
    "\n",
    "- The goal of this is to check how a numeric variable interact (correlate) with the target, which in this case is the 'Product' variable."
   ]
  },
  {
   "cell_type": "code",
   "execution_count": 48,
   "id": "f758d33e",
   "metadata": {},
   "outputs": [
    {
     "data": {
      "image/png": "[encoded data removed]",
      "text/plain": [
       "<Figure size 500x500 with 1 Axes>"
      ]
     },
     "metadata": {},
     "output_type": "display_data"
    }
   ],
   "source": [
    "\"\"\"Visualizing the correlation between 'Fitness' and 'Product' variables using catplot\"\"\"\n",
    "\n",
    "sb.catplot(data= fitness, y= \"Fitness\", x= \"Product\", kind= \"bar\");"
   ]
  },
  {
   "cell_type": "markdown",
   "id": "fd9dd97c",
   "metadata": {},
   "source": [
    "- On average, the use of the TM798 treadmill product gives the highest fitness on the customers."
   ]
  },
  {
   "cell_type": "code",
   "execution_count": null,
   "id": "571a56e3",
   "metadata": {},
   "outputs": [],
   "source": []
  },
  {
   "cell_type": "code",
   "execution_count": 49,
   "id": "6f586ff6",
   "metadata": {},
   "outputs": [
    {
     "data": {
      "image/png": "[encoded data removed]",
      "text/plain": [
       "<Figure size 500x500 with 1 Axes>"
      ]
     },
     "metadata": {},
     "output_type": "display_data"
    }
   ],
   "source": [
    "\"\"\"Visualizing the correlation between 'Usage' and 'Product' variables using catplot\"\"\"\n",
    "\n",
    "sb.catplot(data= fitness, y= \"Usage\", x= \"Product\", kind= \"bar\");"
   ]
  },
  {
   "cell_type": "markdown",
   "id": "346fb048",
   "metadata": {},
   "source": [
    "   - The TM798 fitness product is used more often by the customers per week."
   ]
  },
  {
   "cell_type": "code",
   "execution_count": null,
   "id": "a8cebfab",
   "metadata": {},
   "outputs": [],
   "source": []
  },
  {
   "cell_type": "code",
   "execution_count": 47,
   "id": "d0ef5897",
   "metadata": {},
   "outputs": [
    {
     "data": {
      "image/png": "[encoded data removed]",
      "text/plain": [
       "<Figure size 500x500 with 1 Axes>"
      ]
     },
     "metadata": {},
     "output_type": "display_data"
    }
   ],
   "source": [
    "\"\"\"Visualizing the correlation between 'Age' and 'Product' variables using catplot\"\"\"\n",
    "\n",
    "sb.catplot(data= fitness, x= \"Product\", y= \"Age\", kind= \"bar\");"
   ]
  },
  {
   "cell_type": "markdown",
   "id": "4eec9219",
   "metadata": {},
   "source": [
    "- The product of the treadmill is not really influnced by the age of the customers."
   ]
  },
  {
   "cell_type": "code",
   "execution_count": null,
   "id": "90750971",
   "metadata": {},
   "outputs": [],
   "source": []
  },
  {
   "cell_type": "code",
   "execution_count": 50,
   "id": "891fef3e",
   "metadata": {},
   "outputs": [
    {
     "data": {
      "image/png": "[encoded data removed]",
      "text/plain": [
       "<Figure size 500x500 with 1 Axes>"
      ]
     },
     "metadata": {},
     "output_type": "display_data"
    }
   ],
   "source": [
    "\"\"\"Visualizing the correlation between 'Education' and 'Product' variables using catplot\"\"\"\n",
    "\n",
    "sb.catplot(data= fitness, x= \"Product\", y= \"Education\", kind= \"bar\");"
   ]
  },
  {
   "cell_type": "markdown",
   "id": "df1e1b5d",
   "metadata": {},
   "source": [
    "- On average, the TM798 treadmill product is used by customers with more years of education."
   ]
  },
  {
   "cell_type": "code",
   "execution_count": null,
   "id": "e2f4f74f",
   "metadata": {},
   "outputs": [],
   "source": []
  },
  {
   "cell_type": "code",
   "execution_count": 51,
   "id": "c8982f87",
   "metadata": {},
   "outputs": [
    {
     "data": {
      "image/png": "[encoded data removed]",
      "text/plain": [
       "<Figure size 500x500 with 1 Axes>"
      ]
     },
     "metadata": {},
     "output_type": "display_data"
    }
   ],
   "source": [
    "\"\"\"Visualizing the correlation between 'Income' and 'Product' variables using catplot\"\"\"\n",
    "\n",
    "sb.catplot(data= fitness, x= \"Product\", y= \"Income\", kind= \"bar\");"
   ]
  },
  {
   "cell_type": "markdown",
   "id": "90f646e0",
   "metadata": {},
   "source": [
    "- On average, the highest income earners use the TM798 treadmill product."
   ]
  },
  {
   "cell_type": "code",
   "execution_count": null,
   "id": "b0f48f62",
   "metadata": {},
   "outputs": [],
   "source": []
  },
  {
   "cell_type": "code",
   "execution_count": 52,
   "id": "b11f4ebb",
   "metadata": {},
   "outputs": [
    {
     "data": {
      "image/png": "[encoded data removed]",
      "text/plain": [
       "<Figure size 500x500 with 1 Axes>"
      ]
     },
     "metadata": {},
     "output_type": "display_data"
    }
   ],
   "source": [
    "\"\"\"Visualizing the correlation between 'Miles' and 'Product' variables using catplot\"\"\"\n",
    "\n",
    "sb.catplot(data= fitness, x= \"Product\", y= \"Miles\", kind= \"bar\");"
   ]
  },
  {
   "cell_type": "markdown",
   "id": "52709797",
   "metadata": {},
   "source": [
    "- Customers who use the TM798 product of the treadmill are expected to run more miles on average."
   ]
  },
  {
   "cell_type": "code",
   "execution_count": null,
   "id": "b9a714cd",
   "metadata": {},
   "outputs": [],
   "source": []
  },
  {
   "cell_type": "markdown",
   "id": "1edcc781",
   "metadata": {},
   "source": [
    "# INSIGHTS AND OBSERVATIONS BASED ON THE ANALYZED DATA:\n",
    "\n",
    "- The TM798 treadmill product has more fitness rating on the clients, users or customers.\n",
    "\n",
    "- Customers who use the TM798 product are able to run more miles on average.\n",
    "\n",
    "- The TM798 fitness product is used more often by the customers per week.\n",
    "\n",
    "- On average, the TM798 product is used by the most educated customers. This might be a result of its complexicity, diversity, globalization or modernized features.\n",
    "\n",
    "- The highest income earners on average use the TM798 product. Perhaps, apart from the high cost of purcharsing or renting this product, it might also be that this product has more features for training alogside being of a very good standard, that is why those who can easily afford it prefer it.\n",
    "\n",
    "- The products are not greatly influnced by the age of the customers. Nonetheless, the three products are mostly used by middle aged customers ranging between 25 and 35 years."
   ]
  },
  {
   "cell_type": "code",
   "execution_count": null,
   "id": "fdbab3ee",
   "metadata": {},
   "outputs": [],
   "source": []
  },
  {
   "cell_type": "markdown",
   "id": "b52d3dc9",
   "metadata": {},
   "source": [
    "# RECOMMENDATIONS:\n",
    "\n",
    "- The company should invest more on the TM798 product, being the most preferred choice of majority of the customers.\n",
    "\n",
    "- Due to the fitness prowess of the TM798 product, the company should encourage more of her customers on the use of this very product through the introduction of discounts and/or offers, so that the low income earners are able to afford it.\n",
    "\n",
    "- Additionally, awareness and/or sensitization on the usefulness, the simplified method of usage if complex and the advantages of the TM798 product should be given to the less educated customers and if possible, to the general public.\n",
    "\n",
    "- For the other products, rather than neglecting them, the company should move the use of these products to less advanced communities and/or low income earners.\n"
   ]
  },
  {
   "cell_type": "code",
   "execution_count": null,
   "id": "ffed2576",
   "metadata": {},
   "outputs": [],
   "source": []
  }
 ],
 "metadata": {
  "kernelspec": {
   "display_name": "Python 3 (ipykernel)",
   "language": "python",
   "name": "python3"
  },
  "language_info": {
   "codemirror_mode": {
    "name": "ipython",
    "version": 3
   },
   "file_extension": ".py",
   "mimetype": "text/x-python",
   "name": "python",
   "nbconvert_exporter": "python",
   "pygments_lexer": "ipython3",
   "version": "3.9.13"
  }
 },
 "nbformat": 4,
 "nbformat_minor": 5
}
