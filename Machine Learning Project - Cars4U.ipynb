{
 "cells": [
  {
   "cell_type": "markdown",
   "id": "aa3447bd",
   "metadata": {},
   "source": [
    "# Context\n",
    "There is a huge demand for used cars in the Indian Market today. As sales of new cars have slowed down in the recent past, the pre-owned car market has continued to grow over the past years and is larger than the new car market now. Cars4U is a budding tech start-up that aims to find footholes in this market.\n",
    "\n",
    "In 2018-19, while new car sales were recorded at 3.6 million units, around 4 million second-hand cars were bought and sold. There is a slowdown in new car sales and that could mean that the demand is shifting towards the pre-owned market. In fact, some car sellers replace their old cars with pre-owned cars instead of buying new ones. Unlike new cars, where price and supply are fairly deterministic and managed by OEMs (Original Equipment Manufacturer / except for dealership level discounts which come into play only in the last stage of the customer journey), used cars are very different beasts with huge uncertainty in both pricing and supply. Keeping this in mind, the pricing scheme of these used cars becomes important in order to grow in the market.\n",
    "\n",
    "As a senior data scientist at Cars4U, you have to come up with a pricing model that can effectively predict the price of used cars and can help the business in devising profitable strategies using differential pricing. For example, if the business knows the market price, it will never sell anything below it.\n",
    "\n",
    "\n",
    "# Objective\n",
    "To explore and visualize the dataset, build a linear regression model to predict the prices of used cars, and generate a set of insights and recommendations that will help the business.\n",
    "\n",
    "# Data Description\n",
    "The data contains the different attributes of used cars sold in different locations. The detailed data dictionary is given below.\n",
    "\n",
    "# Data Dictionary\n",
    "\n",
    "- S.No.: Serial number\n",
    "- Name: Name of the car which includes brand name and model name\n",
    "- Location: Location in which the car is being sold or is available for purchase\n",
    "- Year: Manufacturing year of the car\n",
    "- Kilometers_driven: The total kilometers (a unit used to measure length or distance) driven in the car by the previous owner(s)\n",
    "- Fuel_Type: The type of fuel used by the car (Petrol, Diesel, Electric, CNG, LPG)\n",
    "- Transmission: The type of transmission used by the car (Automatic/Manual)\n",
    "- Owner: Type of ownership\n",
    "- Mileage: The standard mileage offered by the car company in kmpl or km/kg\n",
    "- Engine: The displacement volume of the engine in CC\n",
    "- Power: The maximum power of the engine in bhp\n",
    "- Seats: The number of seats in the car\n",
    "- New_Price: The price of a new car of the same model in dollars\n",
    "- Price: The price of the used car in dollars"
   ]
  },
  {
   "cell_type": "code",
   "execution_count": null,
   "id": "a194e9c1",
   "metadata": {},
   "outputs": [],
   "source": []
  },
  {
   "cell_type": "markdown",
   "id": "3317ecd5",
   "metadata": {},
   "source": [
    "# Importing the Necessary Libraries."
   ]
  },
  {
   "cell_type": "code",
   "execution_count": 103,
   "id": "0e4f18e7",
   "metadata": {},
   "outputs": [],
   "source": [
    "# to read or access the data\n",
    "import pandas as pd\n",
    "import numpy as np\n",
    "\n",
    "# to visualize the data\n",
    "import seaborn as sb\n",
    "import matplotlib as mp\n",
    "\n",
    "# to create the model\n",
    "from sklearn.model_selection import train_test_split\n",
    "\n",
    "from sklearn.preprocessing import StandardScaler, MinMaxScaler\n",
    "\n",
    "from sklearn.linear_model import LinearRegression, Ridge, Lasso\n",
    "\n",
    "from sklearn.metrics import accuracy_score, r2_score, mean_absolute_error, mean_absolute_percentage_error, mean_squared_error"
   ]
  },
  {
   "cell_type": "code",
   "execution_count": null,
   "id": "753ebd93",
   "metadata": {},
   "outputs": [],
   "source": []
  },
  {
   "cell_type": "markdown",
   "id": "34c910a3",
   "metadata": {},
   "source": [
    "# Loading and Exploring the Data"
   ]
  },
  {
   "cell_type": "code",
   "execution_count": 104,
   "id": "f9fbb15e",
   "metadata": {},
   "outputs": [],
   "source": [
    "# Loading the data\n",
    "\n",
    "data = pd.read_csv(r\"C:\\Users\\User\\Downloads\\used_cars_data-1.csv\")"
   ]
  },
  {
   "cell_type": "code",
   "execution_count": 3,
   "id": "1d6324df",
   "metadata": {},
   "outputs": [
    {
     "data": {
      "text/html": [
       "<div>\n",
       "<style scoped>\n",
       "    .dataframe tbody tr th:only-of-type {\n",
       "        vertical-align: middle;\n",
       "    }\n",
       "\n",
       "    .dataframe tbody tr th {\n",
       "        vertical-align: top;\n",
       "    }\n",
       "\n",
       "    .dataframe thead th {\n",
       "        text-align: right;\n",
       "    }\n",
       "</style>\n",
       "<table border=\"1\" class=\"dataframe\">\n",
       "  <thead>\n",
       "    <tr style=\"text-align: right;\">\n",
       "      <th></th>\n",
       "      <th>S.No.</th>\n",
       "      <th>Name</th>\n",
       "      <th>Location</th>\n",
       "      <th>Year</th>\n",
       "      <th>Kilometers_Driven</th>\n",
       "      <th>Fuel_Type</th>\n",
       "      <th>Transmission</th>\n",
       "      <th>Owner_Type</th>\n",
       "      <th>Mileage</th>\n",
       "      <th>Engine</th>\n",
       "      <th>Power</th>\n",
       "      <th>Seats</th>\n",
       "      <th>New_Price</th>\n",
       "      <th>Price</th>\n",
       "    </tr>\n",
       "  </thead>\n",
       "  <tbody>\n",
       "    <tr>\n",
       "      <th>0</th>\n",
       "      <td>0</td>\n",
       "      <td>Maruti Wagon R LXI CNG</td>\n",
       "      <td>Mumbai</td>\n",
       "      <td>2010</td>\n",
       "      <td>72000</td>\n",
       "      <td>CNG</td>\n",
       "      <td>Manual</td>\n",
       "      <td>First</td>\n",
       "      <td>26.6 km/kg</td>\n",
       "      <td>998 CC</td>\n",
       "      <td>58.16 bhp</td>\n",
       "      <td>5.0</td>\n",
       "      <td>5.51</td>\n",
       "      <td>1.75</td>\n",
       "    </tr>\n",
       "    <tr>\n",
       "      <th>1</th>\n",
       "      <td>1</td>\n",
       "      <td>Hyundai Creta 1.6 CRDi SX Option</td>\n",
       "      <td>Pune</td>\n",
       "      <td>2015</td>\n",
       "      <td>41000</td>\n",
       "      <td>Diesel</td>\n",
       "      <td>Manual</td>\n",
       "      <td>First</td>\n",
       "      <td>19.67 kmpl</td>\n",
       "      <td>1582 CC</td>\n",
       "      <td>126.2 bhp</td>\n",
       "      <td>5.0</td>\n",
       "      <td>16.06</td>\n",
       "      <td>12.50</td>\n",
       "    </tr>\n",
       "    <tr>\n",
       "      <th>2</th>\n",
       "      <td>2</td>\n",
       "      <td>Honda Jazz V</td>\n",
       "      <td>Chennai</td>\n",
       "      <td>2011</td>\n",
       "      <td>46000</td>\n",
       "      <td>Petrol</td>\n",
       "      <td>Manual</td>\n",
       "      <td>First</td>\n",
       "      <td>18.2 kmpl</td>\n",
       "      <td>1199 CC</td>\n",
       "      <td>88.7 bhp</td>\n",
       "      <td>5.0</td>\n",
       "      <td>8.61</td>\n",
       "      <td>4.50</td>\n",
       "    </tr>\n",
       "    <tr>\n",
       "      <th>3</th>\n",
       "      <td>3</td>\n",
       "      <td>Maruti Ertiga VDI</td>\n",
       "      <td>Chennai</td>\n",
       "      <td>2012</td>\n",
       "      <td>87000</td>\n",
       "      <td>Diesel</td>\n",
       "      <td>Manual</td>\n",
       "      <td>First</td>\n",
       "      <td>20.77 kmpl</td>\n",
       "      <td>1248 CC</td>\n",
       "      <td>88.76 bhp</td>\n",
       "      <td>7.0</td>\n",
       "      <td>11.27</td>\n",
       "      <td>6.00</td>\n",
       "    </tr>\n",
       "    <tr>\n",
       "      <th>4</th>\n",
       "      <td>4</td>\n",
       "      <td>Audi A4 New 2.0 TDI Multitronic</td>\n",
       "      <td>Coimbatore</td>\n",
       "      <td>2013</td>\n",
       "      <td>40670</td>\n",
       "      <td>Diesel</td>\n",
       "      <td>Automatic</td>\n",
       "      <td>Second</td>\n",
       "      <td>15.2 kmpl</td>\n",
       "      <td>1968 CC</td>\n",
       "      <td>140.8 bhp</td>\n",
       "      <td>5.0</td>\n",
       "      <td>53.14</td>\n",
       "      <td>17.74</td>\n",
       "    </tr>\n",
       "  </tbody>\n",
       "</table>\n",
       "</div>"
      ],
      "text/plain": [
       "   S.No.                              Name    Location  Year  \\\n",
       "0      0            Maruti Wagon R LXI CNG      Mumbai  2010   \n",
       "1      1  Hyundai Creta 1.6 CRDi SX Option        Pune  2015   \n",
       "2      2                      Honda Jazz V     Chennai  2011   \n",
       "3      3                 Maruti Ertiga VDI     Chennai  2012   \n",
       "4      4   Audi A4 New 2.0 TDI Multitronic  Coimbatore  2013   \n",
       "\n",
       "   Kilometers_Driven Fuel_Type Transmission Owner_Type     Mileage   Engine  \\\n",
       "0              72000       CNG       Manual      First  26.6 km/kg   998 CC   \n",
       "1              41000    Diesel       Manual      First  19.67 kmpl  1582 CC   \n",
       "2              46000    Petrol       Manual      First   18.2 kmpl  1199 CC   \n",
       "3              87000    Diesel       Manual      First  20.77 kmpl  1248 CC   \n",
       "4              40670    Diesel    Automatic     Second   15.2 kmpl  1968 CC   \n",
       "\n",
       "       Power  Seats  New_Price  Price  \n",
       "0  58.16 bhp    5.0       5.51   1.75  \n",
       "1  126.2 bhp    5.0      16.06  12.50  \n",
       "2   88.7 bhp    5.0       8.61   4.50  \n",
       "3  88.76 bhp    7.0      11.27   6.00  \n",
       "4  140.8 bhp    5.0      53.14  17.74  "
      ]
     },
     "execution_count": 3,
     "metadata": {},
     "output_type": "execute_result"
    }
   ],
   "source": [
    "# Exploring the first 5 rows of the data\n",
    "\n",
    "data.head()"
   ]
  },
  {
   "cell_type": "markdown",
   "id": "e02a0aa5",
   "metadata": {},
   "source": [
    "- The data looks a bit messy, so cleaning will be done in the data."
   ]
  },
  {
   "cell_type": "code",
   "execution_count": null,
   "id": "4e5101b8",
   "metadata": {},
   "outputs": [],
   "source": []
  },
  {
   "cell_type": "code",
   "execution_count": 4,
   "id": "1647be93",
   "metadata": {},
   "outputs": [
    {
     "data": {
      "text/plain": [
       "(7253, 14)"
      ]
     },
     "execution_count": 4,
     "metadata": {},
     "output_type": "execute_result"
    }
   ],
   "source": [
    "# checking the dimension of the data\n",
    "\n",
    "data.shape"
   ]
  },
  {
   "cell_type": "markdown",
   "id": "7f8465ce",
   "metadata": {},
   "source": [
    "* There are 7253 rows and 14 columns in the data."
   ]
  },
  {
   "cell_type": "code",
   "execution_count": null,
   "id": "7a5d9c09",
   "metadata": {},
   "outputs": [],
   "source": []
  },
  {
   "cell_type": "code",
   "execution_count": 5,
   "id": "1f039b58",
   "metadata": {},
   "outputs": [
    {
     "name": "stdout",
     "output_type": "stream",
     "text": [
      "<class 'pandas.core.frame.DataFrame'>\n",
      "RangeIndex: 7253 entries, 0 to 7252\n",
      "Data columns (total 14 columns):\n",
      " #   Column             Non-Null Count  Dtype  \n",
      "---  ------             --------------  -----  \n",
      " 0   S.No.              7253 non-null   int64  \n",
      " 1   Name               7253 non-null   object \n",
      " 2   Location           7253 non-null   object \n",
      " 3   Year               7253 non-null   int64  \n",
      " 4   Kilometers_Driven  7253 non-null   int64  \n",
      " 5   Fuel_Type          7253 non-null   object \n",
      " 6   Transmission       7253 non-null   object \n",
      " 7   Owner_Type         7253 non-null   object \n",
      " 8   Mileage            7251 non-null   object \n",
      " 9   Engine             7207 non-null   object \n",
      " 10  Power              7078 non-null   object \n",
      " 11  Seats              7200 non-null   float64\n",
      " 12  New_Price          7253 non-null   float64\n",
      " 13  Price              6019 non-null   float64\n",
      "dtypes: float64(3), int64(3), object(8)\n",
      "memory usage: 793.4+ KB\n"
     ]
    }
   ],
   "source": [
    "# Getting full information about the dataset, specifically the data type of each of the column.\n",
    "\n",
    "data.info()"
   ]
  },
  {
   "cell_type": "markdown",
   "id": "dc5a2d47",
   "metadata": {},
   "source": [
    "- The datatype for some of the columns does not tally with what is expected. For example, \"Mileage\" is suppose to be a numerical datatype (integer or float), not an object (string)."
   ]
  },
  {
   "cell_type": "code",
   "execution_count": null,
   "id": "1aae2f0a",
   "metadata": {},
   "outputs": [],
   "source": []
  },
  {
   "cell_type": "code",
   "execution_count": 6,
   "id": "16cd1f23",
   "metadata": {},
   "outputs": [
    {
     "data": {
      "text/plain": [
       "S.No.                   0\n",
       "Name                    0\n",
       "Location                0\n",
       "Year                    0\n",
       "Kilometers_Driven       0\n",
       "Fuel_Type               0\n",
       "Transmission            0\n",
       "Owner_Type              0\n",
       "Mileage                 2\n",
       "Engine                 46\n",
       "Power                 175\n",
       "Seats                  53\n",
       "New_Price               0\n",
       "Price                1234\n",
       "dtype: int64"
      ]
     },
     "execution_count": 6,
     "metadata": {},
     "output_type": "execute_result"
    }
   ],
   "source": [
    "data.isnull().sum()"
   ]
  },
  {
   "cell_type": "markdown",
   "id": "2bbae060",
   "metadata": {},
   "source": [
    " - There are missing values in some of the columns. For example, \"Power\", \"Price\", etc."
   ]
  },
  {
   "cell_type": "code",
   "execution_count": null,
   "id": "ae8495a9",
   "metadata": {},
   "outputs": [],
   "source": []
  },
  {
   "cell_type": "code",
   "execution_count": 98,
   "id": "75c96f34",
   "metadata": {},
   "outputs": [
    {
     "data": {
      "text/plain": [
       "0"
      ]
     },
     "execution_count": 98,
     "metadata": {},
     "output_type": "execute_result"
    }
   ],
   "source": [
    "# checking for duplicates\n",
    "\n",
    "data.duplicated().sum()"
   ]
  },
  {
   "cell_type": "markdown",
   "id": "d5153d19",
   "metadata": {},
   "source": [
    "- The data has no duplicates."
   ]
  },
  {
   "cell_type": "code",
   "execution_count": null,
   "id": "1e88d9a4",
   "metadata": {},
   "outputs": [],
   "source": []
  },
  {
   "cell_type": "code",
   "execution_count": 105,
   "id": "3dbdfe3f",
   "metadata": {},
   "outputs": [],
   "source": [
    "# make a copy of the original data\n",
    "\n",
    "data2 = data.copy()"
   ]
  },
  {
   "cell_type": "code",
   "execution_count": null,
   "id": "0055015c",
   "metadata": {},
   "outputs": [],
   "source": []
  },
  {
   "cell_type": "code",
   "execution_count": 9,
   "id": "33d2904e",
   "metadata": {},
   "outputs": [
    {
     "data": {
      "text/plain": [
       "['Name',\n",
       " 'Location',\n",
       " 'Fuel_Type',\n",
       " 'Transmission',\n",
       " 'Owner_Type',\n",
       " 'Mileage',\n",
       " 'Engine',\n",
       " 'Power']"
      ]
     },
     "execution_count": 9,
     "metadata": {},
     "output_type": "execute_result"
    }
   ],
   "source": [
    "# Unique values in the categorical variables.\n",
    "\n",
    "cat_var = data2.select_dtypes(include= \"object\").columns.to_list()\n",
    "\n",
    "cat_var"
   ]
  },
  {
   "cell_type": "code",
   "execution_count": null,
   "id": "ef956dd0",
   "metadata": {},
   "outputs": [],
   "source": []
  },
  {
   "cell_type": "code",
   "execution_count": 10,
   "id": "79051ed5",
   "metadata": {},
   "outputs": [
    {
     "name": "stdout",
     "output_type": "stream",
     "text": [
      "Mahindra XUV500 W8 2WD                  55\n",
      "Maruti Swift VDI                        49\n",
      "Maruti Swift Dzire VDI                  42\n",
      "Honda City 1.5 S MT                     39\n",
      "Maruti Swift VDI BSIV                   37\n",
      "                                        ..\n",
      "Chevrolet Beat LT Option                 1\n",
      "Skoda Rapid 1.6 MPI AT Elegance Plus     1\n",
      "Ford EcoSport 1.5 TDCi Ambiente          1\n",
      "Hyundai i10 Magna 1.1 iTech SE           1\n",
      "Hyundai Elite i20 Magna Plus             1\n",
      "Name: Name, Length: 2041, dtype: int64\n",
      "*****************************************************************\n",
      "Mumbai        949\n",
      "Hyderabad     876\n",
      "Coimbatore    772\n",
      "Kochi         772\n",
      "Pune          765\n",
      "Delhi         660\n",
      "Kolkata       654\n",
      "Chennai       591\n",
      "Jaipur        499\n",
      "Bangalore     440\n",
      "Ahmedabad     275\n",
      "Name: Location, dtype: int64\n",
      "*****************************************************************\n",
      "Diesel      3852\n",
      "Petrol      3325\n",
      "CNG           62\n",
      "LPG           12\n",
      "Electric       2\n",
      "Name: Fuel_Type, dtype: int64\n",
      "*****************************************************************\n",
      "Manual       5204\n",
      "Automatic    2049\n",
      "Name: Transmission, dtype: int64\n",
      "*****************************************************************\n",
      "First             5952\n",
      "Second            1152\n",
      "Third              137\n",
      "Fourth & Above      12\n",
      "Name: Owner_Type, dtype: int64\n",
      "*****************************************************************\n",
      "17.0 kmpl     207\n",
      "18.9 kmpl     201\n",
      "18.6 kmpl     144\n",
      "21.1 kmpl     106\n",
      "20.36 kmpl    105\n",
      "             ... \n",
      "22.8 km/kg      1\n",
      "8.0 kmpl        1\n",
      "7.81 kmpl       1\n",
      "14.47 kmpl      1\n",
      "17.15 kmpl      1\n",
      "Name: Mileage, Length: 450, dtype: int64\n",
      "*****************************************************************\n",
      "1197 CC    732\n",
      "1248 CC    610\n",
      "1498 CC    370\n",
      "998 CC     309\n",
      "1198 CC    281\n",
      "          ... \n",
      "1489 CC      1\n",
      "1422 CC      1\n",
      "2706 CC      1\n",
      "1978 CC      1\n",
      "1389 CC      1\n",
      "Name: Engine, Length: 150, dtype: int64\n",
      "*****************************************************************\n",
      "74 bhp       280\n",
      "98.6 bhp     166\n",
      "73.9 bhp     152\n",
      "140 bhp      142\n",
      "78.9 bhp     128\n",
      "            ... \n",
      "421 bhp        1\n",
      "89.75 bhp      1\n",
      "387.3 bhp      1\n",
      "226.6 bhp      1\n",
      "241.6 bhp      1\n",
      "Name: Power, Length: 385, dtype: int64\n",
      "*****************************************************************\n"
     ]
    }
   ],
   "source": [
    "# value count for the categorical variables.\n",
    "\n",
    "for i in cat_var:\n",
    "    print(data2[i].value_counts())\n",
    "    print(\"*\" * 65)"
   ]
  },
  {
   "cell_type": "code",
   "execution_count": null,
   "id": "ebd7faa1",
   "metadata": {},
   "outputs": [],
   "source": []
  },
  {
   "cell_type": "code",
   "execution_count": 11,
   "id": "14a1aead",
   "metadata": {},
   "outputs": [
    {
     "data": {
      "text/plain": [
       "['S.No.', 'Year', 'Kilometers_Driven', 'Seats', 'New_Price', 'Price']"
      ]
     },
     "execution_count": 11,
     "metadata": {},
     "output_type": "execute_result"
    }
   ],
   "source": [
    "# Unique values in the non-categorical variables.\n",
    "\n",
    "non_cat_var = data2.select_dtypes(exclude= \"object\").columns.to_list()\n",
    "\n",
    "non_cat_var"
   ]
  },
  {
   "cell_type": "code",
   "execution_count": null,
   "id": "afc7fc01",
   "metadata": {},
   "outputs": [],
   "source": []
  },
  {
   "cell_type": "code",
   "execution_count": 12,
   "id": "f8045bd8",
   "metadata": {},
   "outputs": [
    {
     "name": "stdout",
     "output_type": "stream",
     "text": [
      "0       1\n",
      "4818    1\n",
      "4844    1\n",
      "4843    1\n",
      "4842    1\n",
      "       ..\n",
      "2413    1\n",
      "2412    1\n",
      "2411    1\n",
      "2410    1\n",
      "7252    1\n",
      "Name: S.No., Length: 7253, dtype: int64\n",
      "************************************************************\n",
      "2015    929\n",
      "2014    925\n",
      "2016    886\n",
      "2013    791\n",
      "2017    709\n",
      "2012    690\n",
      "2011    579\n",
      "2010    407\n",
      "2018    361\n",
      "2009    252\n",
      "2008    207\n",
      "2007    148\n",
      "2019    119\n",
      "2006     89\n",
      "2005     68\n",
      "2004     35\n",
      "2003     20\n",
      "2002     18\n",
      "2001      8\n",
      "2000      5\n",
      "1998      4\n",
      "1999      2\n",
      "1996      1\n",
      "Name: Year, dtype: int64\n",
      "************************************************************\n",
      "60000    96\n",
      "65000    86\n",
      "45000    86\n",
      "70000    77\n",
      "50000    72\n",
      "         ..\n",
      "87200     1\n",
      "48324     1\n",
      "20773     1\n",
      "66355     1\n",
      "72443     1\n",
      "Name: Kilometers_Driven, Length: 3660, dtype: int64\n",
      "************************************************************\n",
      "5.0     6047\n",
      "7.0      796\n",
      "8.0      170\n",
      "4.0      119\n",
      "6.0       38\n",
      "2.0       18\n",
      "10.0       8\n",
      "9.0        3\n",
      "0.0        1\n",
      "Name: Seats, dtype: int64\n",
      "************************************************************\n",
      "7.880     660\n",
      "10.250    623\n",
      "13.580    392\n",
      "18.865    237\n",
      "10.150    209\n",
      "         ... \n",
      "41.980      1\n",
      "47.160      1\n",
      "6.230       1\n",
      "5.350       1\n",
      "18.160      1\n",
      "Name: New_Price, Length: 643, dtype: int64\n",
      "************************************************************\n",
      "4.50     88\n",
      "5.50     84\n",
      "3.50     82\n",
      "4.25     73\n",
      "3.25     71\n",
      "         ..\n",
      "11.62     1\n",
      "43.60     1\n",
      "19.05     1\n",
      "3.94      1\n",
      "7.43      1\n",
      "Name: Price, Length: 1373, dtype: int64\n",
      "************************************************************\n"
     ]
    }
   ],
   "source": [
    "# value count for the non-categorical variables.\n",
    "\n",
    "for val in non_cat_var:\n",
    "    print(data2[val].value_counts())\n",
    "    print(\"*\" * 60)"
   ]
  },
  {
   "cell_type": "code",
   "execution_count": null,
   "id": "e2c4efb8",
   "metadata": {},
   "outputs": [],
   "source": []
  },
  {
   "cell_type": "code",
   "execution_count": 13,
   "id": "969b9819",
   "metadata": {},
   "outputs": [
    {
     "data": {
      "text/html": [
       "<div>\n",
       "<style scoped>\n",
       "    .dataframe tbody tr th:only-of-type {\n",
       "        vertical-align: middle;\n",
       "    }\n",
       "\n",
       "    .dataframe tbody tr th {\n",
       "        vertical-align: top;\n",
       "    }\n",
       "\n",
       "    .dataframe thead th {\n",
       "        text-align: right;\n",
       "    }\n",
       "</style>\n",
       "<table border=\"1\" class=\"dataframe\">\n",
       "  <thead>\n",
       "    <tr style=\"text-align: right;\">\n",
       "      <th></th>\n",
       "      <th>Mileage</th>\n",
       "      <th>Engine</th>\n",
       "      <th>Power</th>\n",
       "    </tr>\n",
       "  </thead>\n",
       "  <tbody>\n",
       "    <tr>\n",
       "      <th>6220</th>\n",
       "      <td>17.8 kmpl</td>\n",
       "      <td>1497 CC</td>\n",
       "      <td>117.3 bhp</td>\n",
       "    </tr>\n",
       "    <tr>\n",
       "      <th>4837</th>\n",
       "      <td>21.1 kmpl</td>\n",
       "      <td>814 CC</td>\n",
       "      <td>55.2 bhp</td>\n",
       "    </tr>\n",
       "    <tr>\n",
       "      <th>3913</th>\n",
       "      <td>21.1 kmpl</td>\n",
       "      <td>1248 CC</td>\n",
       "      <td>73.9 bhp</td>\n",
       "    </tr>\n",
       "    <tr>\n",
       "      <th>2972</th>\n",
       "      <td>18.6 kmpl</td>\n",
       "      <td>1197 CC</td>\n",
       "      <td>81.83 bhp</td>\n",
       "    </tr>\n",
       "    <tr>\n",
       "      <th>4876</th>\n",
       "      <td>18.6 kmpl</td>\n",
       "      <td>1197 CC</td>\n",
       "      <td>81.83 bhp</td>\n",
       "    </tr>\n",
       "  </tbody>\n",
       "</table>\n",
       "</div>"
      ],
      "text/plain": [
       "        Mileage   Engine      Power\n",
       "6220  17.8 kmpl  1497 CC  117.3 bhp\n",
       "4837  21.1 kmpl   814 CC   55.2 bhp\n",
       "3913  21.1 kmpl  1248 CC   73.9 bhp\n",
       "2972  18.6 kmpl  1197 CC  81.83 bhp\n",
       "4876  18.6 kmpl  1197 CC  81.83 bhp"
      ]
     },
     "execution_count": 13,
     "metadata": {},
     "output_type": "execute_result"
    }
   ],
   "source": [
    "\"\"\"Getting the random sampling of selected variables (columns) that have their data types as a combination of numerics and \n",
    "objects.\"\"\" \n",
    "\n",
    "data2[[\"Mileage\", \"Engine\", \"Power\"]].sample(5)"
   ]
  },
  {
   "cell_type": "code",
   "execution_count": null,
   "id": "a776b286",
   "metadata": {},
   "outputs": [],
   "source": []
  },
  {
   "cell_type": "code",
   "execution_count": 14,
   "id": "d92770f9",
   "metadata": {},
   "outputs": [
    {
     "data": {
      "text/plain": [
       "0    26.6 km/kg\n",
       "1    19.67 kmpl\n",
       "2     18.2 kmpl\n",
       "3    20.77 kmpl\n",
       "4     15.2 kmpl\n",
       "5    21.1 km/kg\n",
       "6    23.08 kmpl\n",
       "7    11.36 kmpl\n",
       "8    20.54 kmpl\n",
       "9     22.3 kmpl\n",
       "Name: Mileage, dtype: object"
      ]
     },
     "execution_count": 14,
     "metadata": {},
     "output_type": "execute_result"
    }
   ],
   "source": [
    "# Exploring the column \"Mileage\" further, to get the unique mileage.\n",
    "\n",
    "data2[\"Mileage\"].head(10)"
   ]
  },
  {
   "cell_type": "markdown",
   "id": "e86840e5",
   "metadata": {},
   "source": [
    "- It has both km/kg and kmpl. Km/kg seem not to be an appropriate unit for mileage"
   ]
  },
  {
   "cell_type": "code",
   "execution_count": null,
   "id": "bf952799",
   "metadata": {},
   "outputs": [],
   "source": []
  },
  {
   "cell_type": "code",
   "execution_count": 15,
   "id": "53f5fd85",
   "metadata": {},
   "outputs": [
    {
     "data": {
      "text/html": [
       "<div>\n",
       "<style scoped>\n",
       "    .dataframe tbody tr th:only-of-type {\n",
       "        vertical-align: middle;\n",
       "    }\n",
       "\n",
       "    .dataframe tbody tr th {\n",
       "        vertical-align: top;\n",
       "    }\n",
       "\n",
       "    .dataframe thead th {\n",
       "        text-align: right;\n",
       "    }\n",
       "</style>\n",
       "<table border=\"1\" class=\"dataframe\">\n",
       "  <thead>\n",
       "    <tr style=\"text-align: right;\">\n",
       "      <th></th>\n",
       "      <th>S.No.</th>\n",
       "      <th>Year</th>\n",
       "      <th>Kilometers_Driven</th>\n",
       "      <th>Seats</th>\n",
       "      <th>New_Price</th>\n",
       "      <th>Price</th>\n",
       "    </tr>\n",
       "  </thead>\n",
       "  <tbody>\n",
       "    <tr>\n",
       "      <th>S.No.</th>\n",
       "      <td>1.000000</td>\n",
       "      <td>0.005573</td>\n",
       "      <td>-0.007697</td>\n",
       "      <td>-0.006720</td>\n",
       "      <td>-0.020737</td>\n",
       "      <td>-0.020275</td>\n",
       "    </tr>\n",
       "    <tr>\n",
       "      <th>Year</th>\n",
       "      <td>0.005573</td>\n",
       "      <td>1.000000</td>\n",
       "      <td>-0.187859</td>\n",
       "      <td>0.008216</td>\n",
       "      <td>-0.006277</td>\n",
       "      <td>0.305327</td>\n",
       "    </tr>\n",
       "    <tr>\n",
       "      <th>Kilometers_Driven</th>\n",
       "      <td>-0.007697</td>\n",
       "      <td>-0.187859</td>\n",
       "      <td>1.000000</td>\n",
       "      <td>0.090221</td>\n",
       "      <td>0.015501</td>\n",
       "      <td>-0.011493</td>\n",
       "    </tr>\n",
       "    <tr>\n",
       "      <th>Seats</th>\n",
       "      <td>-0.006720</td>\n",
       "      <td>0.008216</td>\n",
       "      <td>0.090221</td>\n",
       "      <td>1.000000</td>\n",
       "      <td>0.037519</td>\n",
       "      <td>0.052225</td>\n",
       "    </tr>\n",
       "    <tr>\n",
       "      <th>New_Price</th>\n",
       "      <td>-0.020737</td>\n",
       "      <td>-0.006277</td>\n",
       "      <td>0.015501</td>\n",
       "      <td>0.037519</td>\n",
       "      <td>1.000000</td>\n",
       "      <td>0.763362</td>\n",
       "    </tr>\n",
       "    <tr>\n",
       "      <th>Price</th>\n",
       "      <td>-0.020275</td>\n",
       "      <td>0.305327</td>\n",
       "      <td>-0.011493</td>\n",
       "      <td>0.052225</td>\n",
       "      <td>0.763362</td>\n",
       "      <td>1.000000</td>\n",
       "    </tr>\n",
       "  </tbody>\n",
       "</table>\n",
       "</div>"
      ],
      "text/plain": [
       "                      S.No.      Year  Kilometers_Driven     Seats  New_Price  \\\n",
       "S.No.              1.000000  0.005573          -0.007697 -0.006720  -0.020737   \n",
       "Year               0.005573  1.000000          -0.187859  0.008216  -0.006277   \n",
       "Kilometers_Driven -0.007697 -0.187859           1.000000  0.090221   0.015501   \n",
       "Seats             -0.006720  0.008216           0.090221  1.000000   0.037519   \n",
       "New_Price         -0.020737 -0.006277           0.015501  0.037519   1.000000   \n",
       "Price             -0.020275  0.305327          -0.011493  0.052225   0.763362   \n",
       "\n",
       "                      Price  \n",
       "S.No.             -0.020275  \n",
       "Year               0.305327  \n",
       "Kilometers_Driven -0.011493  \n",
       "Seats              0.052225  \n",
       "New_Price          0.763362  \n",
       "Price              1.000000  "
      ]
     },
     "execution_count": 15,
     "metadata": {},
     "output_type": "execute_result"
    }
   ],
   "source": [
    "# checking the correlation and possibly multicolinearity.\n",
    "\n",
    "data2.corr()"
   ]
  },
  {
   "cell_type": "code",
   "execution_count": 16,
   "id": "943b3e71",
   "metadata": {},
   "outputs": [],
   "source": [
    "numeric = data2.select_dtypes(include= \"number\")\n",
    "\n",
    "num_corr = numeric.corr()"
   ]
  },
  {
   "cell_type": "code",
   "execution_count": 17,
   "id": "6ecc1716",
   "metadata": {},
   "outputs": [
    {
     "data": {
      "text/plain": [
       "<AxesSubplot:>"
      ]
     },
     "execution_count": 17,
     "metadata": {},
     "output_type": "execute_result"
    },
    {
     "data": {
      "image/png": "[encoded data removed]",
      "text/plain": [
       "<Figure size 640x480 with 2 Axes>"
      ]
     },
     "metadata": {},
     "output_type": "display_data"
    }
   ],
   "source": [
    "# Getting the variable correlations in a map form.\n",
    "\n",
    "sb.heatmap(num_corr, vmax= 1, vmin= -1, annot= True)"
   ]
  },
  {
   "cell_type": "markdown",
   "id": "d0f8d7fb",
   "metadata": {},
   "source": [
    " - There is no multi-colineraity, meaning the variables or features do not have high correlation with themselves.\n",
    "\n",
    " - There are both postive and negative correlations among the variables. For example, \"New_Price\" and \"Year\", \"Kilometers_Driven\" and \"Year\", \"Kilometers_Driven\" and \"Price\" all have negative correlations, meaning as one of the variable increases, the other corresponding variable decreases.\n",
    "\n",
    " - Aside \"New_Price\" and \"Year\", the other features do not have high correlation with the target (\"Price\"). This means the model might not perform very well."
   ]
  },
  {
   "cell_type": "code",
   "execution_count": null,
   "id": "24b37fd7",
   "metadata": {},
   "outputs": [],
   "source": []
  },
  {
   "cell_type": "code",
   "execution_count": 18,
   "id": "11eca8a0",
   "metadata": {},
   "outputs": [
    {
     "data": {
      "text/html": [
       "<div>\n",
       "<style scoped>\n",
       "    .dataframe tbody tr th:only-of-type {\n",
       "        vertical-align: middle;\n",
       "    }\n",
       "\n",
       "    .dataframe tbody tr th {\n",
       "        vertical-align: top;\n",
       "    }\n",
       "\n",
       "    .dataframe thead th {\n",
       "        text-align: right;\n",
       "    }\n",
       "</style>\n",
       "<table border=\"1\" class=\"dataframe\">\n",
       "  <thead>\n",
       "    <tr style=\"text-align: right;\">\n",
       "      <th></th>\n",
       "      <th>count</th>\n",
       "      <th>mean</th>\n",
       "      <th>std</th>\n",
       "      <th>min</th>\n",
       "      <th>25%</th>\n",
       "      <th>50%</th>\n",
       "      <th>75%</th>\n",
       "      <th>max</th>\n",
       "    </tr>\n",
       "  </thead>\n",
       "  <tbody>\n",
       "    <tr>\n",
       "      <th>S.No.</th>\n",
       "      <td>7253.0</td>\n",
       "      <td>3626.000000</td>\n",
       "      <td>2093.905084</td>\n",
       "      <td>0.00</td>\n",
       "      <td>1813.00</td>\n",
       "      <td>3626.00</td>\n",
       "      <td>5439.00</td>\n",
       "      <td>7252.0</td>\n",
       "    </tr>\n",
       "    <tr>\n",
       "      <th>Year</th>\n",
       "      <td>7253.0</td>\n",
       "      <td>2013.365366</td>\n",
       "      <td>3.254421</td>\n",
       "      <td>1996.00</td>\n",
       "      <td>2011.00</td>\n",
       "      <td>2014.00</td>\n",
       "      <td>2016.00</td>\n",
       "      <td>2019.0</td>\n",
       "    </tr>\n",
       "    <tr>\n",
       "      <th>Kilometers_Driven</th>\n",
       "      <td>7253.0</td>\n",
       "      <td>58699.063146</td>\n",
       "      <td>84427.720583</td>\n",
       "      <td>171.00</td>\n",
       "      <td>34000.00</td>\n",
       "      <td>53416.00</td>\n",
       "      <td>73000.00</td>\n",
       "      <td>6500000.0</td>\n",
       "    </tr>\n",
       "    <tr>\n",
       "      <th>Seats</th>\n",
       "      <td>7200.0</td>\n",
       "      <td>5.279722</td>\n",
       "      <td>0.811660</td>\n",
       "      <td>0.00</td>\n",
       "      <td>5.00</td>\n",
       "      <td>5.00</td>\n",
       "      <td>5.00</td>\n",
       "      <td>10.0</td>\n",
       "    </tr>\n",
       "    <tr>\n",
       "      <th>New_Price</th>\n",
       "      <td>7253.0</td>\n",
       "      <td>21.307322</td>\n",
       "      <td>24.256314</td>\n",
       "      <td>3.91</td>\n",
       "      <td>7.88</td>\n",
       "      <td>11.30</td>\n",
       "      <td>21.69</td>\n",
       "      <td>375.0</td>\n",
       "    </tr>\n",
       "    <tr>\n",
       "      <th>Price</th>\n",
       "      <td>6019.0</td>\n",
       "      <td>9.479468</td>\n",
       "      <td>11.187917</td>\n",
       "      <td>0.44</td>\n",
       "      <td>3.50</td>\n",
       "      <td>5.64</td>\n",
       "      <td>9.95</td>\n",
       "      <td>160.0</td>\n",
       "    </tr>\n",
       "  </tbody>\n",
       "</table>\n",
       "</div>"
      ],
      "text/plain": [
       "                    count          mean           std      min       25%  \\\n",
       "S.No.              7253.0   3626.000000   2093.905084     0.00   1813.00   \n",
       "Year               7253.0   2013.365366      3.254421  1996.00   2011.00   \n",
       "Kilometers_Driven  7253.0  58699.063146  84427.720583   171.00  34000.00   \n",
       "Seats              7200.0      5.279722      0.811660     0.00      5.00   \n",
       "New_Price          7253.0     21.307322     24.256314     3.91      7.88   \n",
       "Price              6019.0      9.479468     11.187917     0.44      3.50   \n",
       "\n",
       "                        50%       75%        max  \n",
       "S.No.               3626.00   5439.00     7252.0  \n",
       "Year                2014.00   2016.00     2019.0  \n",
       "Kilometers_Driven  53416.00  73000.00  6500000.0  \n",
       "Seats                  5.00      5.00       10.0  \n",
       "New_Price             11.30     21.69      375.0  \n",
       "Price                  5.64      9.95      160.0  "
      ]
     },
     "execution_count": 18,
     "metadata": {},
     "output_type": "execute_result"
    }
   ],
   "source": [
    "# checking the data for statistical overview.\n",
    "\n",
    "data2.describe().T"
   ]
  },
  {
   "cell_type": "markdown",
   "id": "be2ad7ae",
   "metadata": {},
   "source": [
    "- This is just for numeric variables."
   ]
  },
  {
   "cell_type": "code",
   "execution_count": null,
   "id": "a7e4e207",
   "metadata": {},
   "outputs": [],
   "source": []
  },
  {
   "cell_type": "code",
   "execution_count": 19,
   "id": "ed8a8563",
   "metadata": {},
   "outputs": [
    {
     "data": {
      "text/html": [
       "<div>\n",
       "<style scoped>\n",
       "    .dataframe tbody tr th:only-of-type {\n",
       "        vertical-align: middle;\n",
       "    }\n",
       "\n",
       "    .dataframe tbody tr th {\n",
       "        vertical-align: top;\n",
       "    }\n",
       "\n",
       "    .dataframe thead th {\n",
       "        text-align: right;\n",
       "    }\n",
       "</style>\n",
       "<table border=\"1\" class=\"dataframe\">\n",
       "  <thead>\n",
       "    <tr style=\"text-align: right;\">\n",
       "      <th></th>\n",
       "      <th>count</th>\n",
       "      <th>unique</th>\n",
       "      <th>top</th>\n",
       "      <th>freq</th>\n",
       "      <th>mean</th>\n",
       "      <th>std</th>\n",
       "      <th>min</th>\n",
       "      <th>25%</th>\n",
       "      <th>50%</th>\n",
       "      <th>75%</th>\n",
       "      <th>max</th>\n",
       "    </tr>\n",
       "  </thead>\n",
       "  <tbody>\n",
       "    <tr>\n",
       "      <th>S.No.</th>\n",
       "      <td>7253.0</td>\n",
       "      <td>NaN</td>\n",
       "      <td>NaN</td>\n",
       "      <td>NaN</td>\n",
       "      <td>3626.0</td>\n",
       "      <td>2093.905084</td>\n",
       "      <td>0.0</td>\n",
       "      <td>1813.0</td>\n",
       "      <td>3626.0</td>\n",
       "      <td>5439.0</td>\n",
       "      <td>7252.0</td>\n",
       "    </tr>\n",
       "    <tr>\n",
       "      <th>Name</th>\n",
       "      <td>7253</td>\n",
       "      <td>2041</td>\n",
       "      <td>Mahindra XUV500 W8 2WD</td>\n",
       "      <td>55</td>\n",
       "      <td>NaN</td>\n",
       "      <td>NaN</td>\n",
       "      <td>NaN</td>\n",
       "      <td>NaN</td>\n",
       "      <td>NaN</td>\n",
       "      <td>NaN</td>\n",
       "      <td>NaN</td>\n",
       "    </tr>\n",
       "    <tr>\n",
       "      <th>Location</th>\n",
       "      <td>7253</td>\n",
       "      <td>11</td>\n",
       "      <td>Mumbai</td>\n",
       "      <td>949</td>\n",
       "      <td>NaN</td>\n",
       "      <td>NaN</td>\n",
       "      <td>NaN</td>\n",
       "      <td>NaN</td>\n",
       "      <td>NaN</td>\n",
       "      <td>NaN</td>\n",
       "      <td>NaN</td>\n",
       "    </tr>\n",
       "    <tr>\n",
       "      <th>Year</th>\n",
       "      <td>7253.0</td>\n",
       "      <td>NaN</td>\n",
       "      <td>NaN</td>\n",
       "      <td>NaN</td>\n",
       "      <td>2013.365366</td>\n",
       "      <td>3.254421</td>\n",
       "      <td>1996.0</td>\n",
       "      <td>2011.0</td>\n",
       "      <td>2014.0</td>\n",
       "      <td>2016.0</td>\n",
       "      <td>2019.0</td>\n",
       "    </tr>\n",
       "    <tr>\n",
       "      <th>Kilometers_Driven</th>\n",
       "      <td>7253.0</td>\n",
       "      <td>NaN</td>\n",
       "      <td>NaN</td>\n",
       "      <td>NaN</td>\n",
       "      <td>58699.063146</td>\n",
       "      <td>84427.720583</td>\n",
       "      <td>171.0</td>\n",
       "      <td>34000.0</td>\n",
       "      <td>53416.0</td>\n",
       "      <td>73000.0</td>\n",
       "      <td>6500000.0</td>\n",
       "    </tr>\n",
       "    <tr>\n",
       "      <th>Fuel_Type</th>\n",
       "      <td>7253</td>\n",
       "      <td>5</td>\n",
       "      <td>Diesel</td>\n",
       "      <td>3852</td>\n",
       "      <td>NaN</td>\n",
       "      <td>NaN</td>\n",
       "      <td>NaN</td>\n",
       "      <td>NaN</td>\n",
       "      <td>NaN</td>\n",
       "      <td>NaN</td>\n",
       "      <td>NaN</td>\n",
       "    </tr>\n",
       "    <tr>\n",
       "      <th>Transmission</th>\n",
       "      <td>7253</td>\n",
       "      <td>2</td>\n",
       "      <td>Manual</td>\n",
       "      <td>5204</td>\n",
       "      <td>NaN</td>\n",
       "      <td>NaN</td>\n",
       "      <td>NaN</td>\n",
       "      <td>NaN</td>\n",
       "      <td>NaN</td>\n",
       "      <td>NaN</td>\n",
       "      <td>NaN</td>\n",
       "    </tr>\n",
       "    <tr>\n",
       "      <th>Owner_Type</th>\n",
       "      <td>7253</td>\n",
       "      <td>4</td>\n",
       "      <td>First</td>\n",
       "      <td>5952</td>\n",
       "      <td>NaN</td>\n",
       "      <td>NaN</td>\n",
       "      <td>NaN</td>\n",
       "      <td>NaN</td>\n",
       "      <td>NaN</td>\n",
       "      <td>NaN</td>\n",
       "      <td>NaN</td>\n",
       "    </tr>\n",
       "    <tr>\n",
       "      <th>Mileage</th>\n",
       "      <td>7251</td>\n",
       "      <td>450</td>\n",
       "      <td>17.0 kmpl</td>\n",
       "      <td>207</td>\n",
       "      <td>NaN</td>\n",
       "      <td>NaN</td>\n",
       "      <td>NaN</td>\n",
       "      <td>NaN</td>\n",
       "      <td>NaN</td>\n",
       "      <td>NaN</td>\n",
       "      <td>NaN</td>\n",
       "    </tr>\n",
       "    <tr>\n",
       "      <th>Engine</th>\n",
       "      <td>7207</td>\n",
       "      <td>150</td>\n",
       "      <td>1197 CC</td>\n",
       "      <td>732</td>\n",
       "      <td>NaN</td>\n",
       "      <td>NaN</td>\n",
       "      <td>NaN</td>\n",
       "      <td>NaN</td>\n",
       "      <td>NaN</td>\n",
       "      <td>NaN</td>\n",
       "      <td>NaN</td>\n",
       "    </tr>\n",
       "    <tr>\n",
       "      <th>Power</th>\n",
       "      <td>7078</td>\n",
       "      <td>385</td>\n",
       "      <td>74 bhp</td>\n",
       "      <td>280</td>\n",
       "      <td>NaN</td>\n",
       "      <td>NaN</td>\n",
       "      <td>NaN</td>\n",
       "      <td>NaN</td>\n",
       "      <td>NaN</td>\n",
       "      <td>NaN</td>\n",
       "      <td>NaN</td>\n",
       "    </tr>\n",
       "    <tr>\n",
       "      <th>Seats</th>\n",
       "      <td>7200.0</td>\n",
       "      <td>NaN</td>\n",
       "      <td>NaN</td>\n",
       "      <td>NaN</td>\n",
       "      <td>5.279722</td>\n",
       "      <td>0.81166</td>\n",
       "      <td>0.0</td>\n",
       "      <td>5.0</td>\n",
       "      <td>5.0</td>\n",
       "      <td>5.0</td>\n",
       "      <td>10.0</td>\n",
       "    </tr>\n",
       "    <tr>\n",
       "      <th>New_Price</th>\n",
       "      <td>7253.0</td>\n",
       "      <td>NaN</td>\n",
       "      <td>NaN</td>\n",
       "      <td>NaN</td>\n",
       "      <td>21.307322</td>\n",
       "      <td>24.256314</td>\n",
       "      <td>3.91</td>\n",
       "      <td>7.88</td>\n",
       "      <td>11.3</td>\n",
       "      <td>21.69</td>\n",
       "      <td>375.0</td>\n",
       "    </tr>\n",
       "    <tr>\n",
       "      <th>Price</th>\n",
       "      <td>6019.0</td>\n",
       "      <td>NaN</td>\n",
       "      <td>NaN</td>\n",
       "      <td>NaN</td>\n",
       "      <td>9.479468</td>\n",
       "      <td>11.187917</td>\n",
       "      <td>0.44</td>\n",
       "      <td>3.5</td>\n",
       "      <td>5.64</td>\n",
       "      <td>9.95</td>\n",
       "      <td>160.0</td>\n",
       "    </tr>\n",
       "  </tbody>\n",
       "</table>\n",
       "</div>"
      ],
      "text/plain": [
       "                    count unique                     top  freq          mean  \\\n",
       "S.No.              7253.0    NaN                     NaN   NaN        3626.0   \n",
       "Name                 7253   2041  Mahindra XUV500 W8 2WD    55           NaN   \n",
       "Location             7253     11                  Mumbai   949           NaN   \n",
       "Year               7253.0    NaN                     NaN   NaN   2013.365366   \n",
       "Kilometers_Driven  7253.0    NaN                     NaN   NaN  58699.063146   \n",
       "Fuel_Type            7253      5                  Diesel  3852           NaN   \n",
       "Transmission         7253      2                  Manual  5204           NaN   \n",
       "Owner_Type           7253      4                   First  5952           NaN   \n",
       "Mileage              7251    450               17.0 kmpl   207           NaN   \n",
       "Engine               7207    150                 1197 CC   732           NaN   \n",
       "Power                7078    385                  74 bhp   280           NaN   \n",
       "Seats              7200.0    NaN                     NaN   NaN      5.279722   \n",
       "New_Price          7253.0    NaN                     NaN   NaN     21.307322   \n",
       "Price              6019.0    NaN                     NaN   NaN      9.479468   \n",
       "\n",
       "                            std     min      25%      50%      75%        max  \n",
       "S.No.               2093.905084     0.0   1813.0   3626.0   5439.0     7252.0  \n",
       "Name                        NaN     NaN      NaN      NaN      NaN        NaN  \n",
       "Location                    NaN     NaN      NaN      NaN      NaN        NaN  \n",
       "Year                   3.254421  1996.0   2011.0   2014.0   2016.0     2019.0  \n",
       "Kilometers_Driven  84427.720583   171.0  34000.0  53416.0  73000.0  6500000.0  \n",
       "Fuel_Type                   NaN     NaN      NaN      NaN      NaN        NaN  \n",
       "Transmission                NaN     NaN      NaN      NaN      NaN        NaN  \n",
       "Owner_Type                  NaN     NaN      NaN      NaN      NaN        NaN  \n",
       "Mileage                     NaN     NaN      NaN      NaN      NaN        NaN  \n",
       "Engine                      NaN     NaN      NaN      NaN      NaN        NaN  \n",
       "Power                       NaN     NaN      NaN      NaN      NaN        NaN  \n",
       "Seats                   0.81166     0.0      5.0      5.0      5.0       10.0  \n",
       "New_Price             24.256314    3.91     7.88     11.3    21.69      375.0  \n",
       "Price                 11.187917    0.44      3.5     5.64     9.95      160.0  "
      ]
     },
     "execution_count": 19,
     "metadata": {},
     "output_type": "execute_result"
    }
   ],
   "source": [
    "# to show the statistical summary of all the columns (numerics and objects).\n",
    "\n",
    "data2.describe(include=\"all\").T"
   ]
  },
  {
   "cell_type": "markdown",
   "id": "116210d4",
   "metadata": {},
   "source": [
    "- From the mean and median (50%) values for the target \"Price\", it shows the data is right-skewed since the mean is far greater than the median."
   ]
  },
  {
   "cell_type": "code",
   "execution_count": null,
   "id": "4901dfa6",
   "metadata": {},
   "outputs": [],
   "source": []
  },
  {
   "cell_type": "markdown",
   "id": "6b7cdcd5",
   "metadata": {},
   "source": [
    "## Univariate Analysis"
   ]
  },
  {
   "cell_type": "code",
   "execution_count": 101,
   "id": "a5550d72",
   "metadata": {},
   "outputs": [],
   "source": [
    "# importing the package to use for the visualization\n",
    "\n",
    "from utils import histogram_boxplot, labeled_barplot"
   ]
  },
  {
   "cell_type": "code",
   "execution_count": null,
   "id": "c6acb98b",
   "metadata": {},
   "outputs": [],
   "source": []
  },
  {
   "cell_type": "code",
   "execution_count": 106,
   "id": "115e00d1",
   "metadata": {},
   "outputs": [
    {
     "data": {
      "image/png": "[encoded data removed]",
      "text/plain": [
       "<Figure size 900x500 with 2 Axes>"
      ]
     },
     "metadata": {},
     "output_type": "display_data"
    }
   ],
   "source": [
    "# plotting for the \"Price\" variable\n",
    "\n",
    "histogram_boxplot(data= data2, feature= \"Price\")"
   ]
  },
  {
   "cell_type": "markdown",
   "id": "bd950abc",
   "metadata": {},
   "source": [
    "- This is the target variable.\n",
    "\n",
    "- It is right-skewed and as such needs to be transformed using log."
   ]
  },
  {
   "cell_type": "code",
   "execution_count": null,
   "id": "acc990bf",
   "metadata": {},
   "outputs": [],
   "source": []
  },
  {
   "cell_type": "code",
   "execution_count": 120,
   "id": "dbd62e85",
   "metadata": {},
   "outputs": [
    {
     "data": {
      "image/png": "[encoded data removed]",
      "text/plain": [
       "<Figure size 900x500 with 2 Axes>"
      ]
     },
     "metadata": {},
     "output_type": "display_data"
    }
   ],
   "source": [
    "data2[\"log_price\"] = np.log(data2[\"Price\"])\n",
    "\n",
    "# using \"histogram_boxplot(data2, \"log_price\")\" or the below command\n",
    "\n",
    "histogram_boxplot(data= data2, feature= \"log_price\")"
   ]
  },
  {
   "cell_type": "markdown",
   "id": "247d3930",
   "metadata": {},
   "source": [
    "* The transformed price which is actually the \"log_price\" and also the target is now normally distributed."
   ]
  },
  {
   "cell_type": "code",
   "execution_count": null,
   "id": "91b1bae3",
   "metadata": {},
   "outputs": [],
   "source": []
  },
  {
   "cell_type": "code",
   "execution_count": 107,
   "id": "e6d2f89c",
   "metadata": {},
   "outputs": [
    {
     "data": {
      "image/png": "[encoded data removed]",
      "text/plain": [
       "<Figure size 900x500 with 2 Axes>"
      ]
     },
     "metadata": {},
     "output_type": "display_data"
    }
   ],
   "source": [
    "# plotting for the \"New_Price\" variable\n",
    "\n",
    "histogram_boxplot(data= data2, feature= \"New_Price\")"
   ]
  },
  {
   "cell_type": "markdown",
   "id": "550baddb",
   "metadata": {},
   "source": [
    "- It is right-skewed, which means there are outliers in the values of the variable."
   ]
  },
  {
   "cell_type": "code",
   "execution_count": null,
   "id": "eaf3ee96",
   "metadata": {},
   "outputs": [],
   "source": []
  },
  {
   "cell_type": "code",
   "execution_count": 108,
   "id": "dc840268",
   "metadata": {},
   "outputs": [
    {
     "data": {
      "image/png": "[encoded data removed]",
      "text/plain": [
       "<Figure size 900x500 with 2 Axes>"
      ]
     },
     "metadata": {},
     "output_type": "display_data"
    }
   ],
   "source": [
    "# plotting for the \"Year\" variable.\n",
    "\n",
    "histogram_boxplot(data= data2, feature= \"Year\")"
   ]
  },
  {
   "cell_type": "markdown",
   "id": "8b51a23f",
   "metadata": {},
   "source": [
    "- It is left-skewed and there is presence of outliers in the values of the variable."
   ]
  },
  {
   "cell_type": "code",
   "execution_count": null,
   "id": "28ca9fa9",
   "metadata": {},
   "outputs": [],
   "source": []
  },
  {
   "cell_type": "code",
   "execution_count": 109,
   "id": "247087ee",
   "metadata": {},
   "outputs": [
    {
     "data": {
      "image/png": "[encoded data removed]",
      "text/plain": [
       "<Figure size 900x500 with 2 Axes>"
      ]
     },
     "metadata": {},
     "output_type": "display_data"
    }
   ],
   "source": [
    "# plotting for the \"Kilometers_Driven\" variable\n",
    "\n",
    "histogram_boxplot(data= data2, feature= \"Kilometers_Driven\")"
   ]
  },
  {
   "cell_type": "markdown",
   "id": "1e3d229f",
   "metadata": {},
   "source": [
    "- It is right-skewed, and have outliers in the variable.\n"
   ]
  },
  {
   "cell_type": "code",
   "execution_count": null,
   "id": "e60f551c",
   "metadata": {},
   "outputs": [],
   "source": []
  },
  {
   "cell_type": "code",
   "execution_count": 111,
   "id": "9717408a",
   "metadata": {},
   "outputs": [
    {
     "data": {
      "image/png": "[encoded data removed]",
      "text/plain": [
       "<Figure size 900x500 with 2 Axes>"
      ]
     },
     "metadata": {},
     "output_type": "display_data"
    }
   ],
   "source": [
    "# plotting for the \"Seats\" variable.\n",
    "\n",
    "histogram_boxplot(data= data2, feature= \"Seats\")"
   ]
  },
  {
   "cell_type": "markdown",
   "id": "fb5ef3e6",
   "metadata": {},
   "source": [
    "- Much cannot be explained here using this plot, so a categorical plot will be used for this variable."
   ]
  },
  {
   "cell_type": "code",
   "execution_count": null,
   "id": "af0c243b",
   "metadata": {},
   "outputs": [],
   "source": []
  },
  {
   "cell_type": "markdown",
   "id": "03fbd5bb",
   "metadata": {},
   "source": [
    "# Categorical Plot"
   ]
  },
  {
   "cell_type": "code",
   "execution_count": 113,
   "id": "da8d5dad",
   "metadata": {},
   "outputs": [
    {
     "data": {
      "image/png": "[encoded data removed]",
      "text/plain": [
       "<Figure size 1000x500 with 1 Axes>"
      ]
     },
     "metadata": {},
     "output_type": "display_data"
    }
   ],
   "source": [
    "# plotting for the \"Seats\" variable.\n",
    "\n",
    "labeled_barplot(data2, \"Seats\", perc=True)"
   ]
  },
  {
   "cell_type": "markdown",
   "id": "58f33574",
   "metadata": {},
   "source": [
    "- Cars with 5 seats have the highest percentage count of 83.4%, while cars with no seat (zero seat) has the least number (percentage count) with a percentage of 0.0%, alogside cars with 9 seats."
   ]
  },
  {
   "cell_type": "code",
   "execution_count": null,
   "id": "5b7e82d7",
   "metadata": {},
   "outputs": [],
   "source": []
  },
  {
   "cell_type": "code",
   "execution_count": 114,
   "id": "9daaa331",
   "metadata": {},
   "outputs": [
    {
     "data": {
      "image/png": "[encoded data removed]",
      "text/plain": [
       "<Figure size 300x500 with 1 Axes>"
      ]
     },
     "metadata": {},
     "output_type": "display_data"
    }
   ],
   "source": [
    "# plotting for the \"Transmission\" variable.\n",
    "\n",
    "labeled_barplot(data2, \"Transmission\", perc=True)"
   ]
  },
  {
   "cell_type": "markdown",
   "id": "72e37850",
   "metadata": {},
   "source": [
    "- Cars with manual transmission have the highest percentage count of 71.7% compared to cars with automatic transmission which has a percentage count of 28.3%."
   ]
  },
  {
   "cell_type": "code",
   "execution_count": null,
   "id": "b9e7510b",
   "metadata": {},
   "outputs": [],
   "source": []
  },
  {
   "cell_type": "code",
   "execution_count": 115,
   "id": "a59e06b3",
   "metadata": {},
   "outputs": [
    {
     "data": {
      "image/png": "[encoded data removed]",
      "text/plain": [
       "<Figure size 600x500 with 1 Axes>"
      ]
     },
     "metadata": {},
     "output_type": "display_data"
    }
   ],
   "source": [
    "# plotting for the \"Fuel_Type\" variable.\n",
    "\n",
    "labeled_barplot(data2, \"Fuel_Type\", perc=True)"
   ]
  },
  {
   "cell_type": "markdown",
   "id": "27a9fc61",
   "metadata": {},
   "source": [
    "- Cars with electric fuel_type have the lowest percentage count of 0.0%, while diesel cars have the highest percentage count of 53.1%, followed by petrol cars with 45.8%."
   ]
  },
  {
   "cell_type": "code",
   "execution_count": null,
   "id": "c3b3c122",
   "metadata": {},
   "outputs": [],
   "source": []
  },
  {
   "cell_type": "code",
   "execution_count": 116,
   "id": "70de905a",
   "metadata": {},
   "outputs": [
    {
     "data": {
      "image/png": "[encoded data removed]",
      "text/plain": [
       "<Figure size 500x500 with 1 Axes>"
      ]
     },
     "metadata": {},
     "output_type": "display_data"
    }
   ],
   "source": [
    "# plotting for the \"Owner_Type\" variable.\n",
    "\n",
    "labeled_barplot(data2, \"Owner_Type\", perc=True)"
   ]
  },
  {
   "cell_type": "markdown",
   "id": "9661a0a6",
   "metadata": {},
   "source": [
    "- First owner cars or new cars have the highest percentage count of 82.1%, followed by second-new cars with a percentage count of 15.5% and the least is fourth & above (0.2%).\n",
    "\n",
    "- This invariably means that the older the car, the lower its demand."
   ]
  },
  {
   "cell_type": "code",
   "execution_count": null,
   "id": "d2ad9b96",
   "metadata": {},
   "outputs": [],
   "source": []
  },
  {
   "cell_type": "code",
   "execution_count": 117,
   "id": "86f2359f",
   "metadata": {},
   "outputs": [
    {
     "data": {
      "image/png": "[encoded data removed]",
      "text/plain": [
       "<Figure size 1200x500 with 1 Axes>"
      ]
     },
     "metadata": {},
     "output_type": "display_data"
    }
   ],
   "source": [
    "# plotting for the \"Location\" variable.\n",
    "\n",
    "labeled_barplot(data2, \"Location\", perc=True)"
   ]
  },
  {
   "cell_type": "markdown",
   "id": "041e08db",
   "metadata": {},
   "source": [
    "- Although there are different percentage counts in the various locations but the differences are not widely spread, at such the location does not really have much impact in the sales of cars. So this variable will be dropped in building the model.\n",
    "\n",
    "- Notwithstanding, Mumbai has the highest percentage count of 13.1%, while Ahmedabad has the lowest percentage count (3.8%)."
   ]
  },
  {
   "cell_type": "code",
   "execution_count": null,
   "id": "4bdfc687",
   "metadata": {},
   "outputs": [],
   "source": []
  },
  {
   "cell_type": "markdown",
   "id": "5545e709",
   "metadata": {},
   "source": [
    "# Bivariate Analysis"
   ]
  },
  {
   "cell_type": "code",
   "execution_count": 121,
   "id": "7d705649",
   "metadata": {},
   "outputs": [
    {
     "data": {
      "image/png": "[encoded data removed]",
      "text/plain": [
       "<Figure size 640x480 with 1 Axes>"
      ]
     },
     "metadata": {},
     "output_type": "display_data"
    }
   ],
   "source": [
    "# Plotting the target \"log_price\" (dependent variable) against the feature or independent variable \"Location\".\n",
    "\n",
    "sb.boxplot(y = \"log_price\", x= \"Location\", data=data2);"
   ]
  },
  {
   "cell_type": "markdown",
   "id": "d6963160",
   "metadata": {},
   "source": [
    "- Inconsistency on how the location affects the price of used cars.\n",
    "\n",
    "- So the location does not have appropriate correlation with the target."
   ]
  },
  {
   "cell_type": "code",
   "execution_count": null,
   "id": "f8766900",
   "metadata": {},
   "outputs": [],
   "source": []
  },
  {
   "cell_type": "code",
   "execution_count": 122,
   "id": "1bc430e0",
   "metadata": {},
   "outputs": [
    {
     "data": {
      "image/png": "[encoded data removed]",
      "text/plain": [
       "<Figure size 640x480 with 1 Axes>"
      ]
     },
     "metadata": {},
     "output_type": "display_data"
    }
   ],
   "source": [
    "# Plotting the target \"log_price\" (dependent variable) against the feature or independent variable \"Year\".\n",
    "\n",
    "sb.boxplot(y = \"log_price\", x= \"Year\", data=data2, );"
   ]
  },
  {
   "cell_type": "markdown",
   "id": "05e2eb9e",
   "metadata": {},
   "source": [
    "- As the manufacturing year (newness of a car or how new the car is) increases, the log of the price of a used car increases."
   ]
  },
  {
   "cell_type": "code",
   "execution_count": null,
   "id": "bd5b2a58",
   "metadata": {},
   "outputs": [],
   "source": []
  },
  {
   "cell_type": "code",
   "execution_count": 123,
   "id": "95cea7fb",
   "metadata": {},
   "outputs": [
    {
     "data": {
      "image/png": "[encoded data removed]",
      "text/plain": [
       "<Figure size 640x480 with 1 Axes>"
      ]
     },
     "metadata": {},
     "output_type": "display_data"
    }
   ],
   "source": [
    "# Plotting the target \"log_price\" (dependent variable) against the feature or independent variable \"Fuel_Typpe\".\n",
    "\n",
    "sb.boxplot(y = \"log_price\", x= \"Fuel_Type\", data=data2);"
   ]
  },
  {
   "cell_type": "markdown",
   "id": "ac3dd4ca",
   "metadata": {},
   "source": [
    "- The diesel fuel_type cars have better price values (log of the price) of a used car compared to other fuel_type. This is followed by petrol driven cars."
   ]
  },
  {
   "cell_type": "code",
   "execution_count": null,
   "id": "7b58c45a",
   "metadata": {},
   "outputs": [],
   "source": []
  },
  {
   "cell_type": "code",
   "execution_count": 124,
   "id": "947bd213",
   "metadata": {},
   "outputs": [
    {
     "data": {
      "image/png": "[encoded data removed]",
      "text/plain": [
       "<Figure size 500x500 with 1 Axes>"
      ]
     },
     "metadata": {},
     "output_type": "display_data"
    }
   ],
   "source": [
    "# Plotting the target \"log_price\" (dependent variable) against the feature or independent variable \"Transmission\" using catplot.\n",
    "\n",
    "sb.catplot(y = \"log_price\", x= \"Transmission\", data=data2);"
   ]
  },
  {
   "cell_type": "code",
   "execution_count": 125,
   "id": "d9bab6d9",
   "metadata": {},
   "outputs": [
    {
     "data": {
      "image/png": "[encoded data removed]",
      "text/plain": [
       "<Figure size 640x480 with 1 Axes>"
      ]
     },
     "metadata": {},
     "output_type": "display_data"
    }
   ],
   "source": [
    "# Plotting the target \"log_price\" (dependent variable) against the feature or independent variable \"Transmission\" using boxplot.\n",
    "\n",
    "sb.boxplot(y = \"log_price\", x= \"Transmission\", data=data2);"
   ]
  },
  {
   "cell_type": "markdown",
   "id": "d14c1520",
   "metadata": {},
   "source": [
    "- Automatic cars have more values relative to the log_price of used cars compared to the manually driven cars."
   ]
  },
  {
   "cell_type": "code",
   "execution_count": null,
   "id": "0ce3c720",
   "metadata": {},
   "outputs": [],
   "source": []
  },
  {
   "cell_type": "code",
   "execution_count": 126,
   "id": "66aaa147",
   "metadata": {},
   "outputs": [
    {
     "data": {
      "image/png": "[encoded data removed]",
      "text/plain": [
       "<Figure size 640x480 with 1 Axes>"
      ]
     },
     "metadata": {},
     "output_type": "display_data"
    }
   ],
   "source": [
    "# Plotting the target \"log_price\" (dependent variable) against the feature or independent variable \"Owner_Type\".\n",
    "\n",
    "sb.boxplot(y = \"log_price\", x= \"Owner_Type\", data=data2);"
   ]
  },
  {
   "cell_type": "markdown",
   "id": "a5fcb752",
   "metadata": {},
   "source": [
    "- As the \"Owner_Type\" increases (going from new to fairly-used to extremely-used cars), the log of the price of a used car decreases.\n",
    "- So the value of used cars depreciates with increase in the number of previous users or owners."
   ]
  },
  {
   "cell_type": "code",
   "execution_count": null,
   "id": "d576b450",
   "metadata": {},
   "outputs": [],
   "source": []
  },
  {
   "cell_type": "code",
   "execution_count": 127,
   "id": "5665d2c8",
   "metadata": {},
   "outputs": [
    {
     "data": {
      "image/png": "[encoded data removed]",
      "text/plain": [
       "<Figure size 640x480 with 1 Axes>"
      ]
     },
     "metadata": {},
     "output_type": "display_data"
    }
   ],
   "source": [
    "# Plotting the target \"log_price\" (dependent variable) against the feature or independent variable \"Seats\".\n",
    "\n",
    "sb.boxplot(y = \"log_price\", x= \"Seats\", data=data2);"
   ]
  },
  {
   "cell_type": "markdown",
   "id": "33a671ad",
   "metadata": {},
   "source": [
    "- The number of seats does not have a linear realtion with the log_price of a used car. Anyways, cars with fewer seats (for example, 2 and 4 seats) have higher values in relationship with the log of the price of the car."
   ]
  },
  {
   "cell_type": "code",
   "execution_count": null,
   "id": "476a7d74",
   "metadata": {},
   "outputs": [],
   "source": []
  },
  {
   "cell_type": "code",
   "execution_count": 128,
   "id": "26af27bc",
   "metadata": {},
   "outputs": [
    {
     "data": {
      "image/png": "[encoded data removed]",
      "text/plain": [
       "<Figure size 640x480 with 1 Axes>"
      ]
     },
     "metadata": {},
     "output_type": "display_data"
    }
   ],
   "source": [
    "# Plotting the target \"log_price\" (dependent variable) against the feature or independent variable \"New_Price\".\n",
    "\n",
    "sb.boxplot(y = \"log_price\", x= \"New_Price\", data=data2);"
   ]
  },
  {
   "cell_type": "markdown",
   "id": "49797900",
   "metadata": {},
   "source": [
    "- As the price of new cars increase (\"New_Price\"), the log of the price (log_price) of used cars increase."
   ]
  },
  {
   "cell_type": "code",
   "execution_count": null,
   "id": "cb5fb080",
   "metadata": {},
   "outputs": [],
   "source": []
  },
  {
   "cell_type": "markdown",
   "id": "41480aac",
   "metadata": {},
   "source": [
    "# Preparing the data (Data Preprocessing)"
   ]
  },
  {
   "cell_type": "code",
   "execution_count": 42,
   "id": "2b380c74",
   "metadata": {},
   "outputs": [
    {
     "data": {
      "text/plain": [
       "0"
      ]
     },
     "execution_count": 42,
     "metadata": {},
     "output_type": "execute_result"
    }
   ],
   "source": [
    "# Checking for duplicates\n",
    "\n",
    "data2.duplicated().sum()"
   ]
  },
  {
   "cell_type": "code",
   "execution_count": null,
   "id": "648fab06",
   "metadata": {},
   "outputs": [],
   "source": []
  },
  {
   "cell_type": "code",
   "execution_count": 43,
   "id": "e203db88",
   "metadata": {},
   "outputs": [],
   "source": [
    "# data2.drop_duplicates(inplace= True)"
   ]
  },
  {
   "cell_type": "code",
   "execution_count": null,
   "id": "9f7538bf",
   "metadata": {},
   "outputs": [],
   "source": []
  },
  {
   "cell_type": "code",
   "execution_count": 45,
   "id": "4aac3808",
   "metadata": {},
   "outputs": [
    {
     "data": {
      "text/html": [
       "<div>\n",
       "<style scoped>\n",
       "    .dataframe tbody tr th:only-of-type {\n",
       "        vertical-align: middle;\n",
       "    }\n",
       "\n",
       "    .dataframe tbody tr th {\n",
       "        vertical-align: top;\n",
       "    }\n",
       "\n",
       "    .dataframe thead th {\n",
       "        text-align: right;\n",
       "    }\n",
       "</style>\n",
       "<table border=\"1\" class=\"dataframe\">\n",
       "  <thead>\n",
       "    <tr style=\"text-align: right;\">\n",
       "      <th></th>\n",
       "      <th>S.No.</th>\n",
       "      <th>Name</th>\n",
       "      <th>Location</th>\n",
       "      <th>Year</th>\n",
       "      <th>Kilometers_Driven</th>\n",
       "      <th>Fuel_Type</th>\n",
       "      <th>Transmission</th>\n",
       "      <th>Owner_Type</th>\n",
       "      <th>Mileage</th>\n",
       "      <th>Engine</th>\n",
       "      <th>Power</th>\n",
       "      <th>Seats</th>\n",
       "      <th>New_Price</th>\n",
       "      <th>Price</th>\n",
       "      <th>log_price</th>\n",
       "    </tr>\n",
       "  </thead>\n",
       "  <tbody>\n",
       "    <tr>\n",
       "      <th>0</th>\n",
       "      <td>0</td>\n",
       "      <td>Maruti Wagon R LXI CNG</td>\n",
       "      <td>Mumbai</td>\n",
       "      <td>2010</td>\n",
       "      <td>72000</td>\n",
       "      <td>CNG</td>\n",
       "      <td>Manual</td>\n",
       "      <td>First</td>\n",
       "      <td>26.6 km/kg</td>\n",
       "      <td>998 CC</td>\n",
       "      <td>58.16 bhp</td>\n",
       "      <td>5.0</td>\n",
       "      <td>5.51</td>\n",
       "      <td>1.75</td>\n",
       "      <td>0.559616</td>\n",
       "    </tr>\n",
       "    <tr>\n",
       "      <th>1</th>\n",
       "      <td>1</td>\n",
       "      <td>Hyundai Creta 1.6 CRDi SX Option</td>\n",
       "      <td>Pune</td>\n",
       "      <td>2015</td>\n",
       "      <td>41000</td>\n",
       "      <td>Diesel</td>\n",
       "      <td>Manual</td>\n",
       "      <td>First</td>\n",
       "      <td>19.67 kmpl</td>\n",
       "      <td>1582 CC</td>\n",
       "      <td>126.2 bhp</td>\n",
       "      <td>5.0</td>\n",
       "      <td>16.06</td>\n",
       "      <td>12.50</td>\n",
       "      <td>2.525729</td>\n",
       "    </tr>\n",
       "  </tbody>\n",
       "</table>\n",
       "</div>"
      ],
      "text/plain": [
       "   S.No.                              Name Location  Year  Kilometers_Driven  \\\n",
       "0      0            Maruti Wagon R LXI CNG   Mumbai  2010              72000   \n",
       "1      1  Hyundai Creta 1.6 CRDi SX Option     Pune  2015              41000   \n",
       "\n",
       "  Fuel_Type Transmission Owner_Type     Mileage   Engine      Power  Seats  \\\n",
       "0       CNG       Manual      First  26.6 km/kg   998 CC  58.16 bhp    5.0   \n",
       "1    Diesel       Manual      First  19.67 kmpl  1582 CC  126.2 bhp    5.0   \n",
       "\n",
       "   New_Price  Price  log_price  \n",
       "0       5.51   1.75   0.559616  \n",
       "1      16.06  12.50   2.525729  "
      ]
     },
     "execution_count": 45,
     "metadata": {},
     "output_type": "execute_result"
    }
   ],
   "source": [
    "# Getting an overview of the data\n",
    "\n",
    "data2.head(2)"
   ]
  },
  {
   "cell_type": "code",
   "execution_count": null,
   "id": "416e45b5",
   "metadata": {},
   "outputs": [],
   "source": []
  },
  {
   "cell_type": "code",
   "execution_count": 46,
   "id": "1957d624",
   "metadata": {},
   "outputs": [],
   "source": [
    "# Dropping some columns\n",
    "\n",
    "data2.drop([\"S.No.\", \"Price\", \"Name\", \"Location\"], axis=1, inplace= True)\n",
    "\n",
    "# data2.drop([], axis=1, inplace= True)"
   ]
  },
  {
   "cell_type": "markdown",
   "id": "35631386",
   "metadata": {},
   "source": [
    "- Variables that might not explicitly contribute to the performance of the target and consequently the model were dropped.\n",
    "\n",
    "- Although in some cases the type or make of the car (which in this case is the \"Name\" variable) influences the used value of a car positively or negatively, nevertheless, it is not generally or in its entirety.\n",
    "- The \"Price\" which was actually supposed to be the target variable was dropped it was transformed to \"log_price\". This is done to avoid biasness in the model due to extremely high correlation between the \"Price\" and the \"log_price\", when in reality they are one and the same.\n",
    "- The serial number \"S.NO.\" and the \"Location\" have no valid or contributing signigicance to the target or model. So it is better to drop them."
   ]
  },
  {
   "cell_type": "code",
   "execution_count": null,
   "id": "8e2bf022",
   "metadata": {},
   "outputs": [],
   "source": []
  },
  {
   "cell_type": "code",
   "execution_count": 47,
   "id": "d584acf8",
   "metadata": {},
   "outputs": [
    {
     "data": {
      "text/plain": [
       "(7253, 11)"
      ]
     },
     "execution_count": 47,
     "metadata": {},
     "output_type": "execute_result"
    }
   ],
   "source": [
    "# Checking the new dimension of the data.\n",
    "\n",
    "data2.shape"
   ]
  },
  {
   "cell_type": "code",
   "execution_count": null,
   "id": "928be64a",
   "metadata": {},
   "outputs": [],
   "source": []
  },
  {
   "cell_type": "code",
   "execution_count": 48,
   "id": "1592749f",
   "metadata": {},
   "outputs": [
    {
     "data": {
      "text/html": [
       "<div>\n",
       "<style scoped>\n",
       "    .dataframe tbody tr th:only-of-type {\n",
       "        vertical-align: middle;\n",
       "    }\n",
       "\n",
       "    .dataframe tbody tr th {\n",
       "        vertical-align: top;\n",
       "    }\n",
       "\n",
       "    .dataframe thead th {\n",
       "        text-align: right;\n",
       "    }\n",
       "</style>\n",
       "<table border=\"1\" class=\"dataframe\">\n",
       "  <thead>\n",
       "    <tr style=\"text-align: right;\">\n",
       "      <th></th>\n",
       "      <th>Year</th>\n",
       "      <th>Kilometers_Driven</th>\n",
       "      <th>Fuel_Type</th>\n",
       "      <th>Transmission</th>\n",
       "      <th>Owner_Type</th>\n",
       "      <th>Mileage</th>\n",
       "      <th>Engine</th>\n",
       "      <th>Power</th>\n",
       "      <th>Seats</th>\n",
       "      <th>New_Price</th>\n",
       "      <th>log_price</th>\n",
       "    </tr>\n",
       "  </thead>\n",
       "  <tbody>\n",
       "    <tr>\n",
       "      <th>0</th>\n",
       "      <td>2010</td>\n",
       "      <td>72000</td>\n",
       "      <td>CNG</td>\n",
       "      <td>Manual</td>\n",
       "      <td>First</td>\n",
       "      <td>26.6 km/kg</td>\n",
       "      <td>998 CC</td>\n",
       "      <td>58.16 bhp</td>\n",
       "      <td>5.0</td>\n",
       "      <td>5.51</td>\n",
       "      <td>0.559616</td>\n",
       "    </tr>\n",
       "    <tr>\n",
       "      <th>1</th>\n",
       "      <td>2015</td>\n",
       "      <td>41000</td>\n",
       "      <td>Diesel</td>\n",
       "      <td>Manual</td>\n",
       "      <td>First</td>\n",
       "      <td>19.67 kmpl</td>\n",
       "      <td>1582 CC</td>\n",
       "      <td>126.2 bhp</td>\n",
       "      <td>5.0</td>\n",
       "      <td>16.06</td>\n",
       "      <td>2.525729</td>\n",
       "    </tr>\n",
       "    <tr>\n",
       "      <th>2</th>\n",
       "      <td>2011</td>\n",
       "      <td>46000</td>\n",
       "      <td>Petrol</td>\n",
       "      <td>Manual</td>\n",
       "      <td>First</td>\n",
       "      <td>18.2 kmpl</td>\n",
       "      <td>1199 CC</td>\n",
       "      <td>88.7 bhp</td>\n",
       "      <td>5.0</td>\n",
       "      <td>8.61</td>\n",
       "      <td>1.504077</td>\n",
       "    </tr>\n",
       "  </tbody>\n",
       "</table>\n",
       "</div>"
      ],
      "text/plain": [
       "   Year  Kilometers_Driven Fuel_Type Transmission Owner_Type     Mileage  \\\n",
       "0  2010              72000       CNG       Manual      First  26.6 km/kg   \n",
       "1  2015              41000    Diesel       Manual      First  19.67 kmpl   \n",
       "2  2011              46000    Petrol       Manual      First   18.2 kmpl   \n",
       "\n",
       "    Engine      Power  Seats  New_Price  log_price  \n",
       "0   998 CC  58.16 bhp    5.0       5.51   0.559616  \n",
       "1  1582 CC  126.2 bhp    5.0      16.06   2.525729  \n",
       "2  1199 CC   88.7 bhp    5.0       8.61   1.504077  "
      ]
     },
     "execution_count": 48,
     "metadata": {},
     "output_type": "execute_result"
    }
   ],
   "source": [
    "# Checking the top three rows of the data to ascertain if the dropped columns have been effected.\n",
    "\n",
    "data2.head(3)"
   ]
  },
  {
   "cell_type": "code",
   "execution_count": null,
   "id": "cf3365bf",
   "metadata": {},
   "outputs": [],
   "source": []
  },
  {
   "cell_type": "markdown",
   "id": "bc11d23f",
   "metadata": {},
   "source": [
    "# Converting some Mixed Datatype Columns from Strings to Numerics (Int. or Float)"
   ]
  },
  {
   "cell_type": "code",
   "execution_count": 49,
   "id": "1be63115",
   "metadata": {},
   "outputs": [
    {
     "data": {
      "text/plain": [
       "['15.56', 'kmpl']"
      ]
     },
     "execution_count": 49,
     "metadata": {},
     "output_type": "execute_result"
    }
   ],
   "source": [
    "s1 = \"15.56 kmpl\"\n",
    "\n",
    "# s1.split()[1].replace(\"kmpl\", \"\")\n",
    "\n",
    "s1.split()"
   ]
  },
  {
   "cell_type": "code",
   "execution_count": 50,
   "id": "86f84083",
   "metadata": {},
   "outputs": [
    {
     "data": {
      "text/plain": [
       "'15.56'"
      ]
     },
     "execution_count": 50,
     "metadata": {},
     "output_type": "execute_result"
    }
   ],
   "source": [
    "s1.split()[0].replace(\"kmpl\", \"\")"
   ]
  },
  {
   "cell_type": "code",
   "execution_count": null,
   "id": "9718927e",
   "metadata": {},
   "outputs": [],
   "source": []
  },
  {
   "cell_type": "code",
   "execution_count": 51,
   "id": "09ffb69b",
   "metadata": {},
   "outputs": [],
   "source": [
    "# Defining the function and removing the unit in the variable \"Engine\"\n",
    "\n",
    "def convert_engine (var):\n",
    "    if isinstance(var, str):\n",
    "        if \"CC\" in var:\n",
    "            cc = var.split()[0].replace(\"CC\", \"\")\n",
    "            return cc\n",
    "        else:\n",
    "            return var"
   ]
  },
  {
   "cell_type": "code",
   "execution_count": 52,
   "id": "734bcc41",
   "metadata": {},
   "outputs": [],
   "source": [
    "# applying it into the function.\n",
    "\n",
    "data2[\"Engine\"] = data2[\"Engine\"].apply(convert_engine)"
   ]
  },
  {
   "cell_type": "code",
   "execution_count": null,
   "id": "d1c2ae13",
   "metadata": {},
   "outputs": [],
   "source": []
  },
  {
   "cell_type": "code",
   "execution_count": 53,
   "id": "e74fefe6",
   "metadata": {},
   "outputs": [],
   "source": [
    "# Defining the function and removing the unit in the variable \"Mileage\"\n",
    "\n",
    "def convert_from_kmpl(var):\n",
    "    if isinstance(var, str):\n",
    "        if \"kmpl\" in var:\n",
    "            kmpl = var.split()[0].replace(\"kmpl\", \"\")\n",
    "            return kmpl\n",
    "        elif \"km/kg\" in var:\n",
    "            kg = float(var.split()[0].replace(\"kmpl\", \"\")) * 1.40\n",
    "            return kg\n",
    "        else:\n",
    "            return var"
   ]
  },
  {
   "cell_type": "code",
   "execution_count": 54,
   "id": "5742b654",
   "metadata": {},
   "outputs": [],
   "source": [
    "# applying it into the function.\n",
    "\n",
    "data2[\"Mileage\"] = data2[\"Mileage\"].apply(convert_from_kmpl)"
   ]
  },
  {
   "cell_type": "code",
   "execution_count": null,
   "id": "437846b3",
   "metadata": {},
   "outputs": [],
   "source": []
  },
  {
   "cell_type": "code",
   "execution_count": 55,
   "id": "a9b22c3f",
   "metadata": {},
   "outputs": [],
   "source": [
    "# Defining the function and removing the unit in the variable \"Power\"\n",
    "\n",
    "def convert_power (var):\n",
    "    if isinstance(var, str):\n",
    "        if \"bhp\" in var:\n",
    "            bhp = var.split()[0].replace(\"CC\", \"\")\n",
    "            return bhp\n",
    "        else:\n",
    "            return var"
   ]
  },
  {
   "cell_type": "code",
   "execution_count": 56,
   "id": "d9c035e4",
   "metadata": {},
   "outputs": [],
   "source": [
    "# applying it into the function.\n",
    "\n",
    "data2[\"Power\"] = data2[\"Power\"].apply(convert_power)"
   ]
  },
  {
   "cell_type": "code",
   "execution_count": null,
   "id": "af22ba05",
   "metadata": {},
   "outputs": [],
   "source": []
  },
  {
   "cell_type": "code",
   "execution_count": 57,
   "id": "2672d9ee",
   "metadata": {},
   "outputs": [
    {
     "data": {
      "text/plain": [
       "0    37.24\n",
       "1    19.67\n",
       "2     18.2\n",
       "3    20.77\n",
       "4     15.2\n",
       "Name: Mileage, dtype: object"
      ]
     },
     "execution_count": 57,
     "metadata": {},
     "output_type": "execute_result"
    }
   ],
   "source": [
    "# Checking datatype for \"Mileage\"\n",
    "\n",
    "data2[\"Mileage\"].head()"
   ]
  },
  {
   "cell_type": "code",
   "execution_count": 58,
   "id": "91b152e8",
   "metadata": {},
   "outputs": [
    {
     "data": {
      "text/plain": [
       "0    58.16\n",
       "1    126.2\n",
       "2     88.7\n",
       "3    88.76\n",
       "4    140.8\n",
       "Name: Power, dtype: object"
      ]
     },
     "execution_count": 58,
     "metadata": {},
     "output_type": "execute_result"
    }
   ],
   "source": [
    "# Checking datatype for \"Power\"\n",
    "\n",
    "data2[\"Power\"].head()"
   ]
  },
  {
   "cell_type": "code",
   "execution_count": 59,
   "id": "16081846",
   "metadata": {},
   "outputs": [
    {
     "data": {
      "text/plain": [
       "0     998\n",
       "1    1582\n",
       "2    1199\n",
       "3    1248\n",
       "4    1968\n",
       "Name: Engine, dtype: object"
      ]
     },
     "execution_count": 59,
     "metadata": {},
     "output_type": "execute_result"
    }
   ],
   "source": [
    "# Checking datatype for \"Engine\"\n",
    "\n",
    "data2[\"Engine\"].head()"
   ]
  },
  {
   "cell_type": "code",
   "execution_count": null,
   "id": "9f39f461",
   "metadata": {},
   "outputs": [],
   "source": []
  },
  {
   "cell_type": "markdown",
   "id": "6ba11a7f",
   "metadata": {},
   "source": [
    "# Converting Datatype from Object to Float"
   ]
  },
  {
   "cell_type": "code",
   "execution_count": 60,
   "id": "99075ba7",
   "metadata": {},
   "outputs": [],
   "source": [
    "# converting datatype from object to float for \"Mileage\"\n",
    "\n",
    "data2[\"Mileage\"] = data2[\"Mileage\"].astype(float)"
   ]
  },
  {
   "cell_type": "code",
   "execution_count": 61,
   "id": "44c0561a",
   "metadata": {},
   "outputs": [],
   "source": [
    "# converting datatype from object to float for \"Mileage\"\n",
    "\n",
    "data2[\"Power\"] = data2[\"Power\"].astype(float)"
   ]
  },
  {
   "cell_type": "code",
   "execution_count": 62,
   "id": "14754bda",
   "metadata": {},
   "outputs": [],
   "source": [
    "# converting datatype from object to float for \"Mileage\"\n",
    "\n",
    "data2[\"Engine\"] = data2[\"Engine\"].astype(float)"
   ]
  },
  {
   "cell_type": "code",
   "execution_count": null,
   "id": "58165ecf",
   "metadata": {},
   "outputs": [],
   "source": []
  },
  {
   "cell_type": "code",
   "execution_count": 63,
   "id": "62ce1ee2",
   "metadata": {},
   "outputs": [
    {
     "data": {
      "text/plain": [
       "0    37.24\n",
       "1    19.67\n",
       "2    18.20\n",
       "3    20.77\n",
       "4    15.20\n",
       "Name: Mileage, dtype: float64"
      ]
     },
     "execution_count": 63,
     "metadata": {},
     "output_type": "execute_result"
    }
   ],
   "source": [
    "# rechecking datatype for \"Mileage\"\n",
    "\n",
    "data2[\"Mileage\"].head()"
   ]
  },
  {
   "cell_type": "code",
   "execution_count": 64,
   "id": "840ba3f9",
   "metadata": {},
   "outputs": [
    {
     "data": {
      "text/plain": [
       "0     998.0\n",
       "1    1582.0\n",
       "2    1199.0\n",
       "3    1248.0\n",
       "4    1968.0\n",
       "Name: Engine, dtype: float64"
      ]
     },
     "execution_count": 64,
     "metadata": {},
     "output_type": "execute_result"
    }
   ],
   "source": [
    "# rechecking datatype for \"Engine\"\n",
    "\n",
    "data2[\"Engine\"].head()"
   ]
  },
  {
   "cell_type": "code",
   "execution_count": 65,
   "id": "214dbcb4",
   "metadata": {},
   "outputs": [
    {
     "data": {
      "text/plain": [
       "0     58.16\n",
       "1    126.20\n",
       "2     88.70\n",
       "3     88.76\n",
       "4    140.80\n",
       "Name: Power, dtype: float64"
      ]
     },
     "execution_count": 65,
     "metadata": {},
     "output_type": "execute_result"
    }
   ],
   "source": [
    "# rechecking datatype for \"Power\"\n",
    "\n",
    "data2[\"Power\"].head()"
   ]
  },
  {
   "cell_type": "code",
   "execution_count": null,
   "id": "873eb5e2",
   "metadata": {},
   "outputs": [],
   "source": []
  },
  {
   "cell_type": "markdown",
   "id": "a9b9bf39",
   "metadata": {},
   "source": [
    "# Addressing Missing Values"
   ]
  },
  {
   "cell_type": "code",
   "execution_count": 67,
   "id": "8aaa5a99",
   "metadata": {},
   "outputs": [
    {
     "data": {
      "text/plain": [
       "Year                    0\n",
       "Kilometers_Driven       0\n",
       "Fuel_Type               0\n",
       "Transmission            0\n",
       "Owner_Type              0\n",
       "Mileage                 2\n",
       "Engine                 46\n",
       "Power                 175\n",
       "Seats                  53\n",
       "New_Price               0\n",
       "log_price            1234\n",
       "dtype: int64"
      ]
     },
     "execution_count": 67,
     "metadata": {},
     "output_type": "execute_result"
    }
   ],
   "source": [
    "# Checking for missing values\n",
    "\n",
    "data2.isna().sum()"
   ]
  },
  {
   "cell_type": "code",
   "execution_count": null,
   "id": "6bb5f8c9",
   "metadata": {},
   "outputs": [],
   "source": []
  },
  {
   "cell_type": "code",
   "execution_count": 68,
   "id": "2c3a43a9",
   "metadata": {},
   "outputs": [
    {
     "data": {
      "text/plain": [
       "['Fuel_Type', 'Transmission', 'Owner_Type']"
      ]
     },
     "execution_count": 68,
     "metadata": {},
     "output_type": "execute_result"
    }
   ],
   "source": [
    "# Getting a list of the object data type variables\n",
    "\n",
    "cat_cols = data2.select_dtypes(include= \"object\").columns.to_list()\n",
    "\n",
    "cat_cols"
   ]
  },
  {
   "cell_type": "code",
   "execution_count": null,
   "id": "52554686",
   "metadata": {},
   "outputs": [],
   "source": []
  },
  {
   "cell_type": "code",
   "execution_count": 69,
   "id": "b41cd240",
   "metadata": {},
   "outputs": [
    {
     "data": {
      "text/plain": [
       "['Year',\n",
       " 'Kilometers_Driven',\n",
       " 'Mileage',\n",
       " 'Engine',\n",
       " 'Power',\n",
       " 'Seats',\n",
       " 'New_Price',\n",
       " 'log_price']"
      ]
     },
     "execution_count": 69,
     "metadata": {},
     "output_type": "execute_result"
    }
   ],
   "source": [
    "# Getting a list of the numerical data type variables\n",
    "\n",
    "num_cols = data2.select_dtypes(include= \"number\").columns.to_list()\n",
    "\n",
    "num_cols"
   ]
  },
  {
   "cell_type": "code",
   "execution_count": null,
   "id": "7f9984c3",
   "metadata": {},
   "outputs": [],
   "source": []
  },
  {
   "cell_type": "code",
   "execution_count": 70,
   "id": "761b7b13",
   "metadata": {},
   "outputs": [],
   "source": [
    "# fixing the missing values in the numerical variables\n",
    "\n",
    "data2[num_cols] = data2.groupby([\"Owner_Type\"])[num_cols].transform(lambda x: x.fillna(x.median()))"
   ]
  },
  {
   "cell_type": "code",
   "execution_count": 71,
   "id": "79b72730",
   "metadata": {},
   "outputs": [
    {
     "data": {
      "text/html": [
       "<div>\n",
       "<style scoped>\n",
       "    .dataframe tbody tr th:only-of-type {\n",
       "        vertical-align: middle;\n",
       "    }\n",
       "\n",
       "    .dataframe tbody tr th {\n",
       "        vertical-align: top;\n",
       "    }\n",
       "\n",
       "    .dataframe thead th {\n",
       "        text-align: right;\n",
       "    }\n",
       "</style>\n",
       "<table border=\"1\" class=\"dataframe\">\n",
       "  <thead>\n",
       "    <tr style=\"text-align: right;\">\n",
       "      <th></th>\n",
       "      <th>Year</th>\n",
       "      <th>Kilometers_Driven</th>\n",
       "      <th>Fuel_Type</th>\n",
       "      <th>Transmission</th>\n",
       "      <th>Owner_Type</th>\n",
       "      <th>Mileage</th>\n",
       "      <th>Engine</th>\n",
       "      <th>Power</th>\n",
       "      <th>Seats</th>\n",
       "      <th>New_Price</th>\n",
       "      <th>log_price</th>\n",
       "    </tr>\n",
       "  </thead>\n",
       "  <tbody>\n",
       "    <tr>\n",
       "      <th>0</th>\n",
       "      <td>2010</td>\n",
       "      <td>72000</td>\n",
       "      <td>CNG</td>\n",
       "      <td>Manual</td>\n",
       "      <td>First</td>\n",
       "      <td>37.24</td>\n",
       "      <td>998.0</td>\n",
       "      <td>58.16</td>\n",
       "      <td>5.0</td>\n",
       "      <td>5.51</td>\n",
       "      <td>0.559616</td>\n",
       "    </tr>\n",
       "    <tr>\n",
       "      <th>1</th>\n",
       "      <td>2015</td>\n",
       "      <td>41000</td>\n",
       "      <td>Diesel</td>\n",
       "      <td>Manual</td>\n",
       "      <td>First</td>\n",
       "      <td>19.67</td>\n",
       "      <td>1582.0</td>\n",
       "      <td>126.20</td>\n",
       "      <td>5.0</td>\n",
       "      <td>16.06</td>\n",
       "      <td>2.525729</td>\n",
       "    </tr>\n",
       "    <tr>\n",
       "      <th>2</th>\n",
       "      <td>2011</td>\n",
       "      <td>46000</td>\n",
       "      <td>Petrol</td>\n",
       "      <td>Manual</td>\n",
       "      <td>First</td>\n",
       "      <td>18.20</td>\n",
       "      <td>1199.0</td>\n",
       "      <td>88.70</td>\n",
       "      <td>5.0</td>\n",
       "      <td>8.61</td>\n",
       "      <td>1.504077</td>\n",
       "    </tr>\n",
       "    <tr>\n",
       "      <th>3</th>\n",
       "      <td>2012</td>\n",
       "      <td>87000</td>\n",
       "      <td>Diesel</td>\n",
       "      <td>Manual</td>\n",
       "      <td>First</td>\n",
       "      <td>20.77</td>\n",
       "      <td>1248.0</td>\n",
       "      <td>88.76</td>\n",
       "      <td>7.0</td>\n",
       "      <td>11.27</td>\n",
       "      <td>1.791759</td>\n",
       "    </tr>\n",
       "    <tr>\n",
       "      <th>4</th>\n",
       "      <td>2013</td>\n",
       "      <td>40670</td>\n",
       "      <td>Diesel</td>\n",
       "      <td>Automatic</td>\n",
       "      <td>Second</td>\n",
       "      <td>15.20</td>\n",
       "      <td>1968.0</td>\n",
       "      <td>140.80</td>\n",
       "      <td>5.0</td>\n",
       "      <td>53.14</td>\n",
       "      <td>2.875822</td>\n",
       "    </tr>\n",
       "  </tbody>\n",
       "</table>\n",
       "</div>"
      ],
      "text/plain": [
       "   Year  Kilometers_Driven Fuel_Type Transmission Owner_Type  Mileage  Engine  \\\n",
       "0  2010              72000       CNG       Manual      First    37.24   998.0   \n",
       "1  2015              41000    Diesel       Manual      First    19.67  1582.0   \n",
       "2  2011              46000    Petrol       Manual      First    18.20  1199.0   \n",
       "3  2012              87000    Diesel       Manual      First    20.77  1248.0   \n",
       "4  2013              40670    Diesel    Automatic     Second    15.20  1968.0   \n",
       "\n",
       "    Power  Seats  New_Price  log_price  \n",
       "0   58.16    5.0       5.51   0.559616  \n",
       "1  126.20    5.0      16.06   2.525729  \n",
       "2   88.70    5.0       8.61   1.504077  \n",
       "3   88.76    7.0      11.27   1.791759  \n",
       "4  140.80    5.0      53.14   2.875822  "
      ]
     },
     "execution_count": 71,
     "metadata": {},
     "output_type": "execute_result"
    }
   ],
   "source": [
    "data2.head()"
   ]
  },
  {
   "cell_type": "code",
   "execution_count": 72,
   "id": "c31666c4",
   "metadata": {},
   "outputs": [
    {
     "data": {
      "text/plain": [
       "Year                 0\n",
       "Kilometers_Driven    0\n",
       "Fuel_Type            0\n",
       "Transmission         0\n",
       "Owner_Type           0\n",
       "Mileage              0\n",
       "Engine               0\n",
       "Power                0\n",
       "Seats                0\n",
       "New_Price            0\n",
       "log_price            0\n",
       "dtype: int64"
      ]
     },
     "execution_count": 72,
     "metadata": {},
     "output_type": "execute_result"
    }
   ],
   "source": [
    "\"\"\"Rechecking for missing values\"\"\"\n",
    "\n",
    "data2.isnull().sum()"
   ]
  },
  {
   "cell_type": "markdown",
   "id": "5ee51b0a",
   "metadata": {},
   "source": [
    "- Missing values in the data have been fixed. No more missing values"
   ]
  },
  {
   "cell_type": "code",
   "execution_count": null,
   "id": "871ad1c0",
   "metadata": {},
   "outputs": [],
   "source": []
  },
  {
   "cell_type": "markdown",
   "id": "253d891d",
   "metadata": {},
   "source": [
    "# Normalizing and Building the Model"
   ]
  },
  {
   "cell_type": "code",
   "execution_count": 73,
   "id": "47147398",
   "metadata": {},
   "outputs": [
    {
     "data": {
      "text/html": [
       "<div>\n",
       "<style scoped>\n",
       "    .dataframe tbody tr th:only-of-type {\n",
       "        vertical-align: middle;\n",
       "    }\n",
       "\n",
       "    .dataframe tbody tr th {\n",
       "        vertical-align: top;\n",
       "    }\n",
       "\n",
       "    .dataframe thead th {\n",
       "        text-align: right;\n",
       "    }\n",
       "</style>\n",
       "<table border=\"1\" class=\"dataframe\">\n",
       "  <thead>\n",
       "    <tr style=\"text-align: right;\">\n",
       "      <th></th>\n",
       "      <th>count</th>\n",
       "      <th>unique</th>\n",
       "      <th>top</th>\n",
       "      <th>freq</th>\n",
       "      <th>mean</th>\n",
       "      <th>std</th>\n",
       "      <th>min</th>\n",
       "      <th>25%</th>\n",
       "      <th>50%</th>\n",
       "      <th>75%</th>\n",
       "      <th>max</th>\n",
       "    </tr>\n",
       "  </thead>\n",
       "  <tbody>\n",
       "    <tr>\n",
       "      <th>Year</th>\n",
       "      <td>7253.0</td>\n",
       "      <td>NaN</td>\n",
       "      <td>NaN</td>\n",
       "      <td>NaN</td>\n",
       "      <td>2013.365366</td>\n",
       "      <td>3.254421</td>\n",
       "      <td>1996.0</td>\n",
       "      <td>2011.0</td>\n",
       "      <td>2014.0</td>\n",
       "      <td>2016.0</td>\n",
       "      <td>2019.0</td>\n",
       "    </tr>\n",
       "    <tr>\n",
       "      <th>Kilometers_Driven</th>\n",
       "      <td>7253.0</td>\n",
       "      <td>NaN</td>\n",
       "      <td>NaN</td>\n",
       "      <td>NaN</td>\n",
       "      <td>58699.063146</td>\n",
       "      <td>84427.720583</td>\n",
       "      <td>171.0</td>\n",
       "      <td>34000.0</td>\n",
       "      <td>53416.0</td>\n",
       "      <td>73000.0</td>\n",
       "      <td>6500000.0</td>\n",
       "    </tr>\n",
       "    <tr>\n",
       "      <th>Fuel_Type</th>\n",
       "      <td>7253</td>\n",
       "      <td>5</td>\n",
       "      <td>Diesel</td>\n",
       "      <td>3852</td>\n",
       "      <td>NaN</td>\n",
       "      <td>NaN</td>\n",
       "      <td>NaN</td>\n",
       "      <td>NaN</td>\n",
       "      <td>NaN</td>\n",
       "      <td>NaN</td>\n",
       "      <td>NaN</td>\n",
       "    </tr>\n",
       "    <tr>\n",
       "      <th>Transmission</th>\n",
       "      <td>7253</td>\n",
       "      <td>2</td>\n",
       "      <td>Manual</td>\n",
       "      <td>5204</td>\n",
       "      <td>NaN</td>\n",
       "      <td>NaN</td>\n",
       "      <td>NaN</td>\n",
       "      <td>NaN</td>\n",
       "      <td>NaN</td>\n",
       "      <td>NaN</td>\n",
       "      <td>NaN</td>\n",
       "    </tr>\n",
       "    <tr>\n",
       "      <th>Owner_Type</th>\n",
       "      <td>7253</td>\n",
       "      <td>4</td>\n",
       "      <td>First</td>\n",
       "      <td>5952</td>\n",
       "      <td>NaN</td>\n",
       "      <td>NaN</td>\n",
       "      <td>NaN</td>\n",
       "      <td>NaN</td>\n",
       "      <td>NaN</td>\n",
       "      <td>NaN</td>\n",
       "      <td>NaN</td>\n",
       "    </tr>\n",
       "    <tr>\n",
       "      <th>Mileage</th>\n",
       "      <td>7253.0</td>\n",
       "      <td>NaN</td>\n",
       "      <td>NaN</td>\n",
       "      <td>NaN</td>\n",
       "      <td>18.241085</td>\n",
       "      <td>4.839255</td>\n",
       "      <td>0.0</td>\n",
       "      <td>15.26</td>\n",
       "      <td>18.2</td>\n",
       "      <td>21.1</td>\n",
       "      <td>46.956</td>\n",
       "    </tr>\n",
       "    <tr>\n",
       "      <th>Engine</th>\n",
       "      <td>7253.0</td>\n",
       "      <td>NaN</td>\n",
       "      <td>NaN</td>\n",
       "      <td>NaN</td>\n",
       "      <td>1615.658762</td>\n",
       "      <td>593.509845</td>\n",
       "      <td>72.0</td>\n",
       "      <td>1198.0</td>\n",
       "      <td>1493.0</td>\n",
       "      <td>1968.0</td>\n",
       "      <td>5998.0</td>\n",
       "    </tr>\n",
       "    <tr>\n",
       "      <th>Power</th>\n",
       "      <td>7253.0</td>\n",
       "      <td>NaN</td>\n",
       "      <td>NaN</td>\n",
       "      <td>NaN</td>\n",
       "      <td>112.329434</td>\n",
       "      <td>52.922358</td>\n",
       "      <td>34.2</td>\n",
       "      <td>77.0</td>\n",
       "      <td>93.7</td>\n",
       "      <td>138.03</td>\n",
       "      <td>616.0</td>\n",
       "    </tr>\n",
       "    <tr>\n",
       "      <th>Seats</th>\n",
       "      <td>7253.0</td>\n",
       "      <td>NaN</td>\n",
       "      <td>NaN</td>\n",
       "      <td>NaN</td>\n",
       "      <td>5.277678</td>\n",
       "      <td>0.809039</td>\n",
       "      <td>0.0</td>\n",
       "      <td>5.0</td>\n",
       "      <td>5.0</td>\n",
       "      <td>5.0</td>\n",
       "      <td>10.0</td>\n",
       "    </tr>\n",
       "    <tr>\n",
       "      <th>New_Price</th>\n",
       "      <td>7253.0</td>\n",
       "      <td>NaN</td>\n",
       "      <td>NaN</td>\n",
       "      <td>NaN</td>\n",
       "      <td>21.307322</td>\n",
       "      <td>24.256314</td>\n",
       "      <td>3.91</td>\n",
       "      <td>7.88</td>\n",
       "      <td>11.3</td>\n",
       "      <td>21.69</td>\n",
       "      <td>375.0</td>\n",
       "    </tr>\n",
       "    <tr>\n",
       "      <th>log_price</th>\n",
       "      <td>7253.0</td>\n",
       "      <td>NaN</td>\n",
       "      <td>NaN</td>\n",
       "      <td>NaN</td>\n",
       "      <td>1.805672</td>\n",
       "      <td>0.800053</td>\n",
       "      <td>-0.820981</td>\n",
       "      <td>1.335001</td>\n",
       "      <td>1.776646</td>\n",
       "      <td>2.128232</td>\n",
       "      <td>5.075174</td>\n",
       "    </tr>\n",
       "  </tbody>\n",
       "</table>\n",
       "</div>"
      ],
      "text/plain": [
       "                    count unique     top  freq          mean           std  \\\n",
       "Year               7253.0    NaN     NaN   NaN   2013.365366      3.254421   \n",
       "Kilometers_Driven  7253.0    NaN     NaN   NaN  58699.063146  84427.720583   \n",
       "Fuel_Type            7253      5  Diesel  3852           NaN           NaN   \n",
       "Transmission         7253      2  Manual  5204           NaN           NaN   \n",
       "Owner_Type           7253      4   First  5952           NaN           NaN   \n",
       "Mileage            7253.0    NaN     NaN   NaN     18.241085      4.839255   \n",
       "Engine             7253.0    NaN     NaN   NaN   1615.658762    593.509845   \n",
       "Power              7253.0    NaN     NaN   NaN    112.329434     52.922358   \n",
       "Seats              7253.0    NaN     NaN   NaN      5.277678      0.809039   \n",
       "New_Price          7253.0    NaN     NaN   NaN     21.307322     24.256314   \n",
       "log_price          7253.0    NaN     NaN   NaN      1.805672      0.800053   \n",
       "\n",
       "                        min       25%       50%       75%        max  \n",
       "Year                 1996.0    2011.0    2014.0    2016.0     2019.0  \n",
       "Kilometers_Driven     171.0   34000.0   53416.0   73000.0  6500000.0  \n",
       "Fuel_Type               NaN       NaN       NaN       NaN        NaN  \n",
       "Transmission            NaN       NaN       NaN       NaN        NaN  \n",
       "Owner_Type              NaN       NaN       NaN       NaN        NaN  \n",
       "Mileage                 0.0     15.26      18.2      21.1     46.956  \n",
       "Engine                 72.0    1198.0    1493.0    1968.0     5998.0  \n",
       "Power                  34.2      77.0      93.7    138.03      616.0  \n",
       "Seats                   0.0       5.0       5.0       5.0       10.0  \n",
       "New_Price              3.91      7.88      11.3     21.69      375.0  \n",
       "log_price         -0.820981  1.335001  1.776646  2.128232   5.075174  "
      ]
     },
     "execution_count": 73,
     "metadata": {},
     "output_type": "execute_result"
    }
   ],
   "source": [
    "# Getting a statistical view of all the datatype in the data.\n",
    "\n",
    "data2.describe(include= \"all\", ).T"
   ]
  },
  {
   "cell_type": "code",
   "execution_count": 74,
   "id": "bdd5c941",
   "metadata": {},
   "outputs": [
    {
     "data": {
      "text/html": [
       "<div>\n",
       "<style scoped>\n",
       "    .dataframe tbody tr th:only-of-type {\n",
       "        vertical-align: middle;\n",
       "    }\n",
       "\n",
       "    .dataframe tbody tr th {\n",
       "        vertical-align: top;\n",
       "    }\n",
       "\n",
       "    .dataframe thead th {\n",
       "        text-align: right;\n",
       "    }\n",
       "</style>\n",
       "<table border=\"1\" class=\"dataframe\">\n",
       "  <thead>\n",
       "    <tr style=\"text-align: right;\">\n",
       "      <th></th>\n",
       "      <th>count</th>\n",
       "      <th>mean</th>\n",
       "      <th>std</th>\n",
       "      <th>min</th>\n",
       "      <th>25%</th>\n",
       "      <th>50%</th>\n",
       "      <th>75%</th>\n",
       "      <th>max</th>\n",
       "    </tr>\n",
       "  </thead>\n",
       "  <tbody>\n",
       "    <tr>\n",
       "      <th>Year</th>\n",
       "      <td>7253.0</td>\n",
       "      <td>2013.365366</td>\n",
       "      <td>3.254421</td>\n",
       "      <td>1996.000000</td>\n",
       "      <td>2011.000000</td>\n",
       "      <td>2014.000000</td>\n",
       "      <td>2016.000000</td>\n",
       "      <td>2.019000e+03</td>\n",
       "    </tr>\n",
       "    <tr>\n",
       "      <th>Kilometers_Driven</th>\n",
       "      <td>7253.0</td>\n",
       "      <td>58699.063146</td>\n",
       "      <td>84427.720583</td>\n",
       "      <td>171.000000</td>\n",
       "      <td>34000.000000</td>\n",
       "      <td>53416.000000</td>\n",
       "      <td>73000.000000</td>\n",
       "      <td>6.500000e+06</td>\n",
       "    </tr>\n",
       "    <tr>\n",
       "      <th>Mileage</th>\n",
       "      <td>7253.0</td>\n",
       "      <td>18.241085</td>\n",
       "      <td>4.839255</td>\n",
       "      <td>0.000000</td>\n",
       "      <td>15.260000</td>\n",
       "      <td>18.200000</td>\n",
       "      <td>21.100000</td>\n",
       "      <td>4.695600e+01</td>\n",
       "    </tr>\n",
       "    <tr>\n",
       "      <th>Engine</th>\n",
       "      <td>7253.0</td>\n",
       "      <td>1615.658762</td>\n",
       "      <td>593.509845</td>\n",
       "      <td>72.000000</td>\n",
       "      <td>1198.000000</td>\n",
       "      <td>1493.000000</td>\n",
       "      <td>1968.000000</td>\n",
       "      <td>5.998000e+03</td>\n",
       "    </tr>\n",
       "    <tr>\n",
       "      <th>Power</th>\n",
       "      <td>7253.0</td>\n",
       "      <td>112.329434</td>\n",
       "      <td>52.922358</td>\n",
       "      <td>34.200000</td>\n",
       "      <td>77.000000</td>\n",
       "      <td>93.700000</td>\n",
       "      <td>138.030000</td>\n",
       "      <td>6.160000e+02</td>\n",
       "    </tr>\n",
       "    <tr>\n",
       "      <th>Seats</th>\n",
       "      <td>7253.0</td>\n",
       "      <td>5.277678</td>\n",
       "      <td>0.809039</td>\n",
       "      <td>0.000000</td>\n",
       "      <td>5.000000</td>\n",
       "      <td>5.000000</td>\n",
       "      <td>5.000000</td>\n",
       "      <td>1.000000e+01</td>\n",
       "    </tr>\n",
       "    <tr>\n",
       "      <th>New_Price</th>\n",
       "      <td>7253.0</td>\n",
       "      <td>21.307322</td>\n",
       "      <td>24.256314</td>\n",
       "      <td>3.910000</td>\n",
       "      <td>7.880000</td>\n",
       "      <td>11.300000</td>\n",
       "      <td>21.690000</td>\n",
       "      <td>3.750000e+02</td>\n",
       "    </tr>\n",
       "    <tr>\n",
       "      <th>log_price</th>\n",
       "      <td>7253.0</td>\n",
       "      <td>1.805672</td>\n",
       "      <td>0.800053</td>\n",
       "      <td>-0.820981</td>\n",
       "      <td>1.335001</td>\n",
       "      <td>1.776646</td>\n",
       "      <td>2.128232</td>\n",
       "      <td>5.075174e+00</td>\n",
       "    </tr>\n",
       "  </tbody>\n",
       "</table>\n",
       "</div>"
      ],
      "text/plain": [
       "                    count          mean           std          min  \\\n",
       "Year               7253.0   2013.365366      3.254421  1996.000000   \n",
       "Kilometers_Driven  7253.0  58699.063146  84427.720583   171.000000   \n",
       "Mileage            7253.0     18.241085      4.839255     0.000000   \n",
       "Engine             7253.0   1615.658762    593.509845    72.000000   \n",
       "Power              7253.0    112.329434     52.922358    34.200000   \n",
       "Seats              7253.0      5.277678      0.809039     0.000000   \n",
       "New_Price          7253.0     21.307322     24.256314     3.910000   \n",
       "log_price          7253.0      1.805672      0.800053    -0.820981   \n",
       "\n",
       "                            25%           50%           75%           max  \n",
       "Year                2011.000000   2014.000000   2016.000000  2.019000e+03  \n",
       "Kilometers_Driven  34000.000000  53416.000000  73000.000000  6.500000e+06  \n",
       "Mileage               15.260000     18.200000     21.100000  4.695600e+01  \n",
       "Engine              1198.000000   1493.000000   1968.000000  5.998000e+03  \n",
       "Power                 77.000000     93.700000    138.030000  6.160000e+02  \n",
       "Seats                  5.000000      5.000000      5.000000  1.000000e+01  \n",
       "New_Price              7.880000     11.300000     21.690000  3.750000e+02  \n",
       "log_price              1.335001      1.776646      2.128232  5.075174e+00  "
      ]
     },
     "execution_count": 74,
     "metadata": {},
     "output_type": "execute_result"
    }
   ],
   "source": [
    "# Getting a statistical view of just the numerical datatype in the data.\n",
    "\n",
    "data2.describe().T"
   ]
  },
  {
   "cell_type": "markdown",
   "id": "b338a62b",
   "metadata": {},
   "source": [
    "- Some of the variables, precisely \"Mileage\" and \"Seats\" have unreasonable values (zero) as their min. This ofcourse could be due to error or mistakes when the values were being entered or some other forms of errors."
   ]
  },
  {
   "cell_type": "code",
   "execution_count": null,
   "id": "8f8b042c",
   "metadata": {},
   "outputs": [],
   "source": []
  },
  {
   "cell_type": "code",
   "execution_count": 75,
   "id": "46440065",
   "metadata": {},
   "outputs": [],
   "source": [
    "# defening functions to tackle or treat outliers.\n",
    "\n",
    "def treat_outliers(df, col):\n",
    "    \"\"\"\n",
    "    treats outliers in a varaible\n",
    "    col: str, name of the numerical varaible\n",
    "    df: data frame\n",
    "    col: name of the column\n",
    "    \"\"\"\n",
    "    Q1 = df[col].quantile(0.25)  # 25th quantile\n",
    "    Q3 = df[col].quantile(0.75)  # 75th quantile\n",
    "    IQR = Q3 - Q1\n",
    "    Lower_Whisker = Q1 - 1.5 * IQR\n",
    "    Upper_Whisker = Q3 + 1.5 * IQR\n",
    "    df[col] = np.clip(\n",
    "        df[col], Lower_Whisker, Upper_Whisker\n",
    "    )  # all the values samller than Lower_Whisker will be assigned value of Lower_whisker\n",
    "    # and all the values above upper_whisker will be assigned value of upper_Whisker\n",
    "    return df\n",
    "\n",
    "\n",
    "def treat_outliers_all(df, col_list):\n",
    "    \"\"\"\n",
    "    treat outlier in all numerical varaibles\n",
    "    col_list: list of numerical varaibles\n",
    "    df: data frame\n",
    "    \"\"\"\n",
    "    for c in col_list:\n",
    "        df = treat_outliers(df, c)\n",
    "\n",
    "    return df"
   ]
  },
  {
   "cell_type": "code",
   "execution_count": null,
   "id": "09bfdcc7",
   "metadata": {},
   "outputs": [],
   "source": []
  },
  {
   "cell_type": "code",
   "execution_count": 76,
   "id": "0f3e195c",
   "metadata": {},
   "outputs": [],
   "source": [
    "# effecting the treatment of the outliers.\n",
    "\n",
    "data2 = treat_outliers_all(data2, num_cols)"
   ]
  },
  {
   "cell_type": "code",
   "execution_count": null,
   "id": "ae0d082e",
   "metadata": {},
   "outputs": [],
   "source": []
  },
  {
   "cell_type": "code",
   "execution_count": 77,
   "id": "a489e891",
   "metadata": {},
   "outputs": [
    {
     "data": {
      "text/html": [
       "<div>\n",
       "<style scoped>\n",
       "    .dataframe tbody tr th:only-of-type {\n",
       "        vertical-align: middle;\n",
       "    }\n",
       "\n",
       "    .dataframe tbody tr th {\n",
       "        vertical-align: top;\n",
       "    }\n",
       "\n",
       "    .dataframe thead th {\n",
       "        text-align: right;\n",
       "    }\n",
       "</style>\n",
       "<table border=\"1\" class=\"dataframe\">\n",
       "  <thead>\n",
       "    <tr style=\"text-align: right;\">\n",
       "      <th></th>\n",
       "      <th>Year</th>\n",
       "      <th>Kilometers_Driven</th>\n",
       "      <th>Fuel_Type</th>\n",
       "      <th>Transmission</th>\n",
       "      <th>Owner_Type</th>\n",
       "      <th>Mileage</th>\n",
       "      <th>Engine</th>\n",
       "      <th>Power</th>\n",
       "      <th>Seats</th>\n",
       "      <th>New_Price</th>\n",
       "      <th>log_price</th>\n",
       "    </tr>\n",
       "  </thead>\n",
       "  <tbody>\n",
       "    <tr>\n",
       "      <th>0</th>\n",
       "      <td>2010.0</td>\n",
       "      <td>72000.0</td>\n",
       "      <td>CNG</td>\n",
       "      <td>Manual</td>\n",
       "      <td>First</td>\n",
       "      <td>29.86</td>\n",
       "      <td>998.0</td>\n",
       "      <td>58.16</td>\n",
       "      <td>5.0</td>\n",
       "      <td>5.51</td>\n",
       "      <td>0.559616</td>\n",
       "    </tr>\n",
       "    <tr>\n",
       "      <th>1</th>\n",
       "      <td>2015.0</td>\n",
       "      <td>41000.0</td>\n",
       "      <td>Diesel</td>\n",
       "      <td>Manual</td>\n",
       "      <td>First</td>\n",
       "      <td>19.67</td>\n",
       "      <td>1582.0</td>\n",
       "      <td>126.20</td>\n",
       "      <td>5.0</td>\n",
       "      <td>16.06</td>\n",
       "      <td>2.525729</td>\n",
       "    </tr>\n",
       "  </tbody>\n",
       "</table>\n",
       "</div>"
      ],
      "text/plain": [
       "     Year  Kilometers_Driven Fuel_Type Transmission Owner_Type  Mileage  \\\n",
       "0  2010.0            72000.0       CNG       Manual      First    29.86   \n",
       "1  2015.0            41000.0    Diesel       Manual      First    19.67   \n",
       "\n",
       "   Engine   Power  Seats  New_Price  log_price  \n",
       "0   998.0   58.16    5.0       5.51   0.559616  \n",
       "1  1582.0  126.20    5.0      16.06   2.525729  "
      ]
     },
     "execution_count": 77,
     "metadata": {},
     "output_type": "execute_result"
    }
   ],
   "source": [
    "# Checking the first two rows of the data to get an overview.\n",
    "\n",
    "data2.head(2)"
   ]
  },
  {
   "cell_type": "code",
   "execution_count": null,
   "id": "ac973cc0",
   "metadata": {},
   "outputs": [],
   "source": []
  },
  {
   "cell_type": "code",
   "execution_count": 81,
   "id": "0e608577",
   "metadata": {},
   "outputs": [],
   "source": [
    "# Getting the x and y-axis to build the model.\n",
    "\n",
    "x = data2.drop(\"log_price\", axis=1)\n",
    "\n",
    "y = data2[\"log_price\"]"
   ]
  },
  {
   "cell_type": "code",
   "execution_count": null,
   "id": "f98ac2e9",
   "metadata": {},
   "outputs": [],
   "source": []
  },
  {
   "cell_type": "code",
   "execution_count": 84,
   "id": "b37bfe0c",
   "metadata": {},
   "outputs": [
    {
     "data": {
      "text/html": [
       "<div>\n",
       "<style scoped>\n",
       "    .dataframe tbody tr th:only-of-type {\n",
       "        vertical-align: middle;\n",
       "    }\n",
       "\n",
       "    .dataframe tbody tr th {\n",
       "        vertical-align: top;\n",
       "    }\n",
       "\n",
       "    .dataframe thead th {\n",
       "        text-align: right;\n",
       "    }\n",
       "</style>\n",
       "<table border=\"1\" class=\"dataframe\">\n",
       "  <thead>\n",
       "    <tr style=\"text-align: right;\">\n",
       "      <th></th>\n",
       "      <th>Year</th>\n",
       "      <th>Kilometers_Driven</th>\n",
       "      <th>Fuel_Type</th>\n",
       "      <th>Transmission</th>\n",
       "      <th>Owner_Type</th>\n",
       "      <th>Mileage</th>\n",
       "      <th>Engine</th>\n",
       "      <th>Power</th>\n",
       "      <th>Seats</th>\n",
       "      <th>New_Price</th>\n",
       "    </tr>\n",
       "  </thead>\n",
       "  <tbody>\n",
       "    <tr>\n",
       "      <th>0</th>\n",
       "      <td>2010.0</td>\n",
       "      <td>72000.0</td>\n",
       "      <td>CNG</td>\n",
       "      <td>Manual</td>\n",
       "      <td>First</td>\n",
       "      <td>29.86</td>\n",
       "      <td>998.0</td>\n",
       "      <td>58.16</td>\n",
       "      <td>5.0</td>\n",
       "      <td>5.510</td>\n",
       "    </tr>\n",
       "    <tr>\n",
       "      <th>1</th>\n",
       "      <td>2015.0</td>\n",
       "      <td>41000.0</td>\n",
       "      <td>Diesel</td>\n",
       "      <td>Manual</td>\n",
       "      <td>First</td>\n",
       "      <td>19.67</td>\n",
       "      <td>1582.0</td>\n",
       "      <td>126.20</td>\n",
       "      <td>5.0</td>\n",
       "      <td>16.060</td>\n",
       "    </tr>\n",
       "    <tr>\n",
       "      <th>2</th>\n",
       "      <td>2011.0</td>\n",
       "      <td>46000.0</td>\n",
       "      <td>Petrol</td>\n",
       "      <td>Manual</td>\n",
       "      <td>First</td>\n",
       "      <td>18.20</td>\n",
       "      <td>1199.0</td>\n",
       "      <td>88.70</td>\n",
       "      <td>5.0</td>\n",
       "      <td>8.610</td>\n",
       "    </tr>\n",
       "    <tr>\n",
       "      <th>3</th>\n",
       "      <td>2012.0</td>\n",
       "      <td>87000.0</td>\n",
       "      <td>Diesel</td>\n",
       "      <td>Manual</td>\n",
       "      <td>First</td>\n",
       "      <td>20.77</td>\n",
       "      <td>1248.0</td>\n",
       "      <td>88.76</td>\n",
       "      <td>5.0</td>\n",
       "      <td>11.270</td>\n",
       "    </tr>\n",
       "    <tr>\n",
       "      <th>4</th>\n",
       "      <td>2013.0</td>\n",
       "      <td>40670.0</td>\n",
       "      <td>Diesel</td>\n",
       "      <td>Automatic</td>\n",
       "      <td>Second</td>\n",
       "      <td>15.20</td>\n",
       "      <td>1968.0</td>\n",
       "      <td>140.80</td>\n",
       "      <td>5.0</td>\n",
       "      <td>42.405</td>\n",
       "    </tr>\n",
       "    <tr>\n",
       "      <th>...</th>\n",
       "      <td>...</td>\n",
       "      <td>...</td>\n",
       "      <td>...</td>\n",
       "      <td>...</td>\n",
       "      <td>...</td>\n",
       "      <td>...</td>\n",
       "      <td>...</td>\n",
       "      <td>...</td>\n",
       "      <td>...</td>\n",
       "      <td>...</td>\n",
       "    </tr>\n",
       "    <tr>\n",
       "      <th>7248</th>\n",
       "      <td>2011.0</td>\n",
       "      <td>89411.0</td>\n",
       "      <td>Diesel</td>\n",
       "      <td>Manual</td>\n",
       "      <td>First</td>\n",
       "      <td>20.54</td>\n",
       "      <td>1598.0</td>\n",
       "      <td>103.60</td>\n",
       "      <td>5.0</td>\n",
       "      <td>13.230</td>\n",
       "    </tr>\n",
       "    <tr>\n",
       "      <th>7249</th>\n",
       "      <td>2015.0</td>\n",
       "      <td>59000.0</td>\n",
       "      <td>Petrol</td>\n",
       "      <td>Automatic</td>\n",
       "      <td>First</td>\n",
       "      <td>17.21</td>\n",
       "      <td>1197.0</td>\n",
       "      <td>103.60</td>\n",
       "      <td>5.0</td>\n",
       "      <td>10.150</td>\n",
       "    </tr>\n",
       "    <tr>\n",
       "      <th>7250</th>\n",
       "      <td>2012.0</td>\n",
       "      <td>28000.0</td>\n",
       "      <td>Diesel</td>\n",
       "      <td>Manual</td>\n",
       "      <td>First</td>\n",
       "      <td>23.08</td>\n",
       "      <td>1461.0</td>\n",
       "      <td>63.10</td>\n",
       "      <td>5.0</td>\n",
       "      <td>9.470</td>\n",
       "    </tr>\n",
       "    <tr>\n",
       "      <th>7251</th>\n",
       "      <td>2013.0</td>\n",
       "      <td>52262.0</td>\n",
       "      <td>Petrol</td>\n",
       "      <td>Automatic</td>\n",
       "      <td>Third</td>\n",
       "      <td>17.20</td>\n",
       "      <td>1197.0</td>\n",
       "      <td>103.60</td>\n",
       "      <td>5.0</td>\n",
       "      <td>10.150</td>\n",
       "    </tr>\n",
       "    <tr>\n",
       "      <th>7252</th>\n",
       "      <td>2014.0</td>\n",
       "      <td>72443.0</td>\n",
       "      <td>Diesel</td>\n",
       "      <td>Automatic</td>\n",
       "      <td>First</td>\n",
       "      <td>10.00</td>\n",
       "      <td>2148.0</td>\n",
       "      <td>170.00</td>\n",
       "      <td>5.0</td>\n",
       "      <td>42.405</td>\n",
       "    </tr>\n",
       "  </tbody>\n",
       "</table>\n",
       "<p>7253 rows × 10 columns</p>\n",
       "</div>"
      ],
      "text/plain": [
       "        Year  Kilometers_Driven Fuel_Type Transmission Owner_Type  Mileage  \\\n",
       "0     2010.0            72000.0       CNG       Manual      First    29.86   \n",
       "1     2015.0            41000.0    Diesel       Manual      First    19.67   \n",
       "2     2011.0            46000.0    Petrol       Manual      First    18.20   \n",
       "3     2012.0            87000.0    Diesel       Manual      First    20.77   \n",
       "4     2013.0            40670.0    Diesel    Automatic     Second    15.20   \n",
       "...      ...                ...       ...          ...        ...      ...   \n",
       "7248  2011.0            89411.0    Diesel       Manual      First    20.54   \n",
       "7249  2015.0            59000.0    Petrol    Automatic      First    17.21   \n",
       "7250  2012.0            28000.0    Diesel       Manual      First    23.08   \n",
       "7251  2013.0            52262.0    Petrol    Automatic      Third    17.20   \n",
       "7252  2014.0            72443.0    Diesel    Automatic      First    10.00   \n",
       "\n",
       "      Engine   Power  Seats  New_Price  \n",
       "0      998.0   58.16    5.0      5.510  \n",
       "1     1582.0  126.20    5.0     16.060  \n",
       "2     1199.0   88.70    5.0      8.610  \n",
       "3     1248.0   88.76    5.0     11.270  \n",
       "4     1968.0  140.80    5.0     42.405  \n",
       "...      ...     ...    ...        ...  \n",
       "7248  1598.0  103.60    5.0     13.230  \n",
       "7249  1197.0  103.60    5.0     10.150  \n",
       "7250  1461.0   63.10    5.0      9.470  \n",
       "7251  1197.0  103.60    5.0     10.150  \n",
       "7252  2148.0  170.00    5.0     42.405  \n",
       "\n",
       "[7253 rows x 10 columns]"
      ]
     },
     "execution_count": 84,
     "metadata": {},
     "output_type": "execute_result"
    }
   ],
   "source": [
    "# viewing the x variables\n",
    "\n",
    "x "
   ]
  },
  {
   "cell_type": "code",
   "execution_count": null,
   "id": "b02a1a67",
   "metadata": {},
   "outputs": [],
   "source": []
  },
  {
   "cell_type": "code",
   "execution_count": 85,
   "id": "0b54986a",
   "metadata": {},
   "outputs": [
    {
     "data": {
      "text/html": [
       "<div>\n",
       "<style scoped>\n",
       "    .dataframe tbody tr th:only-of-type {\n",
       "        vertical-align: middle;\n",
       "    }\n",
       "\n",
       "    .dataframe tbody tr th {\n",
       "        vertical-align: top;\n",
       "    }\n",
       "\n",
       "    .dataframe thead th {\n",
       "        text-align: right;\n",
       "    }\n",
       "</style>\n",
       "<table border=\"1\" class=\"dataframe\">\n",
       "  <thead>\n",
       "    <tr style=\"text-align: right;\">\n",
       "      <th></th>\n",
       "      <th>Year</th>\n",
       "      <th>Kilometers_Driven</th>\n",
       "      <th>Mileage</th>\n",
       "      <th>Engine</th>\n",
       "      <th>Power</th>\n",
       "      <th>Seats</th>\n",
       "      <th>New_Price</th>\n",
       "      <th>Fuel_Type_Diesel</th>\n",
       "      <th>Fuel_Type_Electric</th>\n",
       "      <th>Fuel_Type_LPG</th>\n",
       "      <th>Fuel_Type_Petrol</th>\n",
       "      <th>Transmission_Manual</th>\n",
       "      <th>Owner_Type_Fourth &amp; Above</th>\n",
       "      <th>Owner_Type_Second</th>\n",
       "      <th>Owner_Type_Third</th>\n",
       "    </tr>\n",
       "  </thead>\n",
       "  <tbody>\n",
       "    <tr>\n",
       "      <th>0</th>\n",
       "      <td>2010.0</td>\n",
       "      <td>72000.0</td>\n",
       "      <td>29.86</td>\n",
       "      <td>998.0</td>\n",
       "      <td>58.16</td>\n",
       "      <td>5.0</td>\n",
       "      <td>5.510</td>\n",
       "      <td>0</td>\n",
       "      <td>0</td>\n",
       "      <td>0</td>\n",
       "      <td>0</td>\n",
       "      <td>1</td>\n",
       "      <td>0</td>\n",
       "      <td>0</td>\n",
       "      <td>0</td>\n",
       "    </tr>\n",
       "    <tr>\n",
       "      <th>1</th>\n",
       "      <td>2015.0</td>\n",
       "      <td>41000.0</td>\n",
       "      <td>19.67</td>\n",
       "      <td>1582.0</td>\n",
       "      <td>126.20</td>\n",
       "      <td>5.0</td>\n",
       "      <td>16.060</td>\n",
       "      <td>1</td>\n",
       "      <td>0</td>\n",
       "      <td>0</td>\n",
       "      <td>0</td>\n",
       "      <td>1</td>\n",
       "      <td>0</td>\n",
       "      <td>0</td>\n",
       "      <td>0</td>\n",
       "    </tr>\n",
       "    <tr>\n",
       "      <th>2</th>\n",
       "      <td>2011.0</td>\n",
       "      <td>46000.0</td>\n",
       "      <td>18.20</td>\n",
       "      <td>1199.0</td>\n",
       "      <td>88.70</td>\n",
       "      <td>5.0</td>\n",
       "      <td>8.610</td>\n",
       "      <td>0</td>\n",
       "      <td>0</td>\n",
       "      <td>0</td>\n",
       "      <td>1</td>\n",
       "      <td>1</td>\n",
       "      <td>0</td>\n",
       "      <td>0</td>\n",
       "      <td>0</td>\n",
       "    </tr>\n",
       "    <tr>\n",
       "      <th>3</th>\n",
       "      <td>2012.0</td>\n",
       "      <td>87000.0</td>\n",
       "      <td>20.77</td>\n",
       "      <td>1248.0</td>\n",
       "      <td>88.76</td>\n",
       "      <td>5.0</td>\n",
       "      <td>11.270</td>\n",
       "      <td>1</td>\n",
       "      <td>0</td>\n",
       "      <td>0</td>\n",
       "      <td>0</td>\n",
       "      <td>1</td>\n",
       "      <td>0</td>\n",
       "      <td>0</td>\n",
       "      <td>0</td>\n",
       "    </tr>\n",
       "    <tr>\n",
       "      <th>4</th>\n",
       "      <td>2013.0</td>\n",
       "      <td>40670.0</td>\n",
       "      <td>15.20</td>\n",
       "      <td>1968.0</td>\n",
       "      <td>140.80</td>\n",
       "      <td>5.0</td>\n",
       "      <td>42.405</td>\n",
       "      <td>1</td>\n",
       "      <td>0</td>\n",
       "      <td>0</td>\n",
       "      <td>0</td>\n",
       "      <td>0</td>\n",
       "      <td>0</td>\n",
       "      <td>1</td>\n",
       "      <td>0</td>\n",
       "    </tr>\n",
       "    <tr>\n",
       "      <th>...</th>\n",
       "      <td>...</td>\n",
       "      <td>...</td>\n",
       "      <td>...</td>\n",
       "      <td>...</td>\n",
       "      <td>...</td>\n",
       "      <td>...</td>\n",
       "      <td>...</td>\n",
       "      <td>...</td>\n",
       "      <td>...</td>\n",
       "      <td>...</td>\n",
       "      <td>...</td>\n",
       "      <td>...</td>\n",
       "      <td>...</td>\n",
       "      <td>...</td>\n",
       "      <td>...</td>\n",
       "    </tr>\n",
       "    <tr>\n",
       "      <th>7248</th>\n",
       "      <td>2011.0</td>\n",
       "      <td>89411.0</td>\n",
       "      <td>20.54</td>\n",
       "      <td>1598.0</td>\n",
       "      <td>103.60</td>\n",
       "      <td>5.0</td>\n",
       "      <td>13.230</td>\n",
       "      <td>1</td>\n",
       "      <td>0</td>\n",
       "      <td>0</td>\n",
       "      <td>0</td>\n",
       "      <td>1</td>\n",
       "      <td>0</td>\n",
       "      <td>0</td>\n",
       "      <td>0</td>\n",
       "    </tr>\n",
       "    <tr>\n",
       "      <th>7249</th>\n",
       "      <td>2015.0</td>\n",
       "      <td>59000.0</td>\n",
       "      <td>17.21</td>\n",
       "      <td>1197.0</td>\n",
       "      <td>103.60</td>\n",
       "      <td>5.0</td>\n",
       "      <td>10.150</td>\n",
       "      <td>0</td>\n",
       "      <td>0</td>\n",
       "      <td>0</td>\n",
       "      <td>1</td>\n",
       "      <td>0</td>\n",
       "      <td>0</td>\n",
       "      <td>0</td>\n",
       "      <td>0</td>\n",
       "    </tr>\n",
       "    <tr>\n",
       "      <th>7250</th>\n",
       "      <td>2012.0</td>\n",
       "      <td>28000.0</td>\n",
       "      <td>23.08</td>\n",
       "      <td>1461.0</td>\n",
       "      <td>63.10</td>\n",
       "      <td>5.0</td>\n",
       "      <td>9.470</td>\n",
       "      <td>1</td>\n",
       "      <td>0</td>\n",
       "      <td>0</td>\n",
       "      <td>0</td>\n",
       "      <td>1</td>\n",
       "      <td>0</td>\n",
       "      <td>0</td>\n",
       "      <td>0</td>\n",
       "    </tr>\n",
       "    <tr>\n",
       "      <th>7251</th>\n",
       "      <td>2013.0</td>\n",
       "      <td>52262.0</td>\n",
       "      <td>17.20</td>\n",
       "      <td>1197.0</td>\n",
       "      <td>103.60</td>\n",
       "      <td>5.0</td>\n",
       "      <td>10.150</td>\n",
       "      <td>0</td>\n",
       "      <td>0</td>\n",
       "      <td>0</td>\n",
       "      <td>1</td>\n",
       "      <td>0</td>\n",
       "      <td>0</td>\n",
       "      <td>0</td>\n",
       "      <td>1</td>\n",
       "    </tr>\n",
       "    <tr>\n",
       "      <th>7252</th>\n",
       "      <td>2014.0</td>\n",
       "      <td>72443.0</td>\n",
       "      <td>10.00</td>\n",
       "      <td>2148.0</td>\n",
       "      <td>170.00</td>\n",
       "      <td>5.0</td>\n",
       "      <td>42.405</td>\n",
       "      <td>1</td>\n",
       "      <td>0</td>\n",
       "      <td>0</td>\n",
       "      <td>0</td>\n",
       "      <td>0</td>\n",
       "      <td>0</td>\n",
       "      <td>0</td>\n",
       "      <td>0</td>\n",
       "    </tr>\n",
       "  </tbody>\n",
       "</table>\n",
       "<p>7253 rows × 15 columns</p>\n",
       "</div>"
      ],
      "text/plain": [
       "        Year  Kilometers_Driven  Mileage  Engine   Power  Seats  New_Price  \\\n",
       "0     2010.0            72000.0    29.86   998.0   58.16    5.0      5.510   \n",
       "1     2015.0            41000.0    19.67  1582.0  126.20    5.0     16.060   \n",
       "2     2011.0            46000.0    18.20  1199.0   88.70    5.0      8.610   \n",
       "3     2012.0            87000.0    20.77  1248.0   88.76    5.0     11.270   \n",
       "4     2013.0            40670.0    15.20  1968.0  140.80    5.0     42.405   \n",
       "...      ...                ...      ...     ...     ...    ...        ...   \n",
       "7248  2011.0            89411.0    20.54  1598.0  103.60    5.0     13.230   \n",
       "7249  2015.0            59000.0    17.21  1197.0  103.60    5.0     10.150   \n",
       "7250  2012.0            28000.0    23.08  1461.0   63.10    5.0      9.470   \n",
       "7251  2013.0            52262.0    17.20  1197.0  103.60    5.0     10.150   \n",
       "7252  2014.0            72443.0    10.00  2148.0  170.00    5.0     42.405   \n",
       "\n",
       "      Fuel_Type_Diesel  Fuel_Type_Electric  Fuel_Type_LPG  Fuel_Type_Petrol  \\\n",
       "0                    0                   0              0                 0   \n",
       "1                    1                   0              0                 0   \n",
       "2                    0                   0              0                 1   \n",
       "3                    1                   0              0                 0   \n",
       "4                    1                   0              0                 0   \n",
       "...                ...                 ...            ...               ...   \n",
       "7248                 1                   0              0                 0   \n",
       "7249                 0                   0              0                 1   \n",
       "7250                 1                   0              0                 0   \n",
       "7251                 0                   0              0                 1   \n",
       "7252                 1                   0              0                 0   \n",
       "\n",
       "      Transmission_Manual  Owner_Type_Fourth & Above  Owner_Type_Second  \\\n",
       "0                       1                          0                  0   \n",
       "1                       1                          0                  0   \n",
       "2                       1                          0                  0   \n",
       "3                       1                          0                  0   \n",
       "4                       0                          0                  1   \n",
       "...                   ...                        ...                ...   \n",
       "7248                    1                          0                  0   \n",
       "7249                    0                          0                  0   \n",
       "7250                    1                          0                  0   \n",
       "7251                    0                          0                  0   \n",
       "7252                    0                          0                  0   \n",
       "\n",
       "      Owner_Type_Third  \n",
       "0                    0  \n",
       "1                    0  \n",
       "2                    0  \n",
       "3                    0  \n",
       "4                    0  \n",
       "...                ...  \n",
       "7248                 0  \n",
       "7249                 0  \n",
       "7250                 0  \n",
       "7251                 1  \n",
       "7252                 0  \n",
       "\n",
       "[7253 rows x 15 columns]"
      ]
     },
     "execution_count": 85,
     "metadata": {},
     "output_type": "execute_result"
    }
   ],
   "source": [
    "# Creating dummies for the x-axis variabes.\n",
    "\n",
    "x = pd.get_dummies(x, drop_first= True)\n",
    "\n",
    "x"
   ]
  },
  {
   "cell_type": "markdown",
   "id": "ca0e0f9b",
   "metadata": {},
   "source": [
    "- The data or values in each feature (variable) have been transformed."
   ]
  },
  {
   "cell_type": "code",
   "execution_count": null,
   "id": "9288dae3",
   "metadata": {},
   "outputs": [],
   "source": []
  },
  {
   "cell_type": "code",
   "execution_count": 86,
   "id": "bd2a7076",
   "metadata": {},
   "outputs": [],
   "source": [
    "# Splitting the data into training and testing\n",
    "\n",
    "x_train, x_test, y_train, y_test = train_test_split(x,y, train_size= 0.8, random_state= 0)"
   ]
  },
  {
   "cell_type": "markdown",
   "id": "3f9fadf6",
   "metadata": {},
   "source": [
    "- The data have been split into trained and test datasets with a raio of 80:20 respectively."
   ]
  },
  {
   "cell_type": "code",
   "execution_count": null,
   "id": "7295aa2d",
   "metadata": {},
   "outputs": [],
   "source": []
  },
  {
   "cell_type": "code",
   "execution_count": 87,
   "id": "ce4eb86a",
   "metadata": {},
   "outputs": [],
   "source": [
    "# Normalizing the data.\n",
    "\n",
    "scaled = StandardScaler()\n",
    "\n",
    "x_train_sc = scaled.fit_transform(x_train)\n",
    "\n",
    "x_test_sc = scaled.transform(x_test)"
   ]
  },
  {
   "cell_type": "markdown",
   "id": "40e03e19",
   "metadata": {},
   "source": [
    "- The data or values in each feature (variable) have been normalized (placed within an equal or similar scale of shorter range)."
   ]
  },
  {
   "cell_type": "code",
   "execution_count": null,
   "id": "89d47878",
   "metadata": {},
   "outputs": [],
   "source": []
  },
  {
   "cell_type": "code",
   "execution_count": 88,
   "id": "bb6ab7b5",
   "metadata": {},
   "outputs": [
    {
     "data": {
      "text/plain": [
       "LinearRegression()"
      ]
     },
     "execution_count": 88,
     "metadata": {},
     "output_type": "execute_result"
    }
   ],
   "source": [
    "# Training and building the linear regression model.\n",
    "\n",
    "lin_reg = LinearRegression()\n",
    "\n",
    "lin_reg.fit(x_train_sc, y_train)"
   ]
  },
  {
   "cell_type": "markdown",
   "id": "54c38247",
   "metadata": {},
   "source": [
    "- The model has been successfully built."
   ]
  },
  {
   "cell_type": "code",
   "execution_count": null,
   "id": "0412849f",
   "metadata": {},
   "outputs": [],
   "source": []
  },
  {
   "cell_type": "markdown",
   "id": "16a3f2f3",
   "metadata": {},
   "source": [
    "# Checking the coefficients of the parameters of the model"
   ]
  },
  {
   "cell_type": "code",
   "execution_count": 97,
   "id": "a74eacb3",
   "metadata": {},
   "outputs": [
    {
     "data": {
      "text/plain": [
       "array([ 3.14265006e-01, -1.62466774e-02, -1.70996080e-02,  8.55015972e-02,\n",
       "        1.61758369e-01, -4.16333634e-17,  2.55224534e-01,  7.90513152e-02,\n",
       "        1.90613679e-02,  5.99962289e-03,  1.30358624e-02, -3.84945195e-02,\n",
       "        5.05456255e-04, -3.51918849e-02, -3.75566819e-02])"
      ]
     },
     "execution_count": 97,
     "metadata": {},
     "output_type": "execute_result"
    }
   ],
   "source": [
    "# Coefficients of the model\n",
    "\n",
    "lin_reg.coef_"
   ]
  },
  {
   "cell_type": "markdown",
   "id": "982c6dba",
   "metadata": {},
   "source": [
    "- For one unit increase in any of the respective variables while the other variables remain unchanged, the log of the price (log_price) of a used car would either increase (for positive values) or decrease (for negative values) by the corresponding value.\n",
    "- As the \"Year\" (manufacturing year  or indirectly how new is the car) of the car increases by 1, the log of the price (\"log_price\") of a used car would increase by 3.14 of the appropriate currency if other variables remain the same (unchanged).\n",
    "\n",
    "- As the price of a new car (\"New_Price\") increases by 1 unit of the corresponding currency, the log of the price (\"log_price\") of a used car would appreciate by 2.55 of that same currency if other variables remain the same (unchanged). This means that used cars have more demand or market values than the new cars.\n",
    "\n",
    "- As the \"Kilometers_Driven\" in a car increases by 1 unit, the log of the price (\"log_price\") of that car (used car) would decrease or depreciate by 1.62 of the corresponding currency if other variables remain the same (unchanged). This means that the more a car has been droven, the less its market or pricing value.\n",
    "\n",
    "- As the \"Mileage\" (the distance the car has covered or travelled) of a car increases by 1 unit, the log of the price (\"log_price\") of that car (used car) decrease or depreciate by 1.71 of the relevant currency, as long as other variables remain fixed (the same). This implies that the more the distance a car has travelled, its market or pricing value reduces or decreases.\n",
    "\n",
    "- Similar comparisons can be made for the other variables and features."
   ]
  },
  {
   "cell_type": "code",
   "execution_count": null,
   "id": "36943565",
   "metadata": {},
   "outputs": [],
   "source": []
  },
  {
   "cell_type": "code",
   "execution_count": 91,
   "id": "4e279b29",
   "metadata": {},
   "outputs": [
    {
     "data": {
      "text/plain": [
       "Index(['Year', 'Kilometers_Driven', 'Mileage', 'Engine', 'Power', 'Seats',\n",
       "       'New_Price', 'Fuel_Type_Diesel', 'Fuel_Type_Electric', 'Fuel_Type_LPG',\n",
       "       'Fuel_Type_Petrol', 'Transmission_Manual', 'Owner_Type_Fourth & Above',\n",
       "       'Owner_Type_Second', 'Owner_Type_Third'],\n",
       "      dtype='object')"
      ]
     },
     "execution_count": 91,
     "metadata": {},
     "output_type": "execute_result"
    }
   ],
   "source": [
    "# Checking the columns in the x-variable or dataset\n",
    "\n",
    "x.columns"
   ]
  },
  {
   "cell_type": "code",
   "execution_count": null,
   "id": "f48dfe6a",
   "metadata": {},
   "outputs": [],
   "source": []
  },
  {
   "cell_type": "markdown",
   "id": "4de69423",
   "metadata": {},
   "source": [
    "# Checking the performance of the model"
   ]
  },
  {
   "cell_type": "code",
   "execution_count": 93,
   "id": "51b21998",
   "metadata": {},
   "outputs": [],
   "source": [
    "# Defining the necessary functions\n",
    "\n",
    "# function to compute adjusted R-squared\n",
    "def adj_r2_score(predictors, targets, predictions):\n",
    "    r2 = r2_score(targets, predictions)\n",
    "    n = predictors.shape[0]\n",
    "    k = predictors.shape[1]\n",
    "    return 1 - ((1 - r2) * (n - 1) / (n - k - 1))\n",
    "\n",
    "\n",
    "# function to compute MAPE\n",
    "def mape_score(targets, predictions):\n",
    "    return np.mean(np.abs(targets - predictions) / targets) * 100\n",
    "\n",
    "\n",
    "# function to compute different metrics to check performance of a regression model\n",
    "def model_performance_regression(model, predictors, target):\n",
    "    \"\"\"\n",
    "    Function to compute different metrics to check regression model performance\n",
    "\n",
    "    model: regressor\n",
    "    predictors: independent variables\n",
    "    target: dependent variable\n",
    "    \"\"\"\n",
    "\n",
    "    # predicting using the independent variables\n",
    "    pred = model.predict(predictors)\n",
    "\n",
    "    r2 = r2_score(target, pred)  # to compute R-squared\n",
    "    adjr2 = adj_r2_score(predictors, target, pred)  # to compute adjusted R-squared\n",
    "    rmse = np.sqrt(mean_squared_error(target, pred))  # to compute RMSE\n",
    "    mae = mean_absolute_error(target, pred)  # to compute MAE\n",
    "    mape = mape_score(target, pred)  # to compute MAPE\n",
    "\n",
    "    # creating a dataframe of metrics\n",
    "    df_perf = pd.DataFrame(\n",
    "        {\n",
    "            \"RMSE\": rmse,\n",
    "            \"MAE\": mae,\n",
    "            \"R-squared\": r2,\n",
    "            \"Adj. R-squared\": adjr2,\n",
    "            \"MAPE\": mape\n",
    "        },\n",
    "        index=[0],\n",
    "    )\n",
    "\n",
    "    return df_perf"
   ]
  },
  {
   "cell_type": "code",
   "execution_count": null,
   "id": "dca74cf5",
   "metadata": {},
   "outputs": [],
   "source": []
  },
  {
   "cell_type": "code",
   "execution_count": 94,
   "id": "5f9c0719",
   "metadata": {},
   "outputs": [
    {
     "data": {
      "text/html": [
       "<div>\n",
       "<style scoped>\n",
       "    .dataframe tbody tr th:only-of-type {\n",
       "        vertical-align: middle;\n",
       "    }\n",
       "\n",
       "    .dataframe tbody tr th {\n",
       "        vertical-align: top;\n",
       "    }\n",
       "\n",
       "    .dataframe thead th {\n",
       "        text-align: right;\n",
       "    }\n",
       "</style>\n",
       "<table border=\"1\" class=\"dataframe\">\n",
       "  <thead>\n",
       "    <tr style=\"text-align: right;\">\n",
       "      <th></th>\n",
       "      <th>RMSE</th>\n",
       "      <th>MAE</th>\n",
       "      <th>R-squared</th>\n",
       "      <th>Adj. R-squared</th>\n",
       "      <th>MAPE</th>\n",
       "    </tr>\n",
       "  </thead>\n",
       "  <tbody>\n",
       "    <tr>\n",
       "      <th>0</th>\n",
       "      <td>0.359232</td>\n",
       "      <td>0.261975</td>\n",
       "      <td>0.763944</td>\n",
       "      <td>0.763332</td>\n",
       "      <td>23.433162</td>\n",
       "    </tr>\n",
       "  </tbody>\n",
       "</table>\n",
       "</div>"
      ],
      "text/plain": [
       "       RMSE       MAE  R-squared  Adj. R-squared       MAPE\n",
       "0  0.359232  0.261975   0.763944        0.763332  23.433162"
      ]
     },
     "execution_count": 94,
     "metadata": {},
     "output_type": "execute_result"
    }
   ],
   "source": [
    "# Checking the performance of the trained model.\n",
    "\n",
    "train_pf = model_performance_regression(lin_reg, x_train_sc, y_train)\n",
    "\n",
    "train_pf"
   ]
  },
  {
   "cell_type": "markdown",
   "id": "d19aaadd",
   "metadata": {},
   "source": [
    "- Despite the fact that the features or x-variables used in building or training the model did not have high correlation with the target, yet the model performance is relatively ok due to the low root mean squared error (RMSE), mean absolute error (MAE) and the relatively high values of both the coefficient of determinant (R-squared) and the adjusted coefficient of determinant (Adj. R-squared).\n",
    "- The value of the R-squared means that the model is able to interpret or explain about 76.4% of the variation in the price of used cars."
   ]
  },
  {
   "cell_type": "code",
   "execution_count": null,
   "id": "14247b3e",
   "metadata": {},
   "outputs": [],
   "source": []
  },
  {
   "cell_type": "code",
   "execution_count": 96,
   "id": "f3dbe6db",
   "metadata": {},
   "outputs": [
    {
     "data": {
      "text/html": [
       "<div>\n",
       "<style scoped>\n",
       "    .dataframe tbody tr th:only-of-type {\n",
       "        vertical-align: middle;\n",
       "    }\n",
       "\n",
       "    .dataframe tbody tr th {\n",
       "        vertical-align: top;\n",
       "    }\n",
       "\n",
       "    .dataframe thead th {\n",
       "        text-align: right;\n",
       "    }\n",
       "</style>\n",
       "<table border=\"1\" class=\"dataframe\">\n",
       "  <thead>\n",
       "    <tr style=\"text-align: right;\">\n",
       "      <th></th>\n",
       "      <th>RMSE</th>\n",
       "      <th>MAE</th>\n",
       "      <th>R-squared</th>\n",
       "      <th>Adj. R-squared</th>\n",
       "      <th>MAPE</th>\n",
       "    </tr>\n",
       "  </thead>\n",
       "  <tbody>\n",
       "    <tr>\n",
       "      <th>0</th>\n",
       "      <td>0.352979</td>\n",
       "      <td>0.252917</td>\n",
       "      <td>0.760013</td>\n",
       "      <td>0.757505</td>\n",
       "      <td>21.697236</td>\n",
       "    </tr>\n",
       "  </tbody>\n",
       "</table>\n",
       "</div>"
      ],
      "text/plain": [
       "       RMSE       MAE  R-squared  Adj. R-squared       MAPE\n",
       "0  0.352979  0.252917   0.760013        0.757505  21.697236"
      ]
     },
     "execution_count": 96,
     "metadata": {},
     "output_type": "execute_result"
    }
   ],
   "source": [
    "# Checking the performance of the test model\n",
    "\n",
    "test_pf = model_performance_regression(lin_reg, x_test_sc, y_test)\n",
    "\n",
    "test_pf"
   ]
  },
  {
   "cell_type": "markdown",
   "id": "7168e8fe",
   "metadata": {},
   "source": [
    "- The errors the model made in the test data was a little low compared to that of the trained data.\n",
    "\n",
    "- The value of the R-squared means that the model is able to interpret or explain about 76% of the variation in the price of used cars.\n",
    "\n",
    "- Also, the performances of the model relative to the coefficient of determinant (R-squared) and the adjusted coefficient of determinant (Adj. R-squared) of the test data is somewhat similar (although a bit lower) to the trained data.\n",
    "\n",
    "- This indicates that the model is not overfitting nor underfitting but it generalizes well. So in conclusion, the model is reliable."
   ]
  },
  {
   "cell_type": "code",
   "execution_count": null,
   "id": "d65efa74",
   "metadata": {},
   "outputs": [],
   "source": []
  },
  {
   "cell_type": "markdown",
   "id": "f7f4dc72",
   "metadata": {},
   "source": [
    "# Insights and Recommendations"
   ]
  },
  {
   "cell_type": "markdown",
   "id": "58eeb3f6",
   "metadata": {},
   "source": [
    "- The seats of a car has negative coefficient with the model. Which means customers prefer cars with lesser seats, maybe for pleasure, convenience and more privacy. So the company should shift her attention from cars with more seats.\n",
    "\n",
    "- The company should concenterate more on sales of used cars than new cars, since it has better and higher price increament when evaluated on appropriate margins.\n",
    "\n",
    "- The company should also invest more on cars with manual transmission compared to the automatic cars on a neutral scale. But relative to the the log of the price of used cars, the automatic cars have more values.\n",
    "\n",
    "- Diesel cars have more potentials in the market compared to other \"Fuel_Type\" cars, maybe because is is cheaper to buy diesel or it does not combust faster or perhaps it is highly flammable compared to lets say petrol. This was followed by the petrol fuel_type cars, with electric cars having the least maybe because such cars are relatively expensive or the charging units are not commonly found in many locations or the time it takes to get the car charged. \n",
    "\n",
    "- So the company should focus more on diesel and petrol cars for now, and pay less attention on electric cars.\n",
    "\n",
    "- Second-Owner_type used cars have more demand to other categories of used cars, so the company should pay more attention to how many previous owners has a certain car had, because the more the previous users or owners the lesser the value of the car.\n",
    "\n",
    "- The location does not play any major or significant role with the sales or demand of used cars.\n",
    "\n",
    "- The model is reliable and can be applied to external but advisably similar data structures."
   ]
  },
  {
   "cell_type": "code",
   "execution_count": null,
   "id": "84793681",
   "metadata": {},
   "outputs": [],
   "source": []
  }
 ],
 "metadata": {
  "kernelspec": {
   "display_name": "Python 3 (ipykernel)",
   "language": "python",
   "name": "python3"
  },
  "language_info": {
   "codemirror_mode": {
    "name": "ipython",
    "version": 3
   },
   "file_extension": ".py",
   "mimetype": "text/x-python",
   "name": "python",
   "nbconvert_exporter": "python",
   "pygments_lexer": "ipython3",
   "version": "3.9.13"
  }
 },
 "nbformat": 4,
 "nbformat_minor": 5
}
